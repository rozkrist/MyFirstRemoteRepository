{
 "cells": [
  {
   "cell_type": "code",
   "execution_count": null,
   "id": "6593fe37",
   "metadata": {},
   "outputs": [],
   "source": [
    "import pandas as pd\n",
    "import requests\n",
    "import csv"
   ]
  },
  {
   "cell_type": "code",
   "execution_count": 1,
   "id": "08e3b8a1",
   "metadata": {},
   "outputs": [],
   "source": [
    "url = \"https://www.kaggle.com/code/avikumart/world-university-rankings-data-viz/input?select=2022_rankings.csv\""
   ]
  },
  {
   "cell_type": "code",
   "execution_count": null,
   "id": "12e1b3a6",
   "metadata": {},
   "outputs": [],
   "source": [
    "# response = requests.get(url)\n",
    "# data = response.iter_lines()\n",
    "# data_table = pd.read_csv(r\"https://www.kaggle.com/code/avikumart/world-university-rankings-data-viz/input?select=2022_rankings.csv\")"
   ]
  },
  {
   "cell_type": "code",
   "execution_count": null,
   "id": "cce66536",
   "metadata": {},
   "outputs": [],
   "source": [
    "#df_rankings22.dropna()"
   ]
  },
  {
   "cell_type": "code",
   "execution_count": null,
   "id": "b9192059",
   "metadata": {},
   "outputs": [],
   "source": [
    "import seaborn as sns"
   ]
  },
  {
   "cell_type": "code",
   "execution_count": null,
   "id": "1386348f",
   "metadata": {},
   "outputs": [],
   "source": [
    "# data = df_rankings22.head(10)\n",
    "# data_list = data[[\"name\",\"scores_overall\"]]\n",
    "# data_list"
   ]
  },
  {
   "cell_type": "code",
   "execution_count": null,
   "id": "5ddc4ad6",
   "metadata": {},
   "outputs": [],
   "source": [
    "#Top 10 universities by scores\n",
    "data = df_rankings22.head(10)\n",
    "data_list = data[[\"name\",\"scores_overall\"]]"
   ]
  },
  {
   "cell_type": "code",
   "execution_count": null,
   "id": "30386e09",
   "metadata": {},
   "outputs": [],
   "source": [
    "data = df_rankings22.head(10)\n",
    "data_list = data[[\"name\",\"scores_overall\"]]"
   ]
  },
  {
   "cell_type": "code",
   "execution_count": 2,
   "id": "27bd2ccc",
   "metadata": {},
   "outputs": [
    {
     "ename": "SyntaxError",
     "evalue": "invalid syntax (1399775588.py, line 20)",
     "output_type": "error",
     "traceback": [
      "\u001b[1;36m  Cell \u001b[1;32mIn[2], line 20\u001b[1;36m\u001b[0m\n\u001b[1;33m    make data:\u001b[0m\n\u001b[1;37m         ^\u001b[0m\n\u001b[1;31mSyntaxError\u001b[0m\u001b[1;31m:\u001b[0m invalid syntax\n"
     ]
    }
   ],
   "source": [
    "data_list = {}\n",
    "# creating the dataset\n",
    "data = {'C':20, 'C++':15, 'Java':30,\n",
    "        'Python':35}\n",
    "courses = list(data.keys())\n",
    "values = list(data.values())\n",
    "  \n",
    "fig = plt.figure(figsize = (10, 5))\n",
    " \n",
    "# creating the bar plot\n",
    "plt.bar(courses, values, color ='maroon',\n",
    "        width = 0.4)\n",
    " \n",
    "plt.xlabel(\"Courses offered\")\n",
    "plt.ylabel(\"No. of students enrolled\")\n",
    "plt.title(\"Students enrolled in different courses\")\n",
    "plt.show()\n",
    "\n",
    "\n",
    "make data:\n",
    "np.random.seed(3)\n",
    "x = 0.5 + np.arange(8)\n",
    "y = np.random.uniform(2, 7, len(x))\n",
    "\n",
    "# plot\n",
    "fig, ax = plt.subplots()\n",
    "\n",
    "ax.bar(x, y, width=1, edgecolor=\"white\", linewidth=0.7)\n",
    "\n",
    "ax.set(xlim=(0, 8), xticks=np.arange(1, 8),\n",
    "       ylim=(0, 8), yticks=np.arange(1, 8))\n",
    "\n",
    "plt.show()"
   ]
  },
  {
   "cell_type": "code",
   "execution_count": null,
   "id": "352a24a3",
   "metadata": {},
   "outputs": [],
   "source": [
    "pl.hist(x=data_list[\"name\"], width=0.25, bins=10, color = \"yellow\", ec = \"white\")\n",
    "pl.title(\"TOP 10 Universities by scores\", color =\"grey\", fontweight = \"14\")\n",
    "pl.ylabel(\"Scores\", color=\"grey\")\n",
    "pl.xlabel(\"The name of the University\", color=\"grey\")\n",
    "pl.xticks(rotation=45, ha=\"right\")"
   ]
  },
  {
   "cell_type": "code",
   "execution_count": null,
   "id": "57eef970",
   "metadata": {},
   "outputs": [],
   "source": [
    "#taking only specific data from the dataframe\n",
    "data = df_rankings22.head(10)\n",
    "data_list = data[[\"name\"]]\n",
    "data_list"
   ]
  },
  {
   "cell_type": "code",
   "execution_count": null,
   "id": "1e7212e3",
   "metadata": {},
   "outputs": [],
   "source": [
    "import numpy as np\n",
    "import matplotlib.pyplot as pl\n",
    "import seaborn as sns"
   ]
  },
  {
   "cell_type": "code",
   "execution_count": null,
   "id": "21d3bfd3",
   "metadata": {},
   "outputs": [],
   "source": [
    "pl.plot(x=\"name\", y= [20, 40, 60, 80,100],\n",
    "            hue =\"scores_teaching\",\n",
    "            data = df_rankings22.head(10))\n",
    "\n",
    "pl.title(\"Scores Teaching\", color =\"grey\", fontweight = \"14\")\n",
    "pl.ylabel(\"Scores\", color=\"grey\")\n",
    "pl.xlabel(\" Scores Teaching\", color=\"grey\")\n",
    "pl.xticks(rotation=45, ha=\"right\")\n",
    "\n",
    "pl.show()          "
   ]
  },
  {
   "cell_type": "code",
   "execution_count": null,
   "id": "ba259b29",
   "metadata": {},
   "outputs": [],
   "source": [
    "df_rankings22.plot(kind=\"bar\", stacked = True)"
   ]
  },
  {
   "cell_type": "code",
   "execution_count": null,
   "id": "3101248d",
   "metadata": {},
   "outputs": [],
   "source": [
    "# df_rankings22.head()\n",
    "# df = pd.DataFrame(df_rankings22)\n",
    "# name = df[\"name\"].head(10)\n",
    "# scores = df[\"scores_research\", \"scores_teaching\"].head(10)\n",
    "\n",
    "# pl.bar(name[0:100], scores[0:100], width=0.75)\n",
    "\n",
    "# pl.title(\"TOP 10 Universities Research vs Teaching Scoresw\", color =\"grey\", fontweight = \"14\")\n",
    "# pl.ylabel(\"Scores\", color=\"grey\")\n",
    "# pl.xlabel(\"The name of the University\", color=\"grey\")\n",
    "# pl.xticks(rotation=45, ha=\"right\")"
   ]
  },
  {
   "cell_type": "code",
   "execution_count": null,
   "id": "5762dbc1",
   "metadata": {},
   "outputs": [],
   "source": [
    "# sns.barplot(x=\"name\", y= [20, 40, 60, 80,100],\n",
    "\n",
    "           hue =\"scores_teaching\",\n",
    "            data = df_rankings22.head(10))\n",
    "\n",
    "pl.title(\"Scores Teaching\", color =\"grey\", fontweight = \"14\")\n",
    "pl.ylabel(\"Scores\", color=\"grey\")\n",
    "pl.xlabel(\" Scores Teaching\", color=\"grey\")\n",
    "pl.xticks(rotation=45, ha=\"right\")\n",
    "pl.figure(figsize = (10, 150))\n",
    "\n",
    "\n",
    "# pl.show()          "
   ]
  },
  {
   "cell_type": "code",
   "execution_count": 3,
   "id": "c88b9586",
   "metadata": {},
   "outputs": [
    {
     "ename": "SyntaxError",
     "evalue": "invalid syntax (1134697895.py, line 2)",
     "output_type": "error",
     "traceback": [
      "\u001b[1;36m  Cell \u001b[1;32mIn[3], line 2\u001b[1;36m\u001b[0m\n\u001b[1;33m    df[[\"stats_female_male_ratio\"]] = df.2022.head(20).str.split(\"_\", expand = True)\u001b[0m\n\u001b[1;37m                                        ^\u001b[0m\n\u001b[1;31mSyntaxError\u001b[0m\u001b[1;31m:\u001b[0m invalid syntax\n"
     ]
    }
   ],
   "source": [
    "# Example 1: Split column of lists into two new columns\n",
    "df[[\"stats_female_male_ratio\"]] = df.2022.head(20).str.split(\"_\", expand = True)\n",
    "\n",
    "# Example 2: Split single column into two columns use ',' delimiter\n",
    "df[['First Name', 'Last Name']] = df.Student_details.str.split(\",\", expand = True)\n",
    "\n",
    "# Example 3: Split single column into two columns use ',' delimiter\n",
    "df[['First Name', 'Last Name']] = df.Student_details.str.split(\",\", expand = True)\n",
    "\n",
    "# Example 4: Split single column into two columns use apply()\n",
    "df[['First Name', 'Last Name']] = df[\"Student_details\"].apply(lambda x: pd.Series(str(x).split(\",\")))\n",
    "\n",
    "# Example 5: # Split single column into two columns use apply()\n",
    "df[['First Name', 'Last Name']] = df[\"Student_details\"].apply(lambda x: pd.Series(str(x).split(\"_\")))\n"
   ]
  },
  {
   "cell_type": "code",
   "execution_count": null,
   "id": "0d1906c6",
   "metadata": {},
   "outputs": [],
   "source": [
    "fig = px.bar(df.head(20), x=\"name\", y=\"\tstats_female_male_ratio\",\n",
    "             hover_data=[\"female_ratio\", \"male_ratio\"],\n",
    "             labels={\"female_ratio\":\"Female\", \"male_ratio\":\"Male\"}, height=400, title=\"Female vs Male Ratio\")\n",
    "\n",
    "fig.show()"
   ]
  },
  {
   "cell_type": "code",
   "execution_count": null,
   "id": "ad66b7d9",
   "metadata": {},
   "outputs": [],
   "source": [
    "fig.update_yaxes(autorange=\"reversed\")\n",
    "fig.update_xaxes(autorange=\"reversed\")"
   ]
  }
 ],
 "metadata": {
  "kernelspec": {
   "display_name": "Python 3 (ipykernel)",
   "language": "python",
   "name": "python3"
  },
  "language_info": {
   "codemirror_mode": {
    "name": "ipython",
    "version": 3
   },
   "file_extension": ".py",
   "mimetype": "text/x-python",
   "name": "python",
   "nbconvert_exporter": "python",
   "pygments_lexer": "ipython3",
   "version": "3.11.2"
  }
 },
 "nbformat": 4,
 "nbformat_minor": 5
}
