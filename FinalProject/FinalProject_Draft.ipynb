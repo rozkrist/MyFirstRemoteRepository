{
 "cells": [
  {
   "cell_type": "markdown",
   "id": "c4ee4acb",
   "metadata": {},
   "source": [
    "READ THE DATA"
   ]
  },
  {
   "cell_type": "code",
   "execution_count": 371,
   "id": "2b7615fc",
   "metadata": {},
   "outputs": [],
   "source": [
    "# Import the necessary libraries;\n",
    "import pandas as pd\n",
    "import numpy as np\n",
    "import matplotlib.pyplot as pl\n",
    "import seaborn as sns\n",
    "import plotly.express as px "
   ]
  },
  {
   "cell_type": "code",
   "execution_count": 372,
   "id": "b8ae9646",
   "metadata": {},
   "outputs": [],
   "source": [
    "# Reading a csv file with pandas from kaggle.com website (https://www.kaggle.com/datasets/r1chardson/the-world-university-rankings-2011-2023)\n",
    "df_2022 = pd.read_csv(r\"C:\\Users\\krent\\OneDrive\\Desktop\\SGT_FinalProject\\2022_rankings.csv\\2022_rankings.csv\")  "
   ]
  },
  {
   "cell_type": "code",
   "execution_count": 373,
   "id": "da35ac4c",
   "metadata": {
    "scrolled": true
   },
   "outputs": [
    {
     "data": {
      "text/html": [
       "<div>\n",
       "<style scoped>\n",
       "    .dataframe tbody tr th:only-of-type {\n",
       "        vertical-align: middle;\n",
       "    }\n",
       "\n",
       "    .dataframe tbody tr th {\n",
       "        vertical-align: top;\n",
       "    }\n",
       "\n",
       "    .dataframe thead th {\n",
       "        text-align: right;\n",
       "    }\n",
       "</style>\n",
       "<table border=\"1\" class=\"dataframe\">\n",
       "  <thead>\n",
       "    <tr style=\"text-align: right;\">\n",
       "      <th></th>\n",
       "      <th>rank_order</th>\n",
       "      <th>rank</th>\n",
       "      <th>name</th>\n",
       "      <th>scores_overall</th>\n",
       "      <th>scores_overall_rank</th>\n",
       "      <th>scores_teaching</th>\n",
       "      <th>scores_teaching_rank</th>\n",
       "      <th>scores_research</th>\n",
       "      <th>scores_research_rank</th>\n",
       "      <th>scores_citations</th>\n",
       "      <th>...</th>\n",
       "      <th>scores_international_outlook_rank</th>\n",
       "      <th>location</th>\n",
       "      <th>stats_number_students</th>\n",
       "      <th>stats_student_staff_ratio</th>\n",
       "      <th>stats_pc_intl_students</th>\n",
       "      <th>stats_female_male_ratio</th>\n",
       "      <th>aliases</th>\n",
       "      <th>subjects_offered</th>\n",
       "      <th>closed</th>\n",
       "      <th>unaccredited</th>\n",
       "    </tr>\n",
       "  </thead>\n",
       "  <tbody>\n",
       "    <tr>\n",
       "      <th>0</th>\n",
       "      <td>10</td>\n",
       "      <td>1</td>\n",
       "      <td>University of Oxford</td>\n",
       "      <td>95.7</td>\n",
       "      <td>10</td>\n",
       "      <td>91.0</td>\n",
       "      <td>5</td>\n",
       "      <td>99.6</td>\n",
       "      <td>1</td>\n",
       "      <td>98.0</td>\n",
       "      <td>...</td>\n",
       "      <td>26</td>\n",
       "      <td>United Kingdom</td>\n",
       "      <td>20,835</td>\n",
       "      <td>10.7</td>\n",
       "      <td>42%</td>\n",
       "      <td>47 : 53</td>\n",
       "      <td>University of Oxford</td>\n",
       "      <td>Accounting &amp; Finance,General Engineering,Commu...</td>\n",
       "      <td>False</td>\n",
       "      <td>False</td>\n",
       "    </tr>\n",
       "    <tr>\n",
       "      <th>1</th>\n",
       "      <td>20</td>\n",
       "      <td>=2</td>\n",
       "      <td>California Institute of Technology</td>\n",
       "      <td>95.0</td>\n",
       "      <td>20</td>\n",
       "      <td>93.6</td>\n",
       "      <td>2</td>\n",
       "      <td>96.9</td>\n",
       "      <td>4</td>\n",
       "      <td>97.8</td>\n",
       "      <td>...</td>\n",
       "      <td>167</td>\n",
       "      <td>United States</td>\n",
       "      <td>2,233</td>\n",
       "      <td>6.3</td>\n",
       "      <td>34%</td>\n",
       "      <td>36 : 64</td>\n",
       "      <td>California Institute of Technology caltech</td>\n",
       "      <td>Languages, Literature &amp; Linguistics,Economics ...</td>\n",
       "      <td>False</td>\n",
       "      <td>False</td>\n",
       "    </tr>\n",
       "    <tr>\n",
       "      <th>2</th>\n",
       "      <td>30</td>\n",
       "      <td>=2</td>\n",
       "      <td>Harvard University</td>\n",
       "      <td>95.0</td>\n",
       "      <td>30</td>\n",
       "      <td>94.5</td>\n",
       "      <td>1</td>\n",
       "      <td>98.9</td>\n",
       "      <td>3</td>\n",
       "      <td>99.2</td>\n",
       "      <td>...</td>\n",
       "      <td>209</td>\n",
       "      <td>United States</td>\n",
       "      <td>21,574</td>\n",
       "      <td>9.5</td>\n",
       "      <td>24%</td>\n",
       "      <td>50 : 50</td>\n",
       "      <td>Harvard University</td>\n",
       "      <td>Mathematics &amp; Statistics,Civil Engineering,Lan...</td>\n",
       "      <td>False</td>\n",
       "      <td>False</td>\n",
       "    </tr>\n",
       "    <tr>\n",
       "      <th>3</th>\n",
       "      <td>40</td>\n",
       "      <td>4</td>\n",
       "      <td>Stanford University</td>\n",
       "      <td>94.9</td>\n",
       "      <td>40</td>\n",
       "      <td>92.3</td>\n",
       "      <td>3</td>\n",
       "      <td>96.8</td>\n",
       "      <td>5</td>\n",
       "      <td>99.9</td>\n",
       "      <td>...</td>\n",
       "      <td>211</td>\n",
       "      <td>United States</td>\n",
       "      <td>16,319</td>\n",
       "      <td>7.3</td>\n",
       "      <td>23%</td>\n",
       "      <td>46 : 54</td>\n",
       "      <td>Stanford University</td>\n",
       "      <td>Physics &amp; Astronomy,Computer Science,Politics ...</td>\n",
       "      <td>False</td>\n",
       "      <td>False</td>\n",
       "    </tr>\n",
       "    <tr>\n",
       "      <th>4</th>\n",
       "      <td>50</td>\n",
       "      <td>=5</td>\n",
       "      <td>University of Cambridge</td>\n",
       "      <td>94.6</td>\n",
       "      <td>50</td>\n",
       "      <td>90.9</td>\n",
       "      <td>6</td>\n",
       "      <td>99.5</td>\n",
       "      <td>2</td>\n",
       "      <td>96.2</td>\n",
       "      <td>...</td>\n",
       "      <td>32</td>\n",
       "      <td>United Kingdom</td>\n",
       "      <td>19,680</td>\n",
       "      <td>11.1</td>\n",
       "      <td>39%</td>\n",
       "      <td>47 : 53</td>\n",
       "      <td>University of Cambridge</td>\n",
       "      <td>Business &amp; Management,General Engineering,Art,...</td>\n",
       "      <td>False</td>\n",
       "      <td>False</td>\n",
       "    </tr>\n",
       "    <tr>\n",
       "      <th>...</th>\n",
       "      <td>...</td>\n",
       "      <td>...</td>\n",
       "      <td>...</td>\n",
       "      <td>...</td>\n",
       "      <td>...</td>\n",
       "      <td>...</td>\n",
       "      <td>...</td>\n",
       "      <td>...</td>\n",
       "      <td>...</td>\n",
       "      <td>...</td>\n",
       "      <td>...</td>\n",
       "      <td>...</td>\n",
       "      <td>...</td>\n",
       "      <td>...</td>\n",
       "      <td>...</td>\n",
       "      <td>...</td>\n",
       "      <td>...</td>\n",
       "      <td>...</td>\n",
       "      <td>...</td>\n",
       "      <td>...</td>\n",
       "      <td>...</td>\n",
       "    </tr>\n",
       "    <tr>\n",
       "      <th>2107</th>\n",
       "      <td>1000446</td>\n",
       "      <td>Reporter</td>\n",
       "      <td>Yaşar University</td>\n",
       "      <td>NaN</td>\n",
       "      <td>1000446</td>\n",
       "      <td>NaN</td>\n",
       "      <td>0</td>\n",
       "      <td>NaN</td>\n",
       "      <td>0</td>\n",
       "      <td>NaN</td>\n",
       "      <td>...</td>\n",
       "      <td>0</td>\n",
       "      <td>Turkey</td>\n",
       "      <td>6,847</td>\n",
       "      <td>13.0</td>\n",
       "      <td>2%</td>\n",
       "      <td>53 : 47</td>\n",
       "      <td>Yaşar University</td>\n",
       "      <td>Art, Performing Arts &amp; Design,Mechanical &amp; Aer...</td>\n",
       "      <td>False</td>\n",
       "      <td>False</td>\n",
       "    </tr>\n",
       "    <tr>\n",
       "      <th>2108</th>\n",
       "      <td>1000447</td>\n",
       "      <td>Reporter</td>\n",
       "      <td>Yenepoya University</td>\n",
       "      <td>NaN</td>\n",
       "      <td>1000447</td>\n",
       "      <td>NaN</td>\n",
       "      <td>0</td>\n",
       "      <td>NaN</td>\n",
       "      <td>0</td>\n",
       "      <td>NaN</td>\n",
       "      <td>...</td>\n",
       "      <td>0</td>\n",
       "      <td>India</td>\n",
       "      <td>3,104</td>\n",
       "      <td>6.1</td>\n",
       "      <td>0%</td>\n",
       "      <td>67 : 33</td>\n",
       "      <td>Yenepoya University</td>\n",
       "      <td>Medicine &amp; Dentistry,Biological Sciences,Other...</td>\n",
       "      <td>False</td>\n",
       "      <td>False</td>\n",
       "    </tr>\n",
       "    <tr>\n",
       "      <th>2109</th>\n",
       "      <td>1000448</td>\n",
       "      <td>Reporter</td>\n",
       "      <td>Yogyakarta State University</td>\n",
       "      <td>NaN</td>\n",
       "      <td>1000448</td>\n",
       "      <td>NaN</td>\n",
       "      <td>0</td>\n",
       "      <td>NaN</td>\n",
       "      <td>0</td>\n",
       "      <td>NaN</td>\n",
       "      <td>...</td>\n",
       "      <td>0</td>\n",
       "      <td>Indonesia</td>\n",
       "      <td>24,988</td>\n",
       "      <td>20.3</td>\n",
       "      <td>1%</td>\n",
       "      <td>72 : 28</td>\n",
       "      <td>Yogyakarta State University</td>\n",
       "      <td>Civil Engineering,Physics &amp; Astronomy,Educatio...</td>\n",
       "      <td>False</td>\n",
       "      <td>False</td>\n",
       "    </tr>\n",
       "    <tr>\n",
       "      <th>2110</th>\n",
       "      <td>1000449</td>\n",
       "      <td>Reporter</td>\n",
       "      <td>York St John University</td>\n",
       "      <td>NaN</td>\n",
       "      <td>1000449</td>\n",
       "      <td>NaN</td>\n",
       "      <td>0</td>\n",
       "      <td>NaN</td>\n",
       "      <td>0</td>\n",
       "      <td>NaN</td>\n",
       "      <td>...</td>\n",
       "      <td>0</td>\n",
       "      <td>United Kingdom</td>\n",
       "      <td>6,030</td>\n",
       "      <td>18.0</td>\n",
       "      <td>8%</td>\n",
       "      <td>66 : 34</td>\n",
       "      <td>York St John University</td>\n",
       "      <td>Biological Sciences,General Engineering,Geogra...</td>\n",
       "      <td>False</td>\n",
       "      <td>False</td>\n",
       "    </tr>\n",
       "    <tr>\n",
       "      <th>2111</th>\n",
       "      <td>1000450</td>\n",
       "      <td>Reporter</td>\n",
       "      <td>Ziauddin University</td>\n",
       "      <td>NaN</td>\n",
       "      <td>1000450</td>\n",
       "      <td>NaN</td>\n",
       "      <td>0</td>\n",
       "      <td>NaN</td>\n",
       "      <td>0</td>\n",
       "      <td>NaN</td>\n",
       "      <td>...</td>\n",
       "      <td>0</td>\n",
       "      <td>Pakistan</td>\n",
       "      <td>4,018</td>\n",
       "      <td>9.3</td>\n",
       "      <td>1%</td>\n",
       "      <td>60 : 40</td>\n",
       "      <td>Ziauddin University</td>\n",
       "      <td>Business &amp; Management,Biological Sciences,Medi...</td>\n",
       "      <td>False</td>\n",
       "      <td>False</td>\n",
       "    </tr>\n",
       "  </tbody>\n",
       "</table>\n",
       "<p>2112 rows × 24 columns</p>\n",
       "</div>"
      ],
      "text/plain": [
       "      rank_order      rank                                name scores_overall   \n",
       "0             10         1                University of Oxford           95.7  \\\n",
       "1             20        =2  California Institute of Technology           95.0   \n",
       "2             30        =2                  Harvard University           95.0   \n",
       "3             40         4                 Stanford University           94.9   \n",
       "4             50        =5             University of Cambridge           94.6   \n",
       "...          ...       ...                                 ...            ...   \n",
       "2107     1000446  Reporter                    Yaşar University            NaN   \n",
       "2108     1000447  Reporter                 Yenepoya University            NaN   \n",
       "2109     1000448  Reporter         Yogyakarta State University            NaN   \n",
       "2110     1000449  Reporter             York St John University            NaN   \n",
       "2111     1000450  Reporter                 Ziauddin University            NaN   \n",
       "\n",
       "      scores_overall_rank  scores_teaching  scores_teaching_rank   \n",
       "0                      10             91.0                     5  \\\n",
       "1                      20             93.6                     2   \n",
       "2                      30             94.5                     1   \n",
       "3                      40             92.3                     3   \n",
       "4                      50             90.9                     6   \n",
       "...                   ...              ...                   ...   \n",
       "2107              1000446              NaN                     0   \n",
       "2108              1000447              NaN                     0   \n",
       "2109              1000448              NaN                     0   \n",
       "2110              1000449              NaN                     0   \n",
       "2111              1000450              NaN                     0   \n",
       "\n",
       "      scores_research  scores_research_rank  scores_citations  ...   \n",
       "0                99.6                     1              98.0  ...  \\\n",
       "1                96.9                     4              97.8  ...   \n",
       "2                98.9                     3              99.2  ...   \n",
       "3                96.8                     5              99.9  ...   \n",
       "4                99.5                     2              96.2  ...   \n",
       "...               ...                   ...               ...  ...   \n",
       "2107              NaN                     0               NaN  ...   \n",
       "2108              NaN                     0               NaN  ...   \n",
       "2109              NaN                     0               NaN  ...   \n",
       "2110              NaN                     0               NaN  ...   \n",
       "2111              NaN                     0               NaN  ...   \n",
       "\n",
       "      scores_international_outlook_rank        location   \n",
       "0                                    26  United Kingdom  \\\n",
       "1                                   167   United States   \n",
       "2                                   209   United States   \n",
       "3                                   211   United States   \n",
       "4                                    32  United Kingdom   \n",
       "...                                 ...             ...   \n",
       "2107                                  0          Turkey   \n",
       "2108                                  0           India   \n",
       "2109                                  0       Indonesia   \n",
       "2110                                  0  United Kingdom   \n",
       "2111                                  0        Pakistan   \n",
       "\n",
       "      stats_number_students  stats_student_staff_ratio   \n",
       "0                    20,835                       10.7  \\\n",
       "1                     2,233                        6.3   \n",
       "2                    21,574                        9.5   \n",
       "3                    16,319                        7.3   \n",
       "4                    19,680                       11.1   \n",
       "...                     ...                        ...   \n",
       "2107                  6,847                       13.0   \n",
       "2108                  3,104                        6.1   \n",
       "2109                 24,988                       20.3   \n",
       "2110                  6,030                       18.0   \n",
       "2111                  4,018                        9.3   \n",
       "\n",
       "      stats_pc_intl_students stats_female_male_ratio   \n",
       "0                        42%                 47 : 53  \\\n",
       "1                        34%                 36 : 64   \n",
       "2                        24%                 50 : 50   \n",
       "3                        23%                 46 : 54   \n",
       "4                        39%                 47 : 53   \n",
       "...                      ...                     ...   \n",
       "2107                      2%                 53 : 47   \n",
       "2108                      0%                 67 : 33   \n",
       "2109                      1%                 72 : 28   \n",
       "2110                      8%                 66 : 34   \n",
       "2111                      1%                 60 : 40   \n",
       "\n",
       "                                         aliases   \n",
       "0                           University of Oxford  \\\n",
       "1     California Institute of Technology caltech   \n",
       "2                             Harvard University   \n",
       "3                            Stanford University   \n",
       "4                        University of Cambridge   \n",
       "...                                          ...   \n",
       "2107                            Yaşar University   \n",
       "2108                         Yenepoya University   \n",
       "2109                 Yogyakarta State University   \n",
       "2110                     York St John University   \n",
       "2111                         Ziauddin University   \n",
       "\n",
       "                                       subjects_offered closed unaccredited  \n",
       "0     Accounting & Finance,General Engineering,Commu...  False        False  \n",
       "1     Languages, Literature & Linguistics,Economics ...  False        False  \n",
       "2     Mathematics & Statistics,Civil Engineering,Lan...  False        False  \n",
       "3     Physics & Astronomy,Computer Science,Politics ...  False        False  \n",
       "4     Business & Management,General Engineering,Art,...  False        False  \n",
       "...                                                 ...    ...          ...  \n",
       "2107  Art, Performing Arts & Design,Mechanical & Aer...  False        False  \n",
       "2108  Medicine & Dentistry,Biological Sciences,Other...  False        False  \n",
       "2109  Civil Engineering,Physics & Astronomy,Educatio...  False        False  \n",
       "2110  Biological Sciences,General Engineering,Geogra...  False        False  \n",
       "2111  Business & Management,Biological Sciences,Medi...  False        False  \n",
       "\n",
       "[2112 rows x 24 columns]"
      ]
     },
     "execution_count": 373,
     "metadata": {},
     "output_type": "execute_result"
    }
   ],
   "source": [
    "df_2022"
   ]
  },
  {
   "cell_type": "markdown",
   "id": "00af45b6",
   "metadata": {},
   "source": [
    "PREPARE & CLEAN THE DATA"
   ]
  },
  {
   "cell_type": "code",
   "execution_count": 374,
   "id": "5388e6b3",
   "metadata": {},
   "outputs": [
    {
     "name": "stdout",
     "output_type": "stream",
     "text": [
      "<class 'pandas.core.frame.DataFrame'>\n",
      "RangeIndex: 2112 entries, 0 to 2111\n",
      "Data columns (total 24 columns):\n",
      " #   Column                             Non-Null Count  Dtype  \n",
      "---  ------                             --------------  -----  \n",
      " 0   rank_order                         2112 non-null   int64  \n",
      " 1   rank                               2112 non-null   object \n",
      " 2   name                               2112 non-null   object \n",
      " 3   scores_overall                     1662 non-null   object \n",
      " 4   scores_overall_rank                2112 non-null   int64  \n",
      " 5   scores_teaching                    1662 non-null   float64\n",
      " 6   scores_teaching_rank               2112 non-null   int64  \n",
      " 7   scores_research                    1662 non-null   float64\n",
      " 8   scores_research_rank               2112 non-null   int64  \n",
      " 9   scores_citations                   1662 non-null   float64\n",
      " 10  scores_citations_rank              2112 non-null   int64  \n",
      " 11  scores_industry_income             1662 non-null   float64\n",
      " 12  scores_industry_income_rank        2112 non-null   int64  \n",
      " 13  scores_international_outlook       1662 non-null   float64\n",
      " 14  scores_international_outlook_rank  2112 non-null   int64  \n",
      " 15  location                           2112 non-null   object \n",
      " 16  stats_number_students              2112 non-null   object \n",
      " 17  stats_student_staff_ratio          2112 non-null   float64\n",
      " 18  stats_pc_intl_students             2112 non-null   object \n",
      " 19  stats_female_male_ratio            2033 non-null   object \n",
      " 20  aliases                            2112 non-null   object \n",
      " 21  subjects_offered                   2112 non-null   object \n",
      " 22  closed                             2112 non-null   bool   \n",
      " 23  unaccredited                       2112 non-null   bool   \n",
      "dtypes: bool(2), float64(6), int64(7), object(9)\n",
      "memory usage: 367.3+ KB\n"
     ]
    }
   ],
   "source": [
    "# Get the list of column names, data type and count of not null values using .info();\n",
    "df_2022.info()"
   ]
  },
  {
   "cell_type": "code",
   "execution_count": 375,
   "id": "4f106782",
   "metadata": {},
   "outputs": [],
   "source": [
    "# lEAVE OUT/INCLUDE(TO DECIDE) --->  remove unnecessary columns\n",
    "df_2022 = pd.read_csv(r\"C:\\Users\\krent\\OneDrive\\Desktop\\SGT_FinalProject\\2022_rankings.csv\\2022_rankings.csv\")  \n",
    "df_2022.drop([\"rank_order\", \"scores_teaching_rank\", \"closed\", \"scores_citations\", \"stats_student_staff_ratio\", \"scores_citations_rank\", \"rank_order\", \"aliases\", \"unaccredited\", \"scores_industry_income\", \"scores_industry_income_rank\", \"scores_international_outlook\", \"scores_international_outlook_rank\", \"scores_overall_rank\", \"scores_research_rank\"], axis = 1, inplace = True)"
   ]
  },
  {
   "cell_type": "raw",
   "id": "e610d800",
   "metadata": {},
   "source": [
    "df_2022.head(10)"
   ]
  },
  {
   "cell_type": "code",
   "execution_count": 376,
   "id": "69a84748",
   "metadata": {},
   "outputs": [],
   "source": [
    "#lEAVE OUT/INCLUDE(TO DECIDE) ---> search for NaN values in the data and drop them\n",
    "# drop NaN values ---> this did not work through out the all column and left some Nan values\n",
    "#df_rankings22.dropna()\n",
    "df_2022 = df_2022.loc[-df_2022[\"scores_overall\"].isna()]"
   ]
  },
  {
   "cell_type": "code",
   "execution_count": 377,
   "id": "6443baef",
   "metadata": {},
   "outputs": [],
   "source": [
    "df_2022 = df_2022.loc[-df_2022[\"stats_female_male_ratio\"].isna()]"
   ]
  },
  {
   "cell_type": "code",
   "execution_count": 378,
   "id": "0548e3ea",
   "metadata": {},
   "outputs": [],
   "source": [
    "# replace specific characters;\n",
    "df_2022[\"rank\"] = df_2022[\"rank\"].str.replace(\"=\", \" \")"
   ]
  },
  {
   "cell_type": "code",
   "execution_count": 379,
   "id": "19f4649d",
   "metadata": {},
   "outputs": [
    {
     "data": {
      "text/html": [
       "<div>\n",
       "<style scoped>\n",
       "    .dataframe tbody tr th:only-of-type {\n",
       "        vertical-align: middle;\n",
       "    }\n",
       "\n",
       "    .dataframe tbody tr th {\n",
       "        vertical-align: top;\n",
       "    }\n",
       "\n",
       "    .dataframe thead th {\n",
       "        text-align: right;\n",
       "    }\n",
       "</style>\n",
       "<table border=\"1\" class=\"dataframe\">\n",
       "  <thead>\n",
       "    <tr style=\"text-align: right;\">\n",
       "      <th></th>\n",
       "      <th>rank</th>\n",
       "      <th>name</th>\n",
       "      <th>scores_overall</th>\n",
       "      <th>scores_teaching</th>\n",
       "      <th>scores_research</th>\n",
       "      <th>location</th>\n",
       "      <th>stats_number_students</th>\n",
       "      <th>stats_pc_intl_students</th>\n",
       "      <th>stats_female_male_ratio</th>\n",
       "      <th>subjects_offered</th>\n",
       "    </tr>\n",
       "  </thead>\n",
       "  <tbody>\n",
       "    <tr>\n",
       "      <th>0</th>\n",
       "      <td>1</td>\n",
       "      <td>University of Oxford</td>\n",
       "      <td>95.7</td>\n",
       "      <td>91.0</td>\n",
       "      <td>99.6</td>\n",
       "      <td>United Kingdom</td>\n",
       "      <td>20,835</td>\n",
       "      <td>42%</td>\n",
       "      <td>47 : 53</td>\n",
       "      <td>Accounting &amp; Finance,General Engineering,Commu...</td>\n",
       "    </tr>\n",
       "    <tr>\n",
       "      <th>1</th>\n",
       "      <td>2</td>\n",
       "      <td>California Institute of Technology</td>\n",
       "      <td>95.0</td>\n",
       "      <td>93.6</td>\n",
       "      <td>96.9</td>\n",
       "      <td>United States</td>\n",
       "      <td>2,233</td>\n",
       "      <td>34%</td>\n",
       "      <td>36 : 64</td>\n",
       "      <td>Languages, Literature &amp; Linguistics,Economics ...</td>\n",
       "    </tr>\n",
       "    <tr>\n",
       "      <th>2</th>\n",
       "      <td>2</td>\n",
       "      <td>Harvard University</td>\n",
       "      <td>95.0</td>\n",
       "      <td>94.5</td>\n",
       "      <td>98.9</td>\n",
       "      <td>United States</td>\n",
       "      <td>21,574</td>\n",
       "      <td>24%</td>\n",
       "      <td>50 : 50</td>\n",
       "      <td>Mathematics &amp; Statistics,Civil Engineering,Lan...</td>\n",
       "    </tr>\n",
       "    <tr>\n",
       "      <th>3</th>\n",
       "      <td>4</td>\n",
       "      <td>Stanford University</td>\n",
       "      <td>94.9</td>\n",
       "      <td>92.3</td>\n",
       "      <td>96.8</td>\n",
       "      <td>United States</td>\n",
       "      <td>16,319</td>\n",
       "      <td>23%</td>\n",
       "      <td>46 : 54</td>\n",
       "      <td>Physics &amp; Astronomy,Computer Science,Politics ...</td>\n",
       "    </tr>\n",
       "    <tr>\n",
       "      <th>4</th>\n",
       "      <td>5</td>\n",
       "      <td>University of Cambridge</td>\n",
       "      <td>94.6</td>\n",
       "      <td>90.9</td>\n",
       "      <td>99.5</td>\n",
       "      <td>United Kingdom</td>\n",
       "      <td>19,680</td>\n",
       "      <td>39%</td>\n",
       "      <td>47 : 53</td>\n",
       "      <td>Business &amp; Management,General Engineering,Art,...</td>\n",
       "    </tr>\n",
       "    <tr>\n",
       "      <th>5</th>\n",
       "      <td>5</td>\n",
       "      <td>Massachusetts Institute of Technology</td>\n",
       "      <td>94.6</td>\n",
       "      <td>90.9</td>\n",
       "      <td>94.4</td>\n",
       "      <td>United States</td>\n",
       "      <td>11,459</td>\n",
       "      <td>33%</td>\n",
       "      <td>40 : 60</td>\n",
       "      <td>Mathematics &amp; Statistics,Languages, Literature...</td>\n",
       "    </tr>\n",
       "    <tr>\n",
       "      <th>6</th>\n",
       "      <td>7</td>\n",
       "      <td>Princeton University</td>\n",
       "      <td>93.6</td>\n",
       "      <td>89.5</td>\n",
       "      <td>96.0</td>\n",
       "      <td>United States</td>\n",
       "      <td>7,753</td>\n",
       "      <td>23%</td>\n",
       "      <td>47 : 53</td>\n",
       "      <td>Languages, Literature &amp; Linguistics,Biological...</td>\n",
       "    </tr>\n",
       "    <tr>\n",
       "      <th>7</th>\n",
       "      <td>8</td>\n",
       "      <td>University of California, Berkeley</td>\n",
       "      <td>92.2</td>\n",
       "      <td>85.7</td>\n",
       "      <td>96.0</td>\n",
       "      <td>United States</td>\n",
       "      <td>40,306</td>\n",
       "      <td>23%</td>\n",
       "      <td>51 : 49</td>\n",
       "      <td>Communication &amp; Media Studies,Education,Civil ...</td>\n",
       "    </tr>\n",
       "    <tr>\n",
       "      <th>8</th>\n",
       "      <td>9</td>\n",
       "      <td>Yale University</td>\n",
       "      <td>90.8</td>\n",
       "      <td>90.7</td>\n",
       "      <td>93.0</td>\n",
       "      <td>United States</td>\n",
       "      <td>13,317</td>\n",
       "      <td>21%</td>\n",
       "      <td>51 : 49</td>\n",
       "      <td>Economics &amp; Econometrics,Medicine &amp; Dentistry,...</td>\n",
       "    </tr>\n",
       "    <tr>\n",
       "      <th>9</th>\n",
       "      <td>10</td>\n",
       "      <td>The University of Chicago</td>\n",
       "      <td>89.8</td>\n",
       "      <td>87.2</td>\n",
       "      <td>90.6</td>\n",
       "      <td>United States</td>\n",
       "      <td>14,895</td>\n",
       "      <td>33%</td>\n",
       "      <td>46 : 54</td>\n",
       "      <td>Business &amp; Management,Physics &amp; Astronomy,Econ...</td>\n",
       "    </tr>\n",
       "  </tbody>\n",
       "</table>\n",
       "</div>"
      ],
      "text/plain": [
       "  rank                                   name scores_overall  scores_teaching   \n",
       "0    1                   University of Oxford           95.7             91.0  \\\n",
       "1    2     California Institute of Technology           95.0             93.6   \n",
       "2    2                     Harvard University           95.0             94.5   \n",
       "3    4                    Stanford University           94.9             92.3   \n",
       "4    5                University of Cambridge           94.6             90.9   \n",
       "5    5  Massachusetts Institute of Technology           94.6             90.9   \n",
       "6    7                   Princeton University           93.6             89.5   \n",
       "7    8     University of California, Berkeley           92.2             85.7   \n",
       "8    9                        Yale University           90.8             90.7   \n",
       "9   10              The University of Chicago           89.8             87.2   \n",
       "\n",
       "   scores_research        location stats_number_students   \n",
       "0             99.6  United Kingdom                20,835  \\\n",
       "1             96.9   United States                 2,233   \n",
       "2             98.9   United States                21,574   \n",
       "3             96.8   United States                16,319   \n",
       "4             99.5  United Kingdom                19,680   \n",
       "5             94.4   United States                11,459   \n",
       "6             96.0   United States                 7,753   \n",
       "7             96.0   United States                40,306   \n",
       "8             93.0   United States                13,317   \n",
       "9             90.6   United States                14,895   \n",
       "\n",
       "  stats_pc_intl_students stats_female_male_ratio   \n",
       "0                    42%                 47 : 53  \\\n",
       "1                    34%                 36 : 64   \n",
       "2                    24%                 50 : 50   \n",
       "3                    23%                 46 : 54   \n",
       "4                    39%                 47 : 53   \n",
       "5                    33%                 40 : 60   \n",
       "6                    23%                 47 : 53   \n",
       "7                    23%                 51 : 49   \n",
       "8                    21%                 51 : 49   \n",
       "9                    33%                 46 : 54   \n",
       "\n",
       "                                    subjects_offered  \n",
       "0  Accounting & Finance,General Engineering,Commu...  \n",
       "1  Languages, Literature & Linguistics,Economics ...  \n",
       "2  Mathematics & Statistics,Civil Engineering,Lan...  \n",
       "3  Physics & Astronomy,Computer Science,Politics ...  \n",
       "4  Business & Management,General Engineering,Art,...  \n",
       "5  Mathematics & Statistics,Languages, Literature...  \n",
       "6  Languages, Literature & Linguistics,Biological...  \n",
       "7  Communication & Media Studies,Education,Civil ...  \n",
       "8  Economics & Econometrics,Medicine & Dentistry,...  \n",
       "9  Business & Management,Physics & Astronomy,Econ...  "
      ]
     },
     "execution_count": 379,
     "metadata": {},
     "output_type": "execute_result"
    }
   ],
   "source": [
    "df_2022.head(10)"
   ]
  },
  {
   "cell_type": "code",
   "execution_count": 380,
   "id": "b070d68c",
   "metadata": {},
   "outputs": [
    {
     "data": {
      "text/html": [
       "<div>\n",
       "<style scoped>\n",
       "    .dataframe tbody tr th:only-of-type {\n",
       "        vertical-align: middle;\n",
       "    }\n",
       "\n",
       "    .dataframe tbody tr th {\n",
       "        vertical-align: top;\n",
       "    }\n",
       "\n",
       "    .dataframe thead th {\n",
       "        text-align: right;\n",
       "    }\n",
       "</style>\n",
       "<table border=\"1\" class=\"dataframe\">\n",
       "  <thead>\n",
       "    <tr style=\"text-align: right;\">\n",
       "      <th></th>\n",
       "      <th>rank</th>\n",
       "      <th>name</th>\n",
       "      <th>scores_overall</th>\n",
       "      <th>scores_teaching</th>\n",
       "      <th>scores_research</th>\n",
       "      <th>location</th>\n",
       "      <th>stats_number_students</th>\n",
       "      <th>stats_pc_intl_students</th>\n",
       "      <th>stats_female_male_ratio</th>\n",
       "      <th>subjects_offered</th>\n",
       "    </tr>\n",
       "  </thead>\n",
       "  <tbody>\n",
       "    <tr>\n",
       "      <th>1652</th>\n",
       "      <td>1201+</td>\n",
       "      <td>University of Yamanashi</td>\n",
       "      <td>10.6–22.3</td>\n",
       "      <td>25.3</td>\n",
       "      <td>12.5</td>\n",
       "      <td>Japan</td>\n",
       "      <td>4,679</td>\n",
       "      <td>4%</td>\n",
       "      <td>30 : 70</td>\n",
       "      <td>General Engineering,Mathematics &amp; Statistics,M...</td>\n",
       "    </tr>\n",
       "    <tr>\n",
       "      <th>1653</th>\n",
       "      <td>1201+</td>\n",
       "      <td>Yanshan University</td>\n",
       "      <td>10.6–22.3</td>\n",
       "      <td>17.3</td>\n",
       "      <td>11.9</td>\n",
       "      <td>China</td>\n",
       "      <td>36,050</td>\n",
       "      <td>1%</td>\n",
       "      <td>39 : 61</td>\n",
       "      <td>Chemical Engineering,Geology, Environmental, E...</td>\n",
       "    </tr>\n",
       "    <tr>\n",
       "      <th>1654</th>\n",
       "      <td>1201+</td>\n",
       "      <td>Yarmouk University</td>\n",
       "      <td>10.6–22.3</td>\n",
       "      <td>25.4</td>\n",
       "      <td>10.4</td>\n",
       "      <td>Jordan</td>\n",
       "      <td>34,222</td>\n",
       "      <td>8%</td>\n",
       "      <td>63 : 37</td>\n",
       "      <td>Law,Sociology,Psychology,Other Health,Business...</td>\n",
       "    </tr>\n",
       "    <tr>\n",
       "      <th>1655</th>\n",
       "      <td>1201+</td>\n",
       "      <td>Yazd University</td>\n",
       "      <td>10.6–22.3</td>\n",
       "      <td>20.4</td>\n",
       "      <td>15.2</td>\n",
       "      <td>Iran</td>\n",
       "      <td>14,112</td>\n",
       "      <td>2%</td>\n",
       "      <td>57 : 43</td>\n",
       "      <td>Mechanical &amp; Aerospace Engineering,History, Ph...</td>\n",
       "    </tr>\n",
       "    <tr>\n",
       "      <th>1656</th>\n",
       "      <td>1201+</td>\n",
       "      <td>Yeditepe University</td>\n",
       "      <td>10.6–22.3</td>\n",
       "      <td>19.2</td>\n",
       "      <td>13.7</td>\n",
       "      <td>Turkey</td>\n",
       "      <td>17,610</td>\n",
       "      <td>4%</td>\n",
       "      <td>53 : 47</td>\n",
       "      <td>Other Health,Law,Mathematics &amp; Statistics,Econ...</td>\n",
       "    </tr>\n",
       "    <tr>\n",
       "      <th>1657</th>\n",
       "      <td>1201+</td>\n",
       "      <td>Yokohama National University</td>\n",
       "      <td>10.6–22.3</td>\n",
       "      <td>22.6</td>\n",
       "      <td>17.6</td>\n",
       "      <td>Japan</td>\n",
       "      <td>9,805</td>\n",
       "      <td>8%</td>\n",
       "      <td>29 : 71</td>\n",
       "      <td>Physics &amp; Astronomy,Sport Science,Geology, Env...</td>\n",
       "    </tr>\n",
       "    <tr>\n",
       "      <th>1658</th>\n",
       "      <td>1201+</td>\n",
       "      <td>Yuan Ze University</td>\n",
       "      <td>10.6–22.3</td>\n",
       "      <td>20.1</td>\n",
       "      <td>13.7</td>\n",
       "      <td>Taiwan</td>\n",
       "      <td>8,017</td>\n",
       "      <td>7%</td>\n",
       "      <td>42 : 58</td>\n",
       "      <td>Business &amp; Management,Sociology,Electrical &amp; E...</td>\n",
       "    </tr>\n",
       "    <tr>\n",
       "      <th>1659</th>\n",
       "      <td>1201+</td>\n",
       "      <td>Yuri Gagarin State Technical University of Sar...</td>\n",
       "      <td>10.6–22.3</td>\n",
       "      <td>15.2</td>\n",
       "      <td>9.5</td>\n",
       "      <td>Russian Federation</td>\n",
       "      <td>11,127</td>\n",
       "      <td>5%</td>\n",
       "      <td>28 : 72</td>\n",
       "      <td>Computer Science,Architecture,Chemical Enginee...</td>\n",
       "    </tr>\n",
       "    <tr>\n",
       "      <th>1660</th>\n",
       "      <td>1201+</td>\n",
       "      <td>Yuriy Fedkovych Chernivtsi National University</td>\n",
       "      <td>10.6–22.3</td>\n",
       "      <td>17.7</td>\n",
       "      <td>8.6</td>\n",
       "      <td>Ukraine</td>\n",
       "      <td>11,981</td>\n",
       "      <td>1%</td>\n",
       "      <td>56 : 44</td>\n",
       "      <td>Communication &amp; Media Studies,Geology, Environ...</td>\n",
       "    </tr>\n",
       "    <tr>\n",
       "      <th>1661</th>\n",
       "      <td>1201+</td>\n",
       "      <td>Zonguldak Bülent Ecevit University</td>\n",
       "      <td>10.6–22.3</td>\n",
       "      <td>14.2</td>\n",
       "      <td>7.9</td>\n",
       "      <td>Turkey</td>\n",
       "      <td>28,710</td>\n",
       "      <td>6%</td>\n",
       "      <td>46 : 54</td>\n",
       "      <td>Geology, Environmental, Earth &amp; Marine Science...</td>\n",
       "    </tr>\n",
       "  </tbody>\n",
       "</table>\n",
       "</div>"
      ],
      "text/plain": [
       "       rank                                               name scores_overall   \n",
       "1652  1201+                            University of Yamanashi      10.6–22.3  \\\n",
       "1653  1201+                                 Yanshan University      10.6–22.3   \n",
       "1654  1201+                                 Yarmouk University      10.6–22.3   \n",
       "1655  1201+                                    Yazd University      10.6–22.3   \n",
       "1656  1201+                                Yeditepe University      10.6–22.3   \n",
       "1657  1201+                       Yokohama National University      10.6–22.3   \n",
       "1658  1201+                                 Yuan Ze University      10.6–22.3   \n",
       "1659  1201+  Yuri Gagarin State Technical University of Sar...      10.6–22.3   \n",
       "1660  1201+     Yuriy Fedkovych Chernivtsi National University      10.6–22.3   \n",
       "1661  1201+                 Zonguldak Bülent Ecevit University      10.6–22.3   \n",
       "\n",
       "      scores_teaching  scores_research            location   \n",
       "1652             25.3             12.5               Japan  \\\n",
       "1653             17.3             11.9               China   \n",
       "1654             25.4             10.4              Jordan   \n",
       "1655             20.4             15.2                Iran   \n",
       "1656             19.2             13.7              Turkey   \n",
       "1657             22.6             17.6               Japan   \n",
       "1658             20.1             13.7              Taiwan   \n",
       "1659             15.2              9.5  Russian Federation   \n",
       "1660             17.7              8.6             Ukraine   \n",
       "1661             14.2              7.9              Turkey   \n",
       "\n",
       "     stats_number_students stats_pc_intl_students stats_female_male_ratio   \n",
       "1652                 4,679                     4%                 30 : 70  \\\n",
       "1653                36,050                     1%                 39 : 61   \n",
       "1654                34,222                     8%                 63 : 37   \n",
       "1655                14,112                     2%                 57 : 43   \n",
       "1656                17,610                     4%                 53 : 47   \n",
       "1657                 9,805                     8%                 29 : 71   \n",
       "1658                 8,017                     7%                 42 : 58   \n",
       "1659                11,127                     5%                 28 : 72   \n",
       "1660                11,981                     1%                 56 : 44   \n",
       "1661                28,710                     6%                 46 : 54   \n",
       "\n",
       "                                       subjects_offered  \n",
       "1652  General Engineering,Mathematics & Statistics,M...  \n",
       "1653  Chemical Engineering,Geology, Environmental, E...  \n",
       "1654  Law,Sociology,Psychology,Other Health,Business...  \n",
       "1655  Mechanical & Aerospace Engineering,History, Ph...  \n",
       "1656  Other Health,Law,Mathematics & Statistics,Econ...  \n",
       "1657  Physics & Astronomy,Sport Science,Geology, Env...  \n",
       "1658  Business & Management,Sociology,Electrical & E...  \n",
       "1659  Computer Science,Architecture,Chemical Enginee...  \n",
       "1660  Communication & Media Studies,Geology, Environ...  \n",
       "1661  Geology, Environmental, Earth & Marine Science...  "
      ]
     },
     "execution_count": 380,
     "metadata": {},
     "output_type": "execute_result"
    }
   ],
   "source": [
    "df_2022.tail(10)"
   ]
  },
  {
   "cell_type": "code",
   "execution_count": 381,
   "id": "930c4487",
   "metadata": {
    "scrolled": true
   },
   "outputs": [
    {
     "data": {
      "text/html": [
       "<div>\n",
       "<style scoped>\n",
       "    .dataframe tbody tr th:only-of-type {\n",
       "        vertical-align: middle;\n",
       "    }\n",
       "\n",
       "    .dataframe tbody tr th {\n",
       "        vertical-align: top;\n",
       "    }\n",
       "\n",
       "    .dataframe thead th {\n",
       "        text-align: right;\n",
       "    }\n",
       "</style>\n",
       "<table border=\"1\" class=\"dataframe\">\n",
       "  <thead>\n",
       "    <tr style=\"text-align: right;\">\n",
       "      <th></th>\n",
       "      <th>count</th>\n",
       "      <th>mean</th>\n",
       "      <th>std</th>\n",
       "      <th>min</th>\n",
       "      <th>25%</th>\n",
       "      <th>50%</th>\n",
       "      <th>75%</th>\n",
       "      <th>max</th>\n",
       "    </tr>\n",
       "  </thead>\n",
       "  <tbody>\n",
       "    <tr>\n",
       "      <th>scores_teaching</th>\n",
       "      <td>1591.0</td>\n",
       "      <td>27.115713</td>\n",
       "      <td>12.939110</td>\n",
       "      <td>11.9</td>\n",
       "      <td>18.4</td>\n",
       "      <td>23.1</td>\n",
       "      <td>31.5</td>\n",
       "      <td>94.5</td>\n",
       "    </tr>\n",
       "    <tr>\n",
       "      <th>scores_research</th>\n",
       "      <td>1591.0</td>\n",
       "      <td>22.544060</td>\n",
       "      <td>16.420584</td>\n",
       "      <td>7.4</td>\n",
       "      <td>11.4</td>\n",
       "      <td>16.6</td>\n",
       "      <td>27.8</td>\n",
       "      <td>99.6</td>\n",
       "    </tr>\n",
       "  </tbody>\n",
       "</table>\n",
       "</div>"
      ],
      "text/plain": [
       "                  count       mean        std   min   25%   50%   75%   max\n",
       "scores_teaching  1591.0  27.115713  12.939110  11.9  18.4  23.1  31.5  94.5\n",
       "scores_research  1591.0  22.544060  16.420584   7.4  11.4  16.6  27.8  99.6"
      ]
     },
     "execution_count": 381,
     "metadata": {},
     "output_type": "execute_result"
    }
   ],
   "source": [
    "# Ccreate a reflection of the data frame\n",
    "df_2022.describe().T  "
   ]
  },
  {
   "cell_type": "markdown",
   "id": "1276429e",
   "metadata": {},
   "source": [
    "VISUALIZE THE DATA"
   ]
  },
  {
   "cell_type": "code",
   "execution_count": 382,
   "id": "6dff6f1a",
   "metadata": {},
   "outputs": [],
   "source": [
    "# Preparing data for analytics, scores overall by Top 10 University 2022;\n",
    "# Sorting the dataframe to descending order for visualization in plot:\n",
    "df_2022_scores = df_2022.head(10).sort_values(\"scores_overall\")"
   ]
  },
  {
   "cell_type": "code",
   "execution_count": 383,
   "id": "79cd3dd9",
   "metadata": {},
   "outputs": [
    {
     "data": {
      "text/html": [
       "<div>\n",
       "<style scoped>\n",
       "    .dataframe tbody tr th:only-of-type {\n",
       "        vertical-align: middle;\n",
       "    }\n",
       "\n",
       "    .dataframe tbody tr th {\n",
       "        vertical-align: top;\n",
       "    }\n",
       "\n",
       "    .dataframe thead th {\n",
       "        text-align: right;\n",
       "    }\n",
       "</style>\n",
       "<table border=\"1\" class=\"dataframe\">\n",
       "  <thead>\n",
       "    <tr style=\"text-align: right;\">\n",
       "      <th></th>\n",
       "      <th>rank</th>\n",
       "      <th>name</th>\n",
       "      <th>scores_overall</th>\n",
       "      <th>scores_teaching</th>\n",
       "      <th>scores_research</th>\n",
       "      <th>location</th>\n",
       "      <th>stats_number_students</th>\n",
       "      <th>stats_pc_intl_students</th>\n",
       "      <th>stats_female_male_ratio</th>\n",
       "      <th>subjects_offered</th>\n",
       "    </tr>\n",
       "  </thead>\n",
       "  <tbody>\n",
       "    <tr>\n",
       "      <th>9</th>\n",
       "      <td>10</td>\n",
       "      <td>The University of Chicago</td>\n",
       "      <td>89.8</td>\n",
       "      <td>87.2</td>\n",
       "      <td>90.6</td>\n",
       "      <td>United States</td>\n",
       "      <td>14,895</td>\n",
       "      <td>33%</td>\n",
       "      <td>46 : 54</td>\n",
       "      <td>Business &amp; Management,Physics &amp; Astronomy,Econ...</td>\n",
       "    </tr>\n",
       "    <tr>\n",
       "      <th>8</th>\n",
       "      <td>9</td>\n",
       "      <td>Yale University</td>\n",
       "      <td>90.8</td>\n",
       "      <td>90.7</td>\n",
       "      <td>93.0</td>\n",
       "      <td>United States</td>\n",
       "      <td>13,317</td>\n",
       "      <td>21%</td>\n",
       "      <td>51 : 49</td>\n",
       "      <td>Economics &amp; Econometrics,Medicine &amp; Dentistry,...</td>\n",
       "    </tr>\n",
       "    <tr>\n",
       "      <th>7</th>\n",
       "      <td>8</td>\n",
       "      <td>University of California, Berkeley</td>\n",
       "      <td>92.2</td>\n",
       "      <td>85.7</td>\n",
       "      <td>96.0</td>\n",
       "      <td>United States</td>\n",
       "      <td>40,306</td>\n",
       "      <td>23%</td>\n",
       "      <td>51 : 49</td>\n",
       "      <td>Communication &amp; Media Studies,Education,Civil ...</td>\n",
       "    </tr>\n",
       "    <tr>\n",
       "      <th>6</th>\n",
       "      <td>7</td>\n",
       "      <td>Princeton University</td>\n",
       "      <td>93.6</td>\n",
       "      <td>89.5</td>\n",
       "      <td>96.0</td>\n",
       "      <td>United States</td>\n",
       "      <td>7,753</td>\n",
       "      <td>23%</td>\n",
       "      <td>47 : 53</td>\n",
       "      <td>Languages, Literature &amp; Linguistics,Biological...</td>\n",
       "    </tr>\n",
       "    <tr>\n",
       "      <th>4</th>\n",
       "      <td>5</td>\n",
       "      <td>University of Cambridge</td>\n",
       "      <td>94.6</td>\n",
       "      <td>90.9</td>\n",
       "      <td>99.5</td>\n",
       "      <td>United Kingdom</td>\n",
       "      <td>19,680</td>\n",
       "      <td>39%</td>\n",
       "      <td>47 : 53</td>\n",
       "      <td>Business &amp; Management,General Engineering,Art,...</td>\n",
       "    </tr>\n",
       "    <tr>\n",
       "      <th>5</th>\n",
       "      <td>5</td>\n",
       "      <td>Massachusetts Institute of Technology</td>\n",
       "      <td>94.6</td>\n",
       "      <td>90.9</td>\n",
       "      <td>94.4</td>\n",
       "      <td>United States</td>\n",
       "      <td>11,459</td>\n",
       "      <td>33%</td>\n",
       "      <td>40 : 60</td>\n",
       "      <td>Mathematics &amp; Statistics,Languages, Literature...</td>\n",
       "    </tr>\n",
       "    <tr>\n",
       "      <th>3</th>\n",
       "      <td>4</td>\n",
       "      <td>Stanford University</td>\n",
       "      <td>94.9</td>\n",
       "      <td>92.3</td>\n",
       "      <td>96.8</td>\n",
       "      <td>United States</td>\n",
       "      <td>16,319</td>\n",
       "      <td>23%</td>\n",
       "      <td>46 : 54</td>\n",
       "      <td>Physics &amp; Astronomy,Computer Science,Politics ...</td>\n",
       "    </tr>\n",
       "    <tr>\n",
       "      <th>1</th>\n",
       "      <td>2</td>\n",
       "      <td>California Institute of Technology</td>\n",
       "      <td>95.0</td>\n",
       "      <td>93.6</td>\n",
       "      <td>96.9</td>\n",
       "      <td>United States</td>\n",
       "      <td>2,233</td>\n",
       "      <td>34%</td>\n",
       "      <td>36 : 64</td>\n",
       "      <td>Languages, Literature &amp; Linguistics,Economics ...</td>\n",
       "    </tr>\n",
       "    <tr>\n",
       "      <th>2</th>\n",
       "      <td>2</td>\n",
       "      <td>Harvard University</td>\n",
       "      <td>95.0</td>\n",
       "      <td>94.5</td>\n",
       "      <td>98.9</td>\n",
       "      <td>United States</td>\n",
       "      <td>21,574</td>\n",
       "      <td>24%</td>\n",
       "      <td>50 : 50</td>\n",
       "      <td>Mathematics &amp; Statistics,Civil Engineering,Lan...</td>\n",
       "    </tr>\n",
       "    <tr>\n",
       "      <th>0</th>\n",
       "      <td>1</td>\n",
       "      <td>University of Oxford</td>\n",
       "      <td>95.7</td>\n",
       "      <td>91.0</td>\n",
       "      <td>99.6</td>\n",
       "      <td>United Kingdom</td>\n",
       "      <td>20,835</td>\n",
       "      <td>42%</td>\n",
       "      <td>47 : 53</td>\n",
       "      <td>Accounting &amp; Finance,General Engineering,Commu...</td>\n",
       "    </tr>\n",
       "  </tbody>\n",
       "</table>\n",
       "</div>"
      ],
      "text/plain": [
       "  rank                                   name scores_overall  scores_teaching   \n",
       "9   10              The University of Chicago           89.8             87.2  \\\n",
       "8    9                        Yale University           90.8             90.7   \n",
       "7    8     University of California, Berkeley           92.2             85.7   \n",
       "6    7                   Princeton University           93.6             89.5   \n",
       "4    5                University of Cambridge           94.6             90.9   \n",
       "5    5  Massachusetts Institute of Technology           94.6             90.9   \n",
       "3    4                    Stanford University           94.9             92.3   \n",
       "1    2     California Institute of Technology           95.0             93.6   \n",
       "2    2                     Harvard University           95.0             94.5   \n",
       "0    1                   University of Oxford           95.7             91.0   \n",
       "\n",
       "   scores_research        location stats_number_students   \n",
       "9             90.6   United States                14,895  \\\n",
       "8             93.0   United States                13,317   \n",
       "7             96.0   United States                40,306   \n",
       "6             96.0   United States                 7,753   \n",
       "4             99.5  United Kingdom                19,680   \n",
       "5             94.4   United States                11,459   \n",
       "3             96.8   United States                16,319   \n",
       "1             96.9   United States                 2,233   \n",
       "2             98.9   United States                21,574   \n",
       "0             99.6  United Kingdom                20,835   \n",
       "\n",
       "  stats_pc_intl_students stats_female_male_ratio   \n",
       "9                    33%                 46 : 54  \\\n",
       "8                    21%                 51 : 49   \n",
       "7                    23%                 51 : 49   \n",
       "6                    23%                 47 : 53   \n",
       "4                    39%                 47 : 53   \n",
       "5                    33%                 40 : 60   \n",
       "3                    23%                 46 : 54   \n",
       "1                    34%                 36 : 64   \n",
       "2                    24%                 50 : 50   \n",
       "0                    42%                 47 : 53   \n",
       "\n",
       "                                    subjects_offered  \n",
       "9  Business & Management,Physics & Astronomy,Econ...  \n",
       "8  Economics & Econometrics,Medicine & Dentistry,...  \n",
       "7  Communication & Media Studies,Education,Civil ...  \n",
       "6  Languages, Literature & Linguistics,Biological...  \n",
       "4  Business & Management,General Engineering,Art,...  \n",
       "5  Mathematics & Statistics,Languages, Literature...  \n",
       "3  Physics & Astronomy,Computer Science,Politics ...  \n",
       "1  Languages, Literature & Linguistics,Economics ...  \n",
       "2  Mathematics & Statistics,Civil Engineering,Lan...  \n",
       "0  Accounting & Finance,General Engineering,Commu...  "
      ]
     },
     "execution_count": 383,
     "metadata": {},
     "output_type": "execute_result"
    }
   ],
   "source": [
    "df_2022_scores"
   ]
  },
  {
   "cell_type": "code",
   "execution_count": 384,
   "id": "82d37159",
   "metadata": {},
   "outputs": [
    {
     "data": {
      "image/png": "[encoded data removed]",
      "text/plain": [
       "<Figure size 1000x300 with 1 Axes>"
      ]
     },
     "metadata": {},
     "output_type": "display_data"
    }
   ],
   "source": [
    "#Top 10 Universities by Scores, ---> CAN BE ADDED TO FINAL PROJECT\n",
    "df = pd.DataFrame(df_2022_scores)\n",
    "name = df[\"name\"].head(10)\n",
    "scores = df[\"scores_overall\"].head(10)\n",
    "\n",
    "pl.bar(name[0:100], scores[0:100], width=0.6, color = \"purple\", ec = \"white\")\n",
    "pl.title(\"TOP 10 Universities by Scores 2022\", color =\"grey\", fontweight = \"14\")\n",
    "pl.ylabel(\"Scores\", color=\"grey\")\n",
    "pl.xlabel(\"The name of the University\", color=\"grey\")\n",
    "pl.xticks(rotation=45, ha=\"right\")\n",
    "pl.rcParams[\"figure.figsize\"] = (8,3)\n",
    "\n",
    "pl.show()"
   ]
  },
  {
   "cell_type": "code",
   "execution_count": 385,
   "id": "ecda9f3b",
   "metadata": {},
   "outputs": [
    {
     "data": {
      "image/png": "[encoded data removed]",
      "text/plain": [
       "<Figure size 800x300 with 1 Axes>"
      ]
     },
     "metadata": {},
     "output_type": "display_data"
    }
   ],
   "source": [
    "# Top 10 University Research & Teaching scores(2022) compared in barplot;\n",
    "\n",
    "df_2022.head(10).plot(kind=\"bar\", x =\"name\", color=(\"purple\", \"yellow\"), ec = \"white\")\n",
    "\n",
    "pl.title(\"TOP 10 University Research & Teaching Scores (2022)\", color =\"grey\", fontweight = \"14\")\n",
    "pl.xlabel(\"University Name\", color=\"grey\")\n",
    "pl.xticks(rotation=45, ha=\"right\", fontsize=10)\n",
    "pl.legend(loc=\"upper right\")\n",
    "pl.rcParams[\"figure.figsize\"] = (10,3)\n",
    "pl.legend(bbox_to_anchor=(1, 1.01))\n",
    "\n",
    "pl.show()        "
   ]
  },
  {
   "cell_type": "code",
   "execution_count": 386,
   "id": "3b064522",
   "metadata": {},
   "outputs": [
    {
     "data": {
      "application/vnd.plotly.v1+json": {
       "config": {
        "plotlyServerURL": "https://plot.ly"
       },
       "data": [
        {
         "alignmentgroup": "True",
         "customdata": [
          [
           91,
           99.6
          ],
          [
           93.6,
           96.9
          ],
          [
           94.5,
           98.9
          ],
          [
           92.3,
           96.8
          ],
          [
           90.9,
           99.5
          ],
          [
           90.9,
           94.4
          ],
          [
           89.5,
           96
          ],
          [
           85.7,
           96
          ],
          [
           90.7,
           93
          ],
          [
           87.2,
           90.6
          ]
         ],
         "hovertemplate": "name=%{x}<br>scores_overall=%{y}<br>Scores Teaching=%{customdata[0]}<br>Scores Research=%{customdata[1]}<extra></extra>",
         "legendgroup": "",
         "marker": {
          "color": "#636efa",
          "pattern": {
           "shape": ""
          }
         },
         "name": "",
         "offsetgroup": "",
         "orientation": "v",
         "showlegend": false,
         "textposition": "auto",
         "type": "bar",
         "x": [
          "University of Oxford",
          "California Institute of Technology",
          "Harvard University",
          "Stanford University",
          "University of Cambridge",
          "Massachusetts Institute of Technology",
          "Princeton University",
          "University of California, Berkeley",
          "Yale University",
          "The University of Chicago"
         ],
         "xaxis": "x",
         "y": [
          "95.7",
          "95.0",
          "95.0",
          "94.9",
          "94.6",
          "94.6",
          "93.6",
          "92.2",
          "90.8",
          "89.8"
         ],
         "yaxis": "y"
        }
       ],
       "layout": {
        "barmode": "relative",
        "height": 400,
        "legend": {
         "tracegroupgap": 0
        },
        "margin": {
         "t": 60
        },
        "template": {
         "data": {
          "bar": [
           {
            "error_x": {
             "color": "#2a3f5f"
            },
            "error_y": {
             "color": "#2a3f5f"
            },
            "marker": {
             "line": {
              "color": "#E5ECF6",
              "width": 0.5
             },
             "pattern": {
              "fillmode": "overlay",
              "size": 10,
              "solidity": 0.2
             }
            },
            "type": "bar"
           }
          ],
          "barpolar": [
           {
            "marker": {
             "line": {
              "color": "#E5ECF6",
              "width": 0.5
             },
             "pattern": {
              "fillmode": "overlay",
              "size": 10,
              "solidity": 0.2
             }
            },
            "type": "barpolar"
           }
          ],
          "carpet": [
           {
            "aaxis": {
             "endlinecolor": "#2a3f5f",
             "gridcolor": "white",
             "linecolor": "white",
             "minorgridcolor": "white",
             "startlinecolor": "#2a3f5f"
            },
            "baxis": {
             "endlinecolor": "#2a3f5f",
             "gridcolor": "white",
             "linecolor": "white",
             "minorgridcolor": "white",
             "startlinecolor": "#2a3f5f"
            },
            "type": "carpet"
           }
          ],
          "choropleth": [
           {
            "colorbar": {
             "outlinewidth": 0,
             "ticks": ""
            },
            "type": "choropleth"
           }
          ],
          "contour": [
           {
            "colorbar": {
             "outlinewidth": 0,
             "ticks": ""
            },
            "colorscale": [
             [
              0,
              "#0d0887"
             ],
             [
              0.1111111111111111,
              "#46039f"
             ],
             [
              0.2222222222222222,
              "#7201a8"
             ],
             [
              0.3333333333333333,
              "#9c179e"
             ],
             [
              0.4444444444444444,
              "#bd3786"
             ],
             [
              0.5555555555555556,
              "#d8576b"
             ],
             [
              0.6666666666666666,
              "#ed7953"
             ],
             [
              0.7777777777777778,
              "#fb9f3a"
             ],
             [
              0.8888888888888888,
              "#fdca26"
             ],
             [
              1,
              "#f0f921"
             ]
            ],
            "type": "contour"
           }
          ],
          "contourcarpet": [
           {
            "colorbar": {
             "outlinewidth": 0,
             "ticks": ""
            },
            "type": "contourcarpet"
           }
          ],
          "heatmap": [
           {
            "colorbar": {
             "outlinewidth": 0,
             "ticks": ""
            },
            "colorscale": [
             [
              0,
              "#0d0887"
             ],
             [
              0.1111111111111111,
              "#46039f"
             ],
             [
              0.2222222222222222,
              "#7201a8"
             ],
             [
              0.3333333333333333,
              "#9c179e"
             ],
             [
              0.4444444444444444,
              "#bd3786"
             ],
             [
              0.5555555555555556,
              "#d8576b"
             ],
             [
              0.6666666666666666,
              "#ed7953"
             ],
             [
              0.7777777777777778,
              "#fb9f3a"
             ],
             [
              0.8888888888888888,
              "#fdca26"
             ],
             [
              1,
              "#f0f921"
             ]
            ],
            "type": "heatmap"
           }
          ],
          "heatmapgl": [
           {
            "colorbar": {
             "outlinewidth": 0,
             "ticks": ""
            },
            "colorscale": [
             [
              0,
              "#0d0887"
             ],
             [
              0.1111111111111111,
              "#46039f"
             ],
             [
              0.2222222222222222,
              "#7201a8"
             ],
             [
              0.3333333333333333,
              "#9c179e"
             ],
             [
              0.4444444444444444,
              "#bd3786"
             ],
             [
              0.5555555555555556,
              "#d8576b"
             ],
             [
              0.6666666666666666,
              "#ed7953"
             ],
             [
              0.7777777777777778,
              "#fb9f3a"
             ],
             [
              0.8888888888888888,
              "#fdca26"
             ],
             [
              1,
              "#f0f921"
             ]
            ],
            "type": "heatmapgl"
           }
          ],
          "histogram": [
           {
            "marker": {
             "pattern": {
              "fillmode": "overlay",
              "size": 10,
              "solidity": 0.2
             }
            },
            "type": "histogram"
           }
          ],
          "histogram2d": [
           {
            "colorbar": {
             "outlinewidth": 0,
             "ticks": ""
            },
            "colorscale": [
             [
              0,
              "#0d0887"
             ],
             [
              0.1111111111111111,
              "#46039f"
             ],
             [
              0.2222222222222222,
              "#7201a8"
             ],
             [
              0.3333333333333333,
              "#9c179e"
             ],
             [
              0.4444444444444444,
              "#bd3786"
             ],
             [
              0.5555555555555556,
              "#d8576b"
             ],
             [
              0.6666666666666666,
              "#ed7953"
             ],
             [
              0.7777777777777778,
              "#fb9f3a"
             ],
             [
              0.8888888888888888,
              "#fdca26"
             ],
             [
              1,
              "#f0f921"
             ]
            ],
            "type": "histogram2d"
           }
          ],
          "histogram2dcontour": [
           {
            "colorbar": {
             "outlinewidth": 0,
             "ticks": ""
            },
            "colorscale": [
             [
              0,
              "#0d0887"
             ],
             [
              0.1111111111111111,
              "#46039f"
             ],
             [
              0.2222222222222222,
              "#7201a8"
             ],
             [
              0.3333333333333333,
              "#9c179e"
             ],
             [
              0.4444444444444444,
              "#bd3786"
             ],
             [
              0.5555555555555556,
              "#d8576b"
             ],
             [
              0.6666666666666666,
              "#ed7953"
             ],
             [
              0.7777777777777778,
              "#fb9f3a"
             ],
             [
              0.8888888888888888,
              "#fdca26"
             ],
             [
              1,
              "#f0f921"
             ]
            ],
            "type": "histogram2dcontour"
           }
          ],
          "mesh3d": [
           {
            "colorbar": {
             "outlinewidth": 0,
             "ticks": ""
            },
            "type": "mesh3d"
           }
          ],
          "parcoords": [
           {
            "line": {
             "colorbar": {
              "outlinewidth": 0,
              "ticks": ""
             }
            },
            "type": "parcoords"
           }
          ],
          "pie": [
           {
            "automargin": true,
            "type": "pie"
           }
          ],
          "scatter": [
           {
            "fillpattern": {
             "fillmode": "overlay",
             "size": 10,
             "solidity": 0.2
            },
            "type": "scatter"
           }
          ],
          "scatter3d": [
           {
            "line": {
             "colorbar": {
              "outlinewidth": 0,
              "ticks": ""
             }
            },
            "marker": {
             "colorbar": {
              "outlinewidth": 0,
              "ticks": ""
             }
            },
            "type": "scatter3d"
           }
          ],
          "scattercarpet": [
           {
            "marker": {
             "colorbar": {
              "outlinewidth": 0,
              "ticks": ""
             }
            },
            "type": "scattercarpet"
           }
          ],
          "scattergeo": [
           {
            "marker": {
             "colorbar": {
              "outlinewidth": 0,
              "ticks": ""
             }
            },
            "type": "scattergeo"
           }
          ],
          "scattergl": [
           {
            "marker": {
             "colorbar": {
              "outlinewidth": 0,
              "ticks": ""
             }
            },
            "type": "scattergl"
           }
          ],
          "scattermapbox": [
           {
            "marker": {
             "colorbar": {
              "outlinewidth": 0,
              "ticks": ""
             }
            },
            "type": "scattermapbox"
           }
          ],
          "scatterpolar": [
           {
            "marker": {
             "colorbar": {
              "outlinewidth": 0,
              "ticks": ""
             }
            },
            "type": "scatterpolar"
           }
          ],
          "scatterpolargl": [
           {
            "marker": {
             "colorbar": {
              "outlinewidth": 0,
              "ticks": ""
             }
            },
            "type": "scatterpolargl"
           }
          ],
          "scatterternary": [
           {
            "marker": {
             "colorbar": {
              "outlinewidth": 0,
              "ticks": ""
             }
            },
            "type": "scatterternary"
           }
          ],
          "surface": [
           {
            "colorbar": {
             "outlinewidth": 0,
             "ticks": ""
            },
            "colorscale": [
             [
              0,
              "#0d0887"
             ],
             [
              0.1111111111111111,
              "#46039f"
             ],
             [
              0.2222222222222222,
              "#7201a8"
             ],
             [
              0.3333333333333333,
              "#9c179e"
             ],
             [
              0.4444444444444444,
              "#bd3786"
             ],
             [
              0.5555555555555556,
              "#d8576b"
             ],
             [
              0.6666666666666666,
              "#ed7953"
             ],
             [
              0.7777777777777778,
              "#fb9f3a"
             ],
             [
              0.8888888888888888,
              "#fdca26"
             ],
             [
              1,
              "#f0f921"
             ]
            ],
            "type": "surface"
           }
          ],
          "table": [
           {
            "cells": {
             "fill": {
              "color": "#EBF0F8"
             },
             "line": {
              "color": "white"
             }
            },
            "header": {
             "fill": {
              "color": "#C8D4E3"
             },
             "line": {
              "color": "white"
             }
            },
            "type": "table"
           }
          ]
         },
         "layout": {
          "annotationdefaults": {
           "arrowcolor": "#2a3f5f",
           "arrowhead": 0,
           "arrowwidth": 1
          },
          "autotypenumbers": "strict",
          "coloraxis": {
           "colorbar": {
            "outlinewidth": 0,
            "ticks": ""
           }
          },
          "colorscale": {
           "diverging": [
            [
             0,
             "#8e0152"
            ],
            [
             0.1,
             "#c51b7d"
            ],
            [
             0.2,
             "#de77ae"
            ],
            [
             0.3,
             "#f1b6da"
            ],
            [
             0.4,
             "#fde0ef"
            ],
            [
             0.5,
             "#f7f7f7"
            ],
            [
             0.6,
             "#e6f5d0"
            ],
            [
             0.7,
             "#b8e186"
            ],
            [
             0.8,
             "#7fbc41"
            ],
            [
             0.9,
             "#4d9221"
            ],
            [
             1,
             "#276419"
            ]
           ],
           "sequential": [
            [
             0,
             "#0d0887"
            ],
            [
             0.1111111111111111,
             "#46039f"
            ],
            [
             0.2222222222222222,
             "#7201a8"
            ],
            [
             0.3333333333333333,
             "#9c179e"
            ],
            [
             0.4444444444444444,
             "#bd3786"
            ],
            [
             0.5555555555555556,
             "#d8576b"
            ],
            [
             0.6666666666666666,
             "#ed7953"
            ],
            [
             0.7777777777777778,
             "#fb9f3a"
            ],
            [
             0.8888888888888888,
             "#fdca26"
            ],
            [
             1,
             "#f0f921"
            ]
           ],
           "sequentialminus": [
            [
             0,
             "#0d0887"
            ],
            [
             0.1111111111111111,
             "#46039f"
            ],
            [
             0.2222222222222222,
             "#7201a8"
            ],
            [
             0.3333333333333333,
             "#9c179e"
            ],
            [
             0.4444444444444444,
             "#bd3786"
            ],
            [
             0.5555555555555556,
             "#d8576b"
            ],
            [
             0.6666666666666666,
             "#ed7953"
            ],
            [
             0.7777777777777778,
             "#fb9f3a"
            ],
            [
             0.8888888888888888,
             "#fdca26"
            ],
            [
             1,
             "#f0f921"
            ]
           ]
          },
          "colorway": [
           "#636efa",
           "#EF553B",
           "#00cc96",
           "#ab63fa",
           "#FFA15A",
           "#19d3f3",
           "#FF6692",
           "#B6E880",
           "#FF97FF",
           "#FECB52"
          ],
          "font": {
           "color": "#2a3f5f"
          },
          "geo": {
           "bgcolor": "white",
           "lakecolor": "white",
           "landcolor": "#E5ECF6",
           "showlakes": true,
           "showland": true,
           "subunitcolor": "white"
          },
          "hoverlabel": {
           "align": "left"
          },
          "hovermode": "closest",
          "mapbox": {
           "style": "light"
          },
          "paper_bgcolor": "white",
          "plot_bgcolor": "#E5ECF6",
          "polar": {
           "angularaxis": {
            "gridcolor": "white",
            "linecolor": "white",
            "ticks": ""
           },
           "bgcolor": "#E5ECF6",
           "radialaxis": {
            "gridcolor": "white",
            "linecolor": "white",
            "ticks": ""
           }
          },
          "scene": {
           "xaxis": {
            "backgroundcolor": "#E5ECF6",
            "gridcolor": "white",
            "gridwidth": 2,
            "linecolor": "white",
            "showbackground": true,
            "ticks": "",
            "zerolinecolor": "white"
           },
           "yaxis": {
            "backgroundcolor": "#E5ECF6",
            "gridcolor": "white",
            "gridwidth": 2,
            "linecolor": "white",
            "showbackground": true,
            "ticks": "",
            "zerolinecolor": "white"
           },
           "zaxis": {
            "backgroundcolor": "#E5ECF6",
            "gridcolor": "white",
            "gridwidth": 2,
            "linecolor": "white",
            "showbackground": true,
            "ticks": "",
            "zerolinecolor": "white"
           }
          },
          "shapedefaults": {
           "line": {
            "color": "#2a3f5f"
           }
          },
          "ternary": {
           "aaxis": {
            "gridcolor": "white",
            "linecolor": "white",
            "ticks": ""
           },
           "baxis": {
            "gridcolor": "white",
            "linecolor": "white",
            "ticks": ""
           },
           "bgcolor": "#E5ECF6",
           "caxis": {
            "gridcolor": "white",
            "linecolor": "white",
            "ticks": ""
           }
          },
          "title": {
           "x": 0.05
          },
          "xaxis": {
           "automargin": true,
           "gridcolor": "white",
           "linecolor": "white",
           "ticks": "",
           "title": {
            "standoff": 15
           },
           "zerolinecolor": "white",
           "zerolinewidth": 2
          },
          "yaxis": {
           "automargin": true,
           "gridcolor": "white",
           "linecolor": "white",
           "ticks": "",
           "title": {
            "standoff": 15
           },
           "zerolinecolor": "white",
           "zerolinewidth": 2
          }
         }
        },
        "xaxis": {
         "anchor": "y",
         "domain": [
          0,
          1
         ],
         "title": {
          "text": "name"
         }
        },
        "yaxis": {
         "anchor": "x",
         "domain": [
          0,
          1
         ],
         "title": {
          "text": "scores_overall"
         }
        }
       }
      },
      "text/html": [
       "<div>                            <div id=\"c83a3fe0-dfca-40f5-8906-43dd23413f9b\" class=\"plotly-graph-div\" style=\"height:400px; width:100%;\"></div>            <script type=\"text/javascript\">                require([\"plotly\"], function(Plotly) {                    window.PLOTLYENV=window.PLOTLYENV || {};                                    if (document.getElementById(\"c83a3fe0-dfca-40f5-8906-43dd23413f9b\")) {                    Plotly.newPlot(                        \"c83a3fe0-dfca-40f5-8906-43dd23413f9b\",                        [{\"alignmentgroup\":\"True\",\"customdata\":[[91.0,99.6],[93.6,96.9],[94.5,98.9],[92.3,96.8],[90.9,99.5],[90.9,94.4],[89.5,96.0],[85.7,96.0],[90.7,93.0],[87.2,90.6]],\"hovertemplate\":\"name=%{x}<br>scores_overall=%{y}<br>Scores Teaching=%{customdata[0]}<br>Scores Research=%{customdata[1]}<extra></extra>\",\"legendgroup\":\"\",\"marker\":{\"color\":\"#636efa\",\"pattern\":{\"shape\":\"\"}},\"name\":\"\",\"offsetgroup\":\"\",\"orientation\":\"v\",\"showlegend\":false,\"textposition\":\"auto\",\"x\":[\"University of Oxford\",\"California Institute of Technology\",\"Harvard University\",\"Stanford University\",\"University of Cambridge\",\"Massachusetts Institute of Technology\",\"Princeton University\",\"University of California, Berkeley\",\"Yale University\",\"The University of Chicago\"],\"xaxis\":\"x\",\"y\":[\"95.7\",\"95.0\",\"95.0\",\"94.9\",\"94.6\",\"94.6\",\"93.6\",\"92.2\",\"90.8\",\"89.8\"],\"yaxis\":\"y\",\"type\":\"bar\"}],                        {\"template\":{\"data\":{\"histogram2dcontour\":[{\"type\":\"histogram2dcontour\",\"colorbar\":{\"outlinewidth\":0,\"ticks\":\"\"},\"colorscale\":[[0.0,\"#0d0887\"],[0.1111111111111111,\"#46039f\"],[0.2222222222222222,\"#7201a8\"],[0.3333333333333333,\"#9c179e\"],[0.4444444444444444,\"#bd3786\"],[0.5555555555555556,\"#d8576b\"],[0.6666666666666666,\"#ed7953\"],[0.7777777777777778,\"#fb9f3a\"],[0.8888888888888888,\"#fdca26\"],[1.0,\"#f0f921\"]]}],\"choropleth\":[{\"type\":\"choropleth\",\"colorbar\":{\"outlinewidth\":0,\"ticks\":\"\"}}],\"histogram2d\":[{\"type\":\"histogram2d\",\"colorbar\":{\"outlinewidth\":0,\"ticks\":\"\"},\"colorscale\":[[0.0,\"#0d0887\"],[0.1111111111111111,\"#46039f\"],[0.2222222222222222,\"#7201a8\"],[0.3333333333333333,\"#9c179e\"],[0.4444444444444444,\"#bd3786\"],[0.5555555555555556,\"#d8576b\"],[0.6666666666666666,\"#ed7953\"],[0.7777777777777778,\"#fb9f3a\"],[0.8888888888888888,\"#fdca26\"],[1.0,\"#f0f921\"]]}],\"heatmap\":[{\"type\":\"heatmap\",\"colorbar\":{\"outlinewidth\":0,\"ticks\":\"\"},\"colorscale\":[[0.0,\"#0d0887\"],[0.1111111111111111,\"#46039f\"],[0.2222222222222222,\"#7201a8\"],[0.3333333333333333,\"#9c179e\"],[0.4444444444444444,\"#bd3786\"],[0.5555555555555556,\"#d8576b\"],[0.6666666666666666,\"#ed7953\"],[0.7777777777777778,\"#fb9f3a\"],[0.8888888888888888,\"#fdca26\"],[1.0,\"#f0f921\"]]}],\"heatmapgl\":[{\"type\":\"heatmapgl\",\"colorbar\":{\"outlinewidth\":0,\"ticks\":\"\"},\"colorscale\":[[0.0,\"#0d0887\"],[0.1111111111111111,\"#46039f\"],[0.2222222222222222,\"#7201a8\"],[0.3333333333333333,\"#9c179e\"],[0.4444444444444444,\"#bd3786\"],[0.5555555555555556,\"#d8576b\"],[0.6666666666666666,\"#ed7953\"],[0.7777777777777778,\"#fb9f3a\"],[0.8888888888888888,\"#fdca26\"],[1.0,\"#f0f921\"]]}],\"contourcarpet\":[{\"type\":\"contourcarpet\",\"colorbar\":{\"outlinewidth\":0,\"ticks\":\"\"}}],\"contour\":[{\"type\":\"contour\",\"colorbar\":{\"outlinewidth\":0,\"ticks\":\"\"},\"colorscale\":[[0.0,\"#0d0887\"],[0.1111111111111111,\"#46039f\"],[0.2222222222222222,\"#7201a8\"],[0.3333333333333333,\"#9c179e\"],[0.4444444444444444,\"#bd3786\"],[0.5555555555555556,\"#d8576b\"],[0.6666666666666666,\"#ed7953\"],[0.7777777777777778,\"#fb9f3a\"],[0.8888888888888888,\"#fdca26\"],[1.0,\"#f0f921\"]]}],\"surface\":[{\"type\":\"surface\",\"colorbar\":{\"outlinewidth\":0,\"ticks\":\"\"},\"colorscale\":[[0.0,\"#0d0887\"],[0.1111111111111111,\"#46039f\"],[0.2222222222222222,\"#7201a8\"],[0.3333333333333333,\"#9c179e\"],[0.4444444444444444,\"#bd3786\"],[0.5555555555555556,\"#d8576b\"],[0.6666666666666666,\"#ed7953\"],[0.7777777777777778,\"#fb9f3a\"],[0.8888888888888888,\"#fdca26\"],[1.0,\"#f0f921\"]]}],\"mesh3d\":[{\"type\":\"mesh3d\",\"colorbar\":{\"outlinewidth\":0,\"ticks\":\"\"}}],\"scatter\":[{\"fillpattern\":{\"fillmode\":\"overlay\",\"size\":10,\"solidity\":0.2},\"type\":\"scatter\"}],\"parcoords\":[{\"type\":\"parcoords\",\"line\":{\"colorbar\":{\"outlinewidth\":0,\"ticks\":\"\"}}}],\"scatterpolargl\":[{\"type\":\"scatterpolargl\",\"marker\":{\"colorbar\":{\"outlinewidth\":0,\"ticks\":\"\"}}}],\"bar\":[{\"error_x\":{\"color\":\"#2a3f5f\"},\"error_y\":{\"color\":\"#2a3f5f\"},\"marker\":{\"line\":{\"color\":\"#E5ECF6\",\"width\":0.5},\"pattern\":{\"fillmode\":\"overlay\",\"size\":10,\"solidity\":0.2}},\"type\":\"bar\"}],\"scattergeo\":[{\"type\":\"scattergeo\",\"marker\":{\"colorbar\":{\"outlinewidth\":0,\"ticks\":\"\"}}}],\"scatterpolar\":[{\"type\":\"scatterpolar\",\"marker\":{\"colorbar\":{\"outlinewidth\":0,\"ticks\":\"\"}}}],\"histogram\":[{\"marker\":{\"pattern\":{\"fillmode\":\"overlay\",\"size\":10,\"solidity\":0.2}},\"type\":\"histogram\"}],\"scattergl\":[{\"type\":\"scattergl\",\"marker\":{\"colorbar\":{\"outlinewidth\":0,\"ticks\":\"\"}}}],\"scatter3d\":[{\"type\":\"scatter3d\",\"line\":{\"colorbar\":{\"outlinewidth\":0,\"ticks\":\"\"}},\"marker\":{\"colorbar\":{\"outlinewidth\":0,\"ticks\":\"\"}}}],\"scattermapbox\":[{\"type\":\"scattermapbox\",\"marker\":{\"colorbar\":{\"outlinewidth\":0,\"ticks\":\"\"}}}],\"scatterternary\":[{\"type\":\"scatterternary\",\"marker\":{\"colorbar\":{\"outlinewidth\":0,\"ticks\":\"\"}}}],\"scattercarpet\":[{\"type\":\"scattercarpet\",\"marker\":{\"colorbar\":{\"outlinewidth\":0,\"ticks\":\"\"}}}],\"carpet\":[{\"aaxis\":{\"endlinecolor\":\"#2a3f5f\",\"gridcolor\":\"white\",\"linecolor\":\"white\",\"minorgridcolor\":\"white\",\"startlinecolor\":\"#2a3f5f\"},\"baxis\":{\"endlinecolor\":\"#2a3f5f\",\"gridcolor\":\"white\",\"linecolor\":\"white\",\"minorgridcolor\":\"white\",\"startlinecolor\":\"#2a3f5f\"},\"type\":\"carpet\"}],\"table\":[{\"cells\":{\"fill\":{\"color\":\"#EBF0F8\"},\"line\":{\"color\":\"white\"}},\"header\":{\"fill\":{\"color\":\"#C8D4E3\"},\"line\":{\"color\":\"white\"}},\"type\":\"table\"}],\"barpolar\":[{\"marker\":{\"line\":{\"color\":\"#E5ECF6\",\"width\":0.5},\"pattern\":{\"fillmode\":\"overlay\",\"size\":10,\"solidity\":0.2}},\"type\":\"barpolar\"}],\"pie\":[{\"automargin\":true,\"type\":\"pie\"}]},\"layout\":{\"autotypenumbers\":\"strict\",\"colorway\":[\"#636efa\",\"#EF553B\",\"#00cc96\",\"#ab63fa\",\"#FFA15A\",\"#19d3f3\",\"#FF6692\",\"#B6E880\",\"#FF97FF\",\"#FECB52\"],\"font\":{\"color\":\"#2a3f5f\"},\"hovermode\":\"closest\",\"hoverlabel\":{\"align\":\"left\"},\"paper_bgcolor\":\"white\",\"plot_bgcolor\":\"#E5ECF6\",\"polar\":{\"bgcolor\":\"#E5ECF6\",\"angularaxis\":{\"gridcolor\":\"white\",\"linecolor\":\"white\",\"ticks\":\"\"},\"radialaxis\":{\"gridcolor\":\"white\",\"linecolor\":\"white\",\"ticks\":\"\"}},\"ternary\":{\"bgcolor\":\"#E5ECF6\",\"aaxis\":{\"gridcolor\":\"white\",\"linecolor\":\"white\",\"ticks\":\"\"},\"baxis\":{\"gridcolor\":\"white\",\"linecolor\":\"white\",\"ticks\":\"\"},\"caxis\":{\"gridcolor\":\"white\",\"linecolor\":\"white\",\"ticks\":\"\"}},\"coloraxis\":{\"colorbar\":{\"outlinewidth\":0,\"ticks\":\"\"}},\"colorscale\":{\"sequential\":[[0.0,\"#0d0887\"],[0.1111111111111111,\"#46039f\"],[0.2222222222222222,\"#7201a8\"],[0.3333333333333333,\"#9c179e\"],[0.4444444444444444,\"#bd3786\"],[0.5555555555555556,\"#d8576b\"],[0.6666666666666666,\"#ed7953\"],[0.7777777777777778,\"#fb9f3a\"],[0.8888888888888888,\"#fdca26\"],[1.0,\"#f0f921\"]],\"sequentialminus\":[[0.0,\"#0d0887\"],[0.1111111111111111,\"#46039f\"],[0.2222222222222222,\"#7201a8\"],[0.3333333333333333,\"#9c179e\"],[0.4444444444444444,\"#bd3786\"],[0.5555555555555556,\"#d8576b\"],[0.6666666666666666,\"#ed7953\"],[0.7777777777777778,\"#fb9f3a\"],[0.8888888888888888,\"#fdca26\"],[1.0,\"#f0f921\"]],\"diverging\":[[0,\"#8e0152\"],[0.1,\"#c51b7d\"],[0.2,\"#de77ae\"],[0.3,\"#f1b6da\"],[0.4,\"#fde0ef\"],[0.5,\"#f7f7f7\"],[0.6,\"#e6f5d0\"],[0.7,\"#b8e186\"],[0.8,\"#7fbc41\"],[0.9,\"#4d9221\"],[1,\"#276419\"]]},\"xaxis\":{\"gridcolor\":\"white\",\"linecolor\":\"white\",\"ticks\":\"\",\"title\":{\"standoff\":15},\"zerolinecolor\":\"white\",\"automargin\":true,\"zerolinewidth\":2},\"yaxis\":{\"gridcolor\":\"white\",\"linecolor\":\"white\",\"ticks\":\"\",\"title\":{\"standoff\":15},\"zerolinecolor\":\"white\",\"automargin\":true,\"zerolinewidth\":2},\"scene\":{\"xaxis\":{\"backgroundcolor\":\"#E5ECF6\",\"gridcolor\":\"white\",\"linecolor\":\"white\",\"showbackground\":true,\"ticks\":\"\",\"zerolinecolor\":\"white\",\"gridwidth\":2},\"yaxis\":{\"backgroundcolor\":\"#E5ECF6\",\"gridcolor\":\"white\",\"linecolor\":\"white\",\"showbackground\":true,\"ticks\":\"\",\"zerolinecolor\":\"white\",\"gridwidth\":2},\"zaxis\":{\"backgroundcolor\":\"#E5ECF6\",\"gridcolor\":\"white\",\"linecolor\":\"white\",\"showbackground\":true,\"ticks\":\"\",\"zerolinecolor\":\"white\",\"gridwidth\":2}},\"shapedefaults\":{\"line\":{\"color\":\"#2a3f5f\"}},\"annotationdefaults\":{\"arrowcolor\":\"#2a3f5f\",\"arrowhead\":0,\"arrowwidth\":1},\"geo\":{\"bgcolor\":\"white\",\"landcolor\":\"#E5ECF6\",\"subunitcolor\":\"white\",\"showland\":true,\"showlakes\":true,\"lakecolor\":\"white\"},\"title\":{\"x\":0.05},\"mapbox\":{\"style\":\"light\"}}},\"xaxis\":{\"anchor\":\"y\",\"domain\":[0.0,1.0],\"title\":{\"text\":\"name\"}},\"yaxis\":{\"anchor\":\"x\",\"domain\":[0.0,1.0],\"title\":{\"text\":\"scores_overall\"}},\"legend\":{\"tracegroupgap\":0},\"margin\":{\"t\":60},\"barmode\":\"relative\",\"height\":400},                        {\"responsive\": true}                    ).then(function(){\n",
       "                            \n",
       "var gd = document.getElementById('c83a3fe0-dfca-40f5-8906-43dd23413f9b');\n",
       "var x = new MutationObserver(function (mutations, observer) {{\n",
       "        var display = window.getComputedStyle(gd).display;\n",
       "        if (!display || display === 'none') {{\n",
       "            console.log([gd, 'removed!']);\n",
       "            Plotly.purge(gd);\n",
       "            observer.disconnect();\n",
       "        }}\n",
       "}});\n",
       "\n",
       "// Listen for the removal of the full notebook cells\n",
       "var notebookContainer = gd.closest('#notebook-container');\n",
       "if (notebookContainer) {{\n",
       "    x.observe(notebookContainer, {childList: true});\n",
       "}}\n",
       "\n",
       "// Listen for the clearing of the current output cell\n",
       "var outputEl = gd.closest('.output');\n",
       "if (outputEl) {{\n",
       "    x.observe(outputEl, {childList: true});\n",
       "}}\n",
       "\n",
       "                        })                };                });            </script>        </div>"
      ]
     },
     "metadata": {},
     "output_type": "display_data"
    }
   ],
   "source": [
    "# TO LEAVE OUT/JUST AS AN EXAMPLE FOR DIFFERENT APPROACH FOR BARPLOT USING PX;\n",
    "fig = px.bar(df_2022.head(10), x=\"name\", y=\"scores_overall\",\n",
    "             hover_data=[\"scores_teaching\", \"scores_research\"],\n",
    "              labels={\"scores_teaching\":\"Scores Teaching\", \"scores_research\":\"Scores Research\"}, height=400)\n",
    "\n",
    "fig.show()"
   ]
  },
  {
   "cell_type": "code",
   "execution_count": 405,
   "id": "23d9daf9",
   "metadata": {},
   "outputs": [],
   "source": [
    "# Preparing data for analysis: Female vs Male Ratio Top 10 University;\n",
    "# 1)Creating new dataframe with needed data from the data:\n",
    "df_ratio = df_2022.head(10)[[\"name\", \"stats_female_male_ratio\"]]"
   ]
  },
  {
   "cell_type": "code",
   "execution_count": 406,
   "id": "397ef046",
   "metadata": {
    "scrolled": true
   },
   "outputs": [],
   "source": [
    "# 2)Split column \"stats_female_male_ratio\" in 2 separate columns in dataframe:\n",
    "df_ratio[[\"female_ratio\", \"male_ratio\"]] = df.stats_female_male_ratio.str.split(\":\", expand = True)"
   ]
  },
  {
   "cell_type": "code",
   "execution_count": 407,
   "id": "6438077c",
   "metadata": {},
   "outputs": [
    {
     "data": {
      "text/html": [
       "<div>\n",
       "<style scoped>\n",
       "    .dataframe tbody tr th:only-of-type {\n",
       "        vertical-align: middle;\n",
       "    }\n",
       "\n",
       "    .dataframe tbody tr th {\n",
       "        vertical-align: top;\n",
       "    }\n",
       "\n",
       "    .dataframe thead th {\n",
       "        text-align: right;\n",
       "    }\n",
       "</style>\n",
       "<table border=\"1\" class=\"dataframe\">\n",
       "  <thead>\n",
       "    <tr style=\"text-align: right;\">\n",
       "      <th></th>\n",
       "      <th>name</th>\n",
       "      <th>female_ratio</th>\n",
       "      <th>male_ratio</th>\n",
       "    </tr>\n",
       "  </thead>\n",
       "  <tbody>\n",
       "    <tr>\n",
       "      <th>0</th>\n",
       "      <td>University of Oxford</td>\n",
       "      <td>47</td>\n",
       "      <td>53</td>\n",
       "    </tr>\n",
       "    <tr>\n",
       "      <th>1</th>\n",
       "      <td>California Institute of Technology</td>\n",
       "      <td>36</td>\n",
       "      <td>64</td>\n",
       "    </tr>\n",
       "    <tr>\n",
       "      <th>2</th>\n",
       "      <td>Harvard University</td>\n",
       "      <td>50</td>\n",
       "      <td>50</td>\n",
       "    </tr>\n",
       "    <tr>\n",
       "      <th>3</th>\n",
       "      <td>Stanford University</td>\n",
       "      <td>46</td>\n",
       "      <td>54</td>\n",
       "    </tr>\n",
       "    <tr>\n",
       "      <th>4</th>\n",
       "      <td>University of Cambridge</td>\n",
       "      <td>47</td>\n",
       "      <td>53</td>\n",
       "    </tr>\n",
       "    <tr>\n",
       "      <th>5</th>\n",
       "      <td>Massachusetts Institute of Technology</td>\n",
       "      <td>40</td>\n",
       "      <td>60</td>\n",
       "    </tr>\n",
       "    <tr>\n",
       "      <th>6</th>\n",
       "      <td>Princeton University</td>\n",
       "      <td>47</td>\n",
       "      <td>53</td>\n",
       "    </tr>\n",
       "    <tr>\n",
       "      <th>7</th>\n",
       "      <td>University of California, Berkeley</td>\n",
       "      <td>51</td>\n",
       "      <td>49</td>\n",
       "    </tr>\n",
       "    <tr>\n",
       "      <th>8</th>\n",
       "      <td>Yale University</td>\n",
       "      <td>51</td>\n",
       "      <td>49</td>\n",
       "    </tr>\n",
       "    <tr>\n",
       "      <th>9</th>\n",
       "      <td>The University of Chicago</td>\n",
       "      <td>46</td>\n",
       "      <td>54</td>\n",
       "    </tr>\n",
       "  </tbody>\n",
       "</table>\n",
       "</div>"
      ],
      "text/plain": [
       "                                    name female_ratio male_ratio\n",
       "0                   University of Oxford          47          53\n",
       "1     California Institute of Technology          36          64\n",
       "2                     Harvard University          50          50\n",
       "3                    Stanford University          46          54\n",
       "4                University of Cambridge          47          53\n",
       "5  Massachusetts Institute of Technology          40          60\n",
       "6                   Princeton University          47          53\n",
       "7     University of California, Berkeley          51          49\n",
       "8                        Yale University          51          49\n",
       "9              The University of Chicago          46          54"
      ]
     },
     "execution_count": 407,
     "metadata": {},
     "output_type": "execute_result"
    }
   ],
   "source": [
    "# 3)Drop the \"stats_female_male_ratio\" column from the dataframe:\n",
    "df_ratio.drop([\"stats_female_male_ratio\"], axis=1)"
   ]
  },
  {
   "cell_type": "code",
   "execution_count": 408,
   "id": "b6e49ba7",
   "metadata": {},
   "outputs": [
    {
     "data": {
      "text/html": [
       "<div>\n",
       "<style scoped>\n",
       "    .dataframe tbody tr th:only-of-type {\n",
       "        vertical-align: middle;\n",
       "    }\n",
       "\n",
       "    .dataframe tbody tr th {\n",
       "        vertical-align: top;\n",
       "    }\n",
       "\n",
       "    .dataframe thead th {\n",
       "        text-align: right;\n",
       "    }\n",
       "</style>\n",
       "<table border=\"1\" class=\"dataframe\">\n",
       "  <thead>\n",
       "    <tr style=\"text-align: right;\">\n",
       "      <th></th>\n",
       "      <th>name</th>\n",
       "      <th>stats_female_male_ratio</th>\n",
       "      <th>female_ratio</th>\n",
       "      <th>male_ratio</th>\n",
       "    </tr>\n",
       "  </thead>\n",
       "  <tbody>\n",
       "    <tr>\n",
       "      <th>0</th>\n",
       "      <td>University of Oxford</td>\n",
       "      <td>47 : 53</td>\n",
       "      <td>47</td>\n",
       "      <td>53</td>\n",
       "    </tr>\n",
       "    <tr>\n",
       "      <th>1</th>\n",
       "      <td>California Institute of Technology</td>\n",
       "      <td>36 : 64</td>\n",
       "      <td>36</td>\n",
       "      <td>64</td>\n",
       "    </tr>\n",
       "    <tr>\n",
       "      <th>2</th>\n",
       "      <td>Harvard University</td>\n",
       "      <td>50 : 50</td>\n",
       "      <td>50</td>\n",
       "      <td>50</td>\n",
       "    </tr>\n",
       "    <tr>\n",
       "      <th>3</th>\n",
       "      <td>Stanford University</td>\n",
       "      <td>46 : 54</td>\n",
       "      <td>46</td>\n",
       "      <td>54</td>\n",
       "    </tr>\n",
       "    <tr>\n",
       "      <th>4</th>\n",
       "      <td>University of Cambridge</td>\n",
       "      <td>47 : 53</td>\n",
       "      <td>47</td>\n",
       "      <td>53</td>\n",
       "    </tr>\n",
       "    <tr>\n",
       "      <th>5</th>\n",
       "      <td>Massachusetts Institute of Technology</td>\n",
       "      <td>40 : 60</td>\n",
       "      <td>40</td>\n",
       "      <td>60</td>\n",
       "    </tr>\n",
       "    <tr>\n",
       "      <th>6</th>\n",
       "      <td>Princeton University</td>\n",
       "      <td>47 : 53</td>\n",
       "      <td>47</td>\n",
       "      <td>53</td>\n",
       "    </tr>\n",
       "    <tr>\n",
       "      <th>7</th>\n",
       "      <td>University of California, Berkeley</td>\n",
       "      <td>51 : 49</td>\n",
       "      <td>51</td>\n",
       "      <td>49</td>\n",
       "    </tr>\n",
       "    <tr>\n",
       "      <th>8</th>\n",
       "      <td>Yale University</td>\n",
       "      <td>51 : 49</td>\n",
       "      <td>51</td>\n",
       "      <td>49</td>\n",
       "    </tr>\n",
       "    <tr>\n",
       "      <th>9</th>\n",
       "      <td>The University of Chicago</td>\n",
       "      <td>46 : 54</td>\n",
       "      <td>46</td>\n",
       "      <td>54</td>\n",
       "    </tr>\n",
       "  </tbody>\n",
       "</table>\n",
       "</div>"
      ],
      "text/plain": [
       "                                    name stats_female_male_ratio female_ratio   \n",
       "0                   University of Oxford                 47 : 53          47   \\\n",
       "1     California Institute of Technology                 36 : 64          36    \n",
       "2                     Harvard University                 50 : 50          50    \n",
       "3                    Stanford University                 46 : 54          46    \n",
       "4                University of Cambridge                 47 : 53          47    \n",
       "5  Massachusetts Institute of Technology                 40 : 60          40    \n",
       "6                   Princeton University                 47 : 53          47    \n",
       "7     University of California, Berkeley                 51 : 49          51    \n",
       "8                        Yale University                 51 : 49          51    \n",
       "9              The University of Chicago                 46 : 54          46    \n",
       "\n",
       "  male_ratio  \n",
       "0         53  \n",
       "1         64  \n",
       "2         50  \n",
       "3         54  \n",
       "4         53  \n",
       "5         60  \n",
       "6         53  \n",
       "7         49  \n",
       "8         49  \n",
       "9         54  "
      ]
     },
     "execution_count": 408,
     "metadata": {},
     "output_type": "execute_result"
    }
   ],
   "source": [
    "df_ratio"
   ]
  },
  {
   "cell_type": "code",
   "execution_count": 411,
   "id": "591aeb26",
   "metadata": {},
   "outputs": [
    {
     "data": {
      "text/plain": [
       "name                       object\n",
       "stats_female_male_ratio    object\n",
       "female_ratio               object\n",
       "male_ratio                 object\n",
       "dtype: object"
      ]
     },
     "execution_count": 411,
     "metadata": {},
     "output_type": "execute_result"
    }
   ],
   "source": [
    "# Check the data types in created dataframe, cannot plot object value, need to convert to numeric values;\n",
    "df_ratio.dtypes"
   ]
  },
  {
   "cell_type": "code",
   "execution_count": 412,
   "id": "3ed1e1b1",
   "metadata": {},
   "outputs": [],
   "source": [
    "# Convert female_ratio and male_ratio columns to numeric;\n",
    "df_ratio[\"female_ratio\"]= df_ratio[\"female_ratio\"].astype(float)\n",
    "df_ratio[\"male_ratio\"]= df_ratio[\"male_ratio\"].astype(float)"
   ]
  },
  {
   "cell_type": "code",
   "execution_count": 413,
   "id": "e1d44ec3",
   "metadata": {},
   "outputs": [],
   "source": [
    "# pie chart for ratio visualization-did not went as expected/only title running\n",
    "# fig = px.pie(df_ratio, values=\"stats_number_students\", names=\"name\", \n",
    "#              title=\"Female vs Male Ratio\",\n",
    "#              hover_data=[\"female_ratio\", \"male_ratio\"])\n",
    "\n",
    "# fig.show()"
   ]
  },
  {
   "cell_type": "code",
   "execution_count": 420,
   "id": "7bf1b500",
   "metadata": {},
   "outputs": [
    {
     "data": {
      "image/png": "[encoded data removed]",
      "text/plain": [
       "<Figure size 1000x300 with 1 Axes>"
      ]
     },
     "metadata": {},
     "output_type": "display_data"
    }
   ],
   "source": [
    "# Female vs Male ratio(%) Top 10 Universities (2022) compared in barplot;\n",
    "\n",
    "df_ratio.plot(kind= \"bar\", x = \"name\", color=(\"green\", \"yellow\"), ec = \"white\")\n",
    "\n",
    "pl.title(\"Female vs Male ratio(%) Top 10 Universities (2022)\", color =\"grey\", fontweight = \"14\")\n",
    "pl.xlabel(\"University Name\", color=\"grey\")\n",
    "pl.xticks(rotation=45, ha=\"right\")\n",
    "pl.legend(loc=\"upper right\")\n",
    "pl.rcParams[\"figure.figsize\"] = (10,3)\n",
    "pl.legend(bbox_to_anchor=(1, 1.01))\n",
    "\n",
    "pl.show()      "
   ]
  },
  {
   "cell_type": "code",
   "execution_count": 161,
   "id": "7c9891a5",
   "metadata": {
    "scrolled": true
   },
   "outputs": [
    {
     "data": {
      "application/vnd.plotly.v1+json": {
       "config": {
        "plotlyServerURL": "https://plot.ly"
       },
       "data": [
        {
         "domain": {
          "x": [
           0,
           1
          ],
          "y": [
           0,
           1
          ]
         },
         "hovertemplate": "label=%{label}<br>value=%{value}<extra></extra>",
         "labels": [
          "United States",
          "United Kingdom",
          "China",
          "Switzerland",
          "Canada",
          "Singapore"
         ],
         "legendgroup": "",
         "name": "",
         "showlegend": true,
         "type": "pie",
         "values": [
          11,
          4,
          2,
          1,
          1,
          1
         ]
        }
       ],
       "layout": {
        "legend": {
         "tracegroupgap": 0
        },
        "template": {
         "data": {
          "bar": [
           {
            "error_x": {
             "color": "#2a3f5f"
            },
            "error_y": {
             "color": "#2a3f5f"
            },
            "marker": {
             "line": {
              "color": "#E5ECF6",
              "width": 0.5
             },
             "pattern": {
              "fillmode": "overlay",
              "size": 10,
              "solidity": 0.2
             }
            },
            "type": "bar"
           }
          ],
          "barpolar": [
           {
            "marker": {
             "line": {
              "color": "#E5ECF6",
              "width": 0.5
             },
             "pattern": {
              "fillmode": "overlay",
              "size": 10,
              "solidity": 0.2
             }
            },
            "type": "barpolar"
           }
          ],
          "carpet": [
           {
            "aaxis": {
             "endlinecolor": "#2a3f5f",
             "gridcolor": "white",
             "linecolor": "white",
             "minorgridcolor": "white",
             "startlinecolor": "#2a3f5f"
            },
            "baxis": {
             "endlinecolor": "#2a3f5f",
             "gridcolor": "white",
             "linecolor": "white",
             "minorgridcolor": "white",
             "startlinecolor": "#2a3f5f"
            },
            "type": "carpet"
           }
          ],
          "choropleth": [
           {
            "colorbar": {
             "outlinewidth": 0,
             "ticks": ""
            },
            "type": "choropleth"
           }
          ],
          "contour": [
           {
            "colorbar": {
             "outlinewidth": 0,
             "ticks": ""
            },
            "colorscale": [
             [
              0,
              "#0d0887"
             ],
             [
              0.1111111111111111,
              "#46039f"
             ],
             [
              0.2222222222222222,
              "#7201a8"
             ],
             [
              0.3333333333333333,
              "#9c179e"
             ],
             [
              0.4444444444444444,
              "#bd3786"
             ],
             [
              0.5555555555555556,
              "#d8576b"
             ],
             [
              0.6666666666666666,
              "#ed7953"
             ],
             [
              0.7777777777777778,
              "#fb9f3a"
             ],
             [
              0.8888888888888888,
              "#fdca26"
             ],
             [
              1,
              "#f0f921"
             ]
            ],
            "type": "contour"
           }
          ],
          "contourcarpet": [
           {
            "colorbar": {
             "outlinewidth": 0,
             "ticks": ""
            },
            "type": "contourcarpet"
           }
          ],
          "heatmap": [
           {
            "colorbar": {
             "outlinewidth": 0,
             "ticks": ""
            },
            "colorscale": [
             [
              0,
              "#0d0887"
             ],
             [
              0.1111111111111111,
              "#46039f"
             ],
             [
              0.2222222222222222,
              "#7201a8"
             ],
             [
              0.3333333333333333,
              "#9c179e"
             ],
             [
              0.4444444444444444,
              "#bd3786"
             ],
             [
              0.5555555555555556,
              "#d8576b"
             ],
             [
              0.6666666666666666,
              "#ed7953"
             ],
             [
              0.7777777777777778,
              "#fb9f3a"
             ],
             [
              0.8888888888888888,
              "#fdca26"
             ],
             [
              1,
              "#f0f921"
             ]
            ],
            "type": "heatmap"
           }
          ],
          "heatmapgl": [
           {
            "colorbar": {
             "outlinewidth": 0,
             "ticks": ""
            },
            "colorscale": [
             [
              0,
              "#0d0887"
             ],
             [
              0.1111111111111111,
              "#46039f"
             ],
             [
              0.2222222222222222,
              "#7201a8"
             ],
             [
              0.3333333333333333,
              "#9c179e"
             ],
             [
              0.4444444444444444,
              "#bd3786"
             ],
             [
              0.5555555555555556,
              "#d8576b"
             ],
             [
              0.6666666666666666,
              "#ed7953"
             ],
             [
              0.7777777777777778,
              "#fb9f3a"
             ],
             [
              0.8888888888888888,
              "#fdca26"
             ],
             [
              1,
              "#f0f921"
             ]
            ],
            "type": "heatmapgl"
           }
          ],
          "histogram": [
           {
            "marker": {
             "pattern": {
              "fillmode": "overlay",
              "size": 10,
              "solidity": 0.2
             }
            },
            "type": "histogram"
           }
          ],
          "histogram2d": [
           {
            "colorbar": {
             "outlinewidth": 0,
             "ticks": ""
            },
            "colorscale": [
             [
              0,
              "#0d0887"
             ],
             [
              0.1111111111111111,
              "#46039f"
             ],
             [
              0.2222222222222222,
              "#7201a8"
             ],
             [
              0.3333333333333333,
              "#9c179e"
             ],
             [
              0.4444444444444444,
              "#bd3786"
             ],
             [
              0.5555555555555556,
              "#d8576b"
             ],
             [
              0.6666666666666666,
              "#ed7953"
             ],
             [
              0.7777777777777778,
              "#fb9f3a"
             ],
             [
              0.8888888888888888,
              "#fdca26"
             ],
             [
              1,
              "#f0f921"
             ]
            ],
            "type": "histogram2d"
           }
          ],
          "histogram2dcontour": [
           {
            "colorbar": {
             "outlinewidth": 0,
             "ticks": ""
            },
            "colorscale": [
             [
              0,
              "#0d0887"
             ],
             [
              0.1111111111111111,
              "#46039f"
             ],
             [
              0.2222222222222222,
              "#7201a8"
             ],
             [
              0.3333333333333333,
              "#9c179e"
             ],
             [
              0.4444444444444444,
              "#bd3786"
             ],
             [
              0.5555555555555556,
              "#d8576b"
             ],
             [
              0.6666666666666666,
              "#ed7953"
             ],
             [
              0.7777777777777778,
              "#fb9f3a"
             ],
             [
              0.8888888888888888,
              "#fdca26"
             ],
             [
              1,
              "#f0f921"
             ]
            ],
            "type": "histogram2dcontour"
           }
          ],
          "mesh3d": [
           {
            "colorbar": {
             "outlinewidth": 0,
             "ticks": ""
            },
            "type": "mesh3d"
           }
          ],
          "parcoords": [
           {
            "line": {
             "colorbar": {
              "outlinewidth": 0,
              "ticks": ""
             }
            },
            "type": "parcoords"
           }
          ],
          "pie": [
           {
            "automargin": true,
            "type": "pie"
           }
          ],
          "scatter": [
           {
            "fillpattern": {
             "fillmode": "overlay",
             "size": 10,
             "solidity": 0.2
            },
            "type": "scatter"
           }
          ],
          "scatter3d": [
           {
            "line": {
             "colorbar": {
              "outlinewidth": 0,
              "ticks": ""
             }
            },
            "marker": {
             "colorbar": {
              "outlinewidth": 0,
              "ticks": ""
             }
            },
            "type": "scatter3d"
           }
          ],
          "scattercarpet": [
           {
            "marker": {
             "colorbar": {
              "outlinewidth": 0,
              "ticks": ""
             }
            },
            "type": "scattercarpet"
           }
          ],
          "scattergeo": [
           {
            "marker": {
             "colorbar": {
              "outlinewidth": 0,
              "ticks": ""
             }
            },
            "type": "scattergeo"
           }
          ],
          "scattergl": [
           {
            "marker": {
             "colorbar": {
              "outlinewidth": 0,
              "ticks": ""
             }
            },
            "type": "scattergl"
           }
          ],
          "scattermapbox": [
           {
            "marker": {
             "colorbar": {
              "outlinewidth": 0,
              "ticks": ""
             }
            },
            "type": "scattermapbox"
           }
          ],
          "scatterpolar": [
           {
            "marker": {
             "colorbar": {
              "outlinewidth": 0,
              "ticks": ""
             }
            },
            "type": "scatterpolar"
           }
          ],
          "scatterpolargl": [
           {
            "marker": {
             "colorbar": {
              "outlinewidth": 0,
              "ticks": ""
             }
            },
            "type": "scatterpolargl"
           }
          ],
          "scatterternary": [
           {
            "marker": {
             "colorbar": {
              "outlinewidth": 0,
              "ticks": ""
             }
            },
            "type": "scatterternary"
           }
          ],
          "surface": [
           {
            "colorbar": {
             "outlinewidth": 0,
             "ticks": ""
            },
            "colorscale": [
             [
              0,
              "#0d0887"
             ],
             [
              0.1111111111111111,
              "#46039f"
             ],
             [
              0.2222222222222222,
              "#7201a8"
             ],
             [
              0.3333333333333333,
              "#9c179e"
             ],
             [
              0.4444444444444444,
              "#bd3786"
             ],
             [
              0.5555555555555556,
              "#d8576b"
             ],
             [
              0.6666666666666666,
              "#ed7953"
             ],
             [
              0.7777777777777778,
              "#fb9f3a"
             ],
             [
              0.8888888888888888,
              "#fdca26"
             ],
             [
              1,
              "#f0f921"
             ]
            ],
            "type": "surface"
           }
          ],
          "table": [
           {
            "cells": {
             "fill": {
              "color": "#EBF0F8"
             },
             "line": {
              "color": "white"
             }
            },
            "header": {
             "fill": {
              "color": "#C8D4E3"
             },
             "line": {
              "color": "white"
             }
            },
            "type": "table"
           }
          ]
         },
         "layout": {
          "annotationdefaults": {
           "arrowcolor": "#2a3f5f",
           "arrowhead": 0,
           "arrowwidth": 1
          },
          "autotypenumbers": "strict",
          "coloraxis": {
           "colorbar": {
            "outlinewidth": 0,
            "ticks": ""
           }
          },
          "colorscale": {
           "diverging": [
            [
             0,
             "#8e0152"
            ],
            [
             0.1,
             "#c51b7d"
            ],
            [
             0.2,
             "#de77ae"
            ],
            [
             0.3,
             "#f1b6da"
            ],
            [
             0.4,
             "#fde0ef"
            ],
            [
             0.5,
             "#f7f7f7"
            ],
            [
             0.6,
             "#e6f5d0"
            ],
            [
             0.7,
             "#b8e186"
            ],
            [
             0.8,
             "#7fbc41"
            ],
            [
             0.9,
             "#4d9221"
            ],
            [
             1,
             "#276419"
            ]
           ],
           "sequential": [
            [
             0,
             "#0d0887"
            ],
            [
             0.1111111111111111,
             "#46039f"
            ],
            [
             0.2222222222222222,
             "#7201a8"
            ],
            [
             0.3333333333333333,
             "#9c179e"
            ],
            [
             0.4444444444444444,
             "#bd3786"
            ],
            [
             0.5555555555555556,
             "#d8576b"
            ],
            [
             0.6666666666666666,
             "#ed7953"
            ],
            [
             0.7777777777777778,
             "#fb9f3a"
            ],
            [
             0.8888888888888888,
             "#fdca26"
            ],
            [
             1,
             "#f0f921"
            ]
           ],
           "sequentialminus": [
            [
             0,
             "#0d0887"
            ],
            [
             0.1111111111111111,
             "#46039f"
            ],
            [
             0.2222222222222222,
             "#7201a8"
            ],
            [
             0.3333333333333333,
             "#9c179e"
            ],
            [
             0.4444444444444444,
             "#bd3786"
            ],
            [
             0.5555555555555556,
             "#d8576b"
            ],
            [
             0.6666666666666666,
             "#ed7953"
            ],
            [
             0.7777777777777778,
             "#fb9f3a"
            ],
            [
             0.8888888888888888,
             "#fdca26"
            ],
            [
             1,
             "#f0f921"
            ]
           ]
          },
          "colorway": [
           "#636efa",
           "#EF553B",
           "#00cc96",
           "#ab63fa",
           "#FFA15A",
           "#19d3f3",
           "#FF6692",
           "#B6E880",
           "#FF97FF",
           "#FECB52"
          ],
          "font": {
           "color": "#2a3f5f"
          },
          "geo": {
           "bgcolor": "white",
           "lakecolor": "white",
           "landcolor": "#E5ECF6",
           "showlakes": true,
           "showland": true,
           "subunitcolor": "white"
          },
          "hoverlabel": {
           "align": "left"
          },
          "hovermode": "closest",
          "mapbox": {
           "style": "light"
          },
          "paper_bgcolor": "white",
          "plot_bgcolor": "#E5ECF6",
          "polar": {
           "angularaxis": {
            "gridcolor": "white",
            "linecolor": "white",
            "ticks": ""
           },
           "bgcolor": "#E5ECF6",
           "radialaxis": {
            "gridcolor": "white",
            "linecolor": "white",
            "ticks": ""
           }
          },
          "scene": {
           "xaxis": {
            "backgroundcolor": "#E5ECF6",
            "gridcolor": "white",
            "gridwidth": 2,
            "linecolor": "white",
            "showbackground": true,
            "ticks": "",
            "zerolinecolor": "white"
           },
           "yaxis": {
            "backgroundcolor": "#E5ECF6",
            "gridcolor": "white",
            "gridwidth": 2,
            "linecolor": "white",
            "showbackground": true,
            "ticks": "",
            "zerolinecolor": "white"
           },
           "zaxis": {
            "backgroundcolor": "#E5ECF6",
            "gridcolor": "white",
            "gridwidth": 2,
            "linecolor": "white",
            "showbackground": true,
            "ticks": "",
            "zerolinecolor": "white"
           }
          },
          "shapedefaults": {
           "line": {
            "color": "#2a3f5f"
           }
          },
          "ternary": {
           "aaxis": {
            "gridcolor": "white",
            "linecolor": "white",
            "ticks": ""
           },
           "baxis": {
            "gridcolor": "white",
            "linecolor": "white",
            "ticks": ""
           },
           "bgcolor": "#E5ECF6",
           "caxis": {
            "gridcolor": "white",
            "linecolor": "white",
            "ticks": ""
           }
          },
          "title": {
           "x": 0.05
          },
          "xaxis": {
           "automargin": true,
           "gridcolor": "white",
           "linecolor": "white",
           "ticks": "",
           "title": {
            "standoff": 15
           },
           "zerolinecolor": "white",
           "zerolinewidth": 2
          },
          "yaxis": {
           "automargin": true,
           "gridcolor": "white",
           "linecolor": "white",
           "ticks": "",
           "title": {
            "standoff": 15
           },
           "zerolinecolor": "white",
           "zerolinewidth": 2
          }
         }
        },
        "title": {
         "text": "Number of Top University per Location"
        }
       }
      },
      "text/html": [
       "<div>                            <div id=\"e02a6c2c-58cd-4333-8dc0-4c1186499bbc\" class=\"plotly-graph-div\" style=\"height:525px; width:100%;\"></div>            <script type=\"text/javascript\">                require([\"plotly\"], function(Plotly) {                    window.PLOTLYENV=window.PLOTLYENV || {};                                    if (document.getElementById(\"e02a6c2c-58cd-4333-8dc0-4c1186499bbc\")) {                    Plotly.newPlot(                        \"e02a6c2c-58cd-4333-8dc0-4c1186499bbc\",                        [{\"domain\":{\"x\":[0.0,1.0],\"y\":[0.0,1.0]},\"hovertemplate\":\"label=%{label}<br>value=%{value}<extra></extra>\",\"labels\":[\"United States\",\"United Kingdom\",\"China\",\"Switzerland\",\"Canada\",\"Singapore\"],\"legendgroup\":\"\",\"name\":\"\",\"showlegend\":true,\"values\":[11,4,2,1,1,1],\"type\":\"pie\"}],                        {\"template\":{\"data\":{\"histogram2dcontour\":[{\"type\":\"histogram2dcontour\",\"colorbar\":{\"outlinewidth\":0,\"ticks\":\"\"},\"colorscale\":[[0.0,\"#0d0887\"],[0.1111111111111111,\"#46039f\"],[0.2222222222222222,\"#7201a8\"],[0.3333333333333333,\"#9c179e\"],[0.4444444444444444,\"#bd3786\"],[0.5555555555555556,\"#d8576b\"],[0.6666666666666666,\"#ed7953\"],[0.7777777777777778,\"#fb9f3a\"],[0.8888888888888888,\"#fdca26\"],[1.0,\"#f0f921\"]]}],\"choropleth\":[{\"type\":\"choropleth\",\"colorbar\":{\"outlinewidth\":0,\"ticks\":\"\"}}],\"histogram2d\":[{\"type\":\"histogram2d\",\"colorbar\":{\"outlinewidth\":0,\"ticks\":\"\"},\"colorscale\":[[0.0,\"#0d0887\"],[0.1111111111111111,\"#46039f\"],[0.2222222222222222,\"#7201a8\"],[0.3333333333333333,\"#9c179e\"],[0.4444444444444444,\"#bd3786\"],[0.5555555555555556,\"#d8576b\"],[0.6666666666666666,\"#ed7953\"],[0.7777777777777778,\"#fb9f3a\"],[0.8888888888888888,\"#fdca26\"],[1.0,\"#f0f921\"]]}],\"heatmap\":[{\"type\":\"heatmap\",\"colorbar\":{\"outlinewidth\":0,\"ticks\":\"\"},\"colorscale\":[[0.0,\"#0d0887\"],[0.1111111111111111,\"#46039f\"],[0.2222222222222222,\"#7201a8\"],[0.3333333333333333,\"#9c179e\"],[0.4444444444444444,\"#bd3786\"],[0.5555555555555556,\"#d8576b\"],[0.6666666666666666,\"#ed7953\"],[0.7777777777777778,\"#fb9f3a\"],[0.8888888888888888,\"#fdca26\"],[1.0,\"#f0f921\"]]}],\"heatmapgl\":[{\"type\":\"heatmapgl\",\"colorbar\":{\"outlinewidth\":0,\"ticks\":\"\"},\"colorscale\":[[0.0,\"#0d0887\"],[0.1111111111111111,\"#46039f\"],[0.2222222222222222,\"#7201a8\"],[0.3333333333333333,\"#9c179e\"],[0.4444444444444444,\"#bd3786\"],[0.5555555555555556,\"#d8576b\"],[0.6666666666666666,\"#ed7953\"],[0.7777777777777778,\"#fb9f3a\"],[0.8888888888888888,\"#fdca26\"],[1.0,\"#f0f921\"]]}],\"contourcarpet\":[{\"type\":\"contourcarpet\",\"colorbar\":{\"outlinewidth\":0,\"ticks\":\"\"}}],\"contour\":[{\"type\":\"contour\",\"colorbar\":{\"outlinewidth\":0,\"ticks\":\"\"},\"colorscale\":[[0.0,\"#0d0887\"],[0.1111111111111111,\"#46039f\"],[0.2222222222222222,\"#7201a8\"],[0.3333333333333333,\"#9c179e\"],[0.4444444444444444,\"#bd3786\"],[0.5555555555555556,\"#d8576b\"],[0.6666666666666666,\"#ed7953\"],[0.7777777777777778,\"#fb9f3a\"],[0.8888888888888888,\"#fdca26\"],[1.0,\"#f0f921\"]]}],\"surface\":[{\"type\":\"surface\",\"colorbar\":{\"outlinewidth\":0,\"ticks\":\"\"},\"colorscale\":[[0.0,\"#0d0887\"],[0.1111111111111111,\"#46039f\"],[0.2222222222222222,\"#7201a8\"],[0.3333333333333333,\"#9c179e\"],[0.4444444444444444,\"#bd3786\"],[0.5555555555555556,\"#d8576b\"],[0.6666666666666666,\"#ed7953\"],[0.7777777777777778,\"#fb9f3a\"],[0.8888888888888888,\"#fdca26\"],[1.0,\"#f0f921\"]]}],\"mesh3d\":[{\"type\":\"mesh3d\",\"colorbar\":{\"outlinewidth\":0,\"ticks\":\"\"}}],\"scatter\":[{\"fillpattern\":{\"fillmode\":\"overlay\",\"size\":10,\"solidity\":0.2},\"type\":\"scatter\"}],\"parcoords\":[{\"type\":\"parcoords\",\"line\":{\"colorbar\":{\"outlinewidth\":0,\"ticks\":\"\"}}}],\"scatterpolargl\":[{\"type\":\"scatterpolargl\",\"marker\":{\"colorbar\":{\"outlinewidth\":0,\"ticks\":\"\"}}}],\"bar\":[{\"error_x\":{\"color\":\"#2a3f5f\"},\"error_y\":{\"color\":\"#2a3f5f\"},\"marker\":{\"line\":{\"color\":\"#E5ECF6\",\"width\":0.5},\"pattern\":{\"fillmode\":\"overlay\",\"size\":10,\"solidity\":0.2}},\"type\":\"bar\"}],\"scattergeo\":[{\"type\":\"scattergeo\",\"marker\":{\"colorbar\":{\"outlinewidth\":0,\"ticks\":\"\"}}}],\"scatterpolar\":[{\"type\":\"scatterpolar\",\"marker\":{\"colorbar\":{\"outlinewidth\":0,\"ticks\":\"\"}}}],\"histogram\":[{\"marker\":{\"pattern\":{\"fillmode\":\"overlay\",\"size\":10,\"solidity\":0.2}},\"type\":\"histogram\"}],\"scattergl\":[{\"type\":\"scattergl\",\"marker\":{\"colorbar\":{\"outlinewidth\":0,\"ticks\":\"\"}}}],\"scatter3d\":[{\"type\":\"scatter3d\",\"line\":{\"colorbar\":{\"outlinewidth\":0,\"ticks\":\"\"}},\"marker\":{\"colorbar\":{\"outlinewidth\":0,\"ticks\":\"\"}}}],\"scattermapbox\":[{\"type\":\"scattermapbox\",\"marker\":{\"colorbar\":{\"outlinewidth\":0,\"ticks\":\"\"}}}],\"scatterternary\":[{\"type\":\"scatterternary\",\"marker\":{\"colorbar\":{\"outlinewidth\":0,\"ticks\":\"\"}}}],\"scattercarpet\":[{\"type\":\"scattercarpet\",\"marker\":{\"colorbar\":{\"outlinewidth\":0,\"ticks\":\"\"}}}],\"carpet\":[{\"aaxis\":{\"endlinecolor\":\"#2a3f5f\",\"gridcolor\":\"white\",\"linecolor\":\"white\",\"minorgridcolor\":\"white\",\"startlinecolor\":\"#2a3f5f\"},\"baxis\":{\"endlinecolor\":\"#2a3f5f\",\"gridcolor\":\"white\",\"linecolor\":\"white\",\"minorgridcolor\":\"white\",\"startlinecolor\":\"#2a3f5f\"},\"type\":\"carpet\"}],\"table\":[{\"cells\":{\"fill\":{\"color\":\"#EBF0F8\"},\"line\":{\"color\":\"white\"}},\"header\":{\"fill\":{\"color\":\"#C8D4E3\"},\"line\":{\"color\":\"white\"}},\"type\":\"table\"}],\"barpolar\":[{\"marker\":{\"line\":{\"color\":\"#E5ECF6\",\"width\":0.5},\"pattern\":{\"fillmode\":\"overlay\",\"size\":10,\"solidity\":0.2}},\"type\":\"barpolar\"}],\"pie\":[{\"automargin\":true,\"type\":\"pie\"}]},\"layout\":{\"autotypenumbers\":\"strict\",\"colorway\":[\"#636efa\",\"#EF553B\",\"#00cc96\",\"#ab63fa\",\"#FFA15A\",\"#19d3f3\",\"#FF6692\",\"#B6E880\",\"#FF97FF\",\"#FECB52\"],\"font\":{\"color\":\"#2a3f5f\"},\"hovermode\":\"closest\",\"hoverlabel\":{\"align\":\"left\"},\"paper_bgcolor\":\"white\",\"plot_bgcolor\":\"#E5ECF6\",\"polar\":{\"bgcolor\":\"#E5ECF6\",\"angularaxis\":{\"gridcolor\":\"white\",\"linecolor\":\"white\",\"ticks\":\"\"},\"radialaxis\":{\"gridcolor\":\"white\",\"linecolor\":\"white\",\"ticks\":\"\"}},\"ternary\":{\"bgcolor\":\"#E5ECF6\",\"aaxis\":{\"gridcolor\":\"white\",\"linecolor\":\"white\",\"ticks\":\"\"},\"baxis\":{\"gridcolor\":\"white\",\"linecolor\":\"white\",\"ticks\":\"\"},\"caxis\":{\"gridcolor\":\"white\",\"linecolor\":\"white\",\"ticks\":\"\"}},\"coloraxis\":{\"colorbar\":{\"outlinewidth\":0,\"ticks\":\"\"}},\"colorscale\":{\"sequential\":[[0.0,\"#0d0887\"],[0.1111111111111111,\"#46039f\"],[0.2222222222222222,\"#7201a8\"],[0.3333333333333333,\"#9c179e\"],[0.4444444444444444,\"#bd3786\"],[0.5555555555555556,\"#d8576b\"],[0.6666666666666666,\"#ed7953\"],[0.7777777777777778,\"#fb9f3a\"],[0.8888888888888888,\"#fdca26\"],[1.0,\"#f0f921\"]],\"sequentialminus\":[[0.0,\"#0d0887\"],[0.1111111111111111,\"#46039f\"],[0.2222222222222222,\"#7201a8\"],[0.3333333333333333,\"#9c179e\"],[0.4444444444444444,\"#bd3786\"],[0.5555555555555556,\"#d8576b\"],[0.6666666666666666,\"#ed7953\"],[0.7777777777777778,\"#fb9f3a\"],[0.8888888888888888,\"#fdca26\"],[1.0,\"#f0f921\"]],\"diverging\":[[0,\"#8e0152\"],[0.1,\"#c51b7d\"],[0.2,\"#de77ae\"],[0.3,\"#f1b6da\"],[0.4,\"#fde0ef\"],[0.5,\"#f7f7f7\"],[0.6,\"#e6f5d0\"],[0.7,\"#b8e186\"],[0.8,\"#7fbc41\"],[0.9,\"#4d9221\"],[1,\"#276419\"]]},\"xaxis\":{\"gridcolor\":\"white\",\"linecolor\":\"white\",\"ticks\":\"\",\"title\":{\"standoff\":15},\"zerolinecolor\":\"white\",\"automargin\":true,\"zerolinewidth\":2},\"yaxis\":{\"gridcolor\":\"white\",\"linecolor\":\"white\",\"ticks\":\"\",\"title\":{\"standoff\":15},\"zerolinecolor\":\"white\",\"automargin\":true,\"zerolinewidth\":2},\"scene\":{\"xaxis\":{\"backgroundcolor\":\"#E5ECF6\",\"gridcolor\":\"white\",\"linecolor\":\"white\",\"showbackground\":true,\"ticks\":\"\",\"zerolinecolor\":\"white\",\"gridwidth\":2},\"yaxis\":{\"backgroundcolor\":\"#E5ECF6\",\"gridcolor\":\"white\",\"linecolor\":\"white\",\"showbackground\":true,\"ticks\":\"\",\"zerolinecolor\":\"white\",\"gridwidth\":2},\"zaxis\":{\"backgroundcolor\":\"#E5ECF6\",\"gridcolor\":\"white\",\"linecolor\":\"white\",\"showbackground\":true,\"ticks\":\"\",\"zerolinecolor\":\"white\",\"gridwidth\":2}},\"shapedefaults\":{\"line\":{\"color\":\"#2a3f5f\"}},\"annotationdefaults\":{\"arrowcolor\":\"#2a3f5f\",\"arrowhead\":0,\"arrowwidth\":1},\"geo\":{\"bgcolor\":\"white\",\"landcolor\":\"#E5ECF6\",\"subunitcolor\":\"white\",\"showland\":true,\"showlakes\":true,\"lakecolor\":\"white\"},\"title\":{\"x\":0.05},\"mapbox\":{\"style\":\"light\"}}},\"legend\":{\"tracegroupgap\":0},\"title\":{\"text\":\"Number of Top University per Location\"}},                        {\"responsive\": true}                    ).then(function(){\n",
       "                            \n",
       "var gd = document.getElementById('e02a6c2c-58cd-4333-8dc0-4c1186499bbc');\n",
       "var x = new MutationObserver(function (mutations, observer) {{\n",
       "        var display = window.getComputedStyle(gd).display;\n",
       "        if (!display || display === 'none') {{\n",
       "            console.log([gd, 'removed!']);\n",
       "            Plotly.purge(gd);\n",
       "            observer.disconnect();\n",
       "        }}\n",
       "}});\n",
       "\n",
       "// Listen for the removal of the full notebook cells\n",
       "var notebookContainer = gd.closest('#notebook-container');\n",
       "if (notebookContainer) {{\n",
       "    x.observe(notebookContainer, {childList: true});\n",
       "}}\n",
       "\n",
       "// Listen for the clearing of the current output cell\n",
       "var outputEl = gd.closest('.output');\n",
       "if (outputEl) {{\n",
       "    x.observe(outputEl, {childList: true});\n",
       "}}\n",
       "\n",
       "                        })                };                });            </script>        </div>"
      ]
     },
     "metadata": {},
     "output_type": "display_data"
    }
   ],
   "source": [
    "# AS YOU HAD IN YOUR JUPYTER/JUST TRIED OUT MYSELF\n",
    "# df_2022_top20 = df_2022.head(20)\n",
    "# df_2022_top20\n",
    "\n",
    "# fig = px.pie(values=df_2022_top20[\"location\"].value_counts(), names=df_2022_top20[\"location\"].value_counts().index,\n",
    "            title=\"Number of Top University per Location\")\n",
    "# fig.show()"
   ]
  },
  {
   "cell_type": "code",
   "execution_count": 129,
   "id": "b18145b2",
   "metadata": {},
   "outputs": [],
   "source": [
    "# AS DISCUSSED LETS LEAVE THIS JUST AS A REFERENCE SAMPLE FOR US FROM THE KAGGLE.COM\n",
    "# Top University ranking comparison by different years\n",
    "# Uploading uni rankings by different years(2015,2019,2022) for comparison for data visualisation\n",
    "df15 = pd.read_csv(r\"C:\\Users\\krent\\OneDrive\\Desktop\\SGT_FinalProject\\2015_rankings.csv\")\n",
    "df19 = pd.read_csv(r\"C:\\Users\\krent\\OneDrive\\Desktop\\SGT_FinalProject\\2019_rankings.csv\")\n",
    "df22 = pd.read_csv(r\"C:\\Users\\krent\\OneDrive\\Desktop\\SGT_FinalProject\\2022_rankings.csv\\2022_rankings.csv\")"
   ]
  },
  {
   "cell_type": "code",
   "execution_count": 147,
   "id": "8dd65d49",
   "metadata": {},
   "outputs": [],
   "source": [
    "def rank_year(df, year):\n",
    "    \n",
    "    df_unirank = df[[\"name\",\"rank\"]][:15]\n",
    "    df_unirank[\"year\"] = year\n",
    "    return df_unirank"
   ]
  },
  {
   "cell_type": "code",
   "execution_count": 148,
   "id": "098cef6c",
   "metadata": {},
   "outputs": [],
   "source": [
    "df_15 = rank_year(df15, 2015)\n",
    "df_19 = rank_year(df19, 2019)\n",
    "df_22 = rank_year(df22, 2022)"
   ]
  },
  {
   "cell_type": "code",
   "execution_count": 149,
   "id": "88e9d8e4",
   "metadata": {},
   "outputs": [],
   "source": [
    "# concatenate the dataframes for visualizations \n",
    "merged_df = pd.concat([df_15, df_19, df_22])\n",
    "merged_df[\"rank\"] = merged_df[\"rank\"].apply(lambda x: \"\".join([re.sub('^=', '', s) for s in x]))\n",
    "merged_df[\"year\"] = merged_df[\"year\"].astype('int64')"
   ]
  },
  {
   "cell_type": "code",
   "execution_count": 270,
   "id": "e6b67633",
   "metadata": {},
   "outputs": [
    {
     "data": {
      "application/vnd.plotly.v1+json": {
       "config": {
        "plotlyServerURL": "https://plot.ly"
       },
       "data": [
        {
         "hovertemplate": "name=California Institute of Technology<br>year=%{x}<br>rank=%{y}<extra></extra>",
         "legendgroup": "California Institute of Technology",
         "line": {
          "color": "#636efa",
          "dash": "solid"
         },
         "marker": {
          "symbol": "circle"
         },
         "mode": "markers+lines",
         "name": "California Institute of Technology",
         "orientation": "h",
         "showlegend": true,
         "type": "scatter",
         "x": [
          2015,
          2019,
          2022
         ],
         "xaxis": "x",
         "y": [
          "1",
          "5",
          "2"
         ],
         "yaxis": "y"
        },
        {
         "hovertemplate": "name=Harvard University<br>year=%{x}<br>rank=%{y}<extra></extra>",
         "legendgroup": "Harvard University",
         "line": {
          "color": "#EF553B",
          "dash": "solid"
         },
         "marker": {
          "symbol": "circle"
         },
         "mode": "markers+lines",
         "name": "Harvard University",
         "orientation": "h",
         "showlegend": true,
         "type": "scatter",
         "x": [
          2015,
          2019,
          2022
         ],
         "xaxis": "x",
         "y": [
          "2",
          "6",
          "2"
         ],
         "yaxis": "y"
        },
        {
         "hovertemplate": "name=University of Oxford<br>year=%{x}<br>rank=%{y}<extra></extra>",
         "legendgroup": "University of Oxford",
         "line": {
          "color": "#00cc96",
          "dash": "solid"
         },
         "marker": {
          "symbol": "circle"
         },
         "mode": "markers+lines",
         "name": "University of Oxford",
         "orientation": "h",
         "showlegend": true,
         "type": "scatter",
         "x": [
          2015,
          2019,
          2022
         ],
         "xaxis": "x",
         "y": [
          "3",
          "1",
          "1"
         ],
         "yaxis": "y"
        },
        {
         "hovertemplate": "name=Stanford University<br>year=%{x}<br>rank=%{y}<extra></extra>",
         "legendgroup": "Stanford University",
         "line": {
          "color": "#ab63fa",
          "dash": "solid"
         },
         "marker": {
          "symbol": "circle"
         },
         "mode": "markers+lines",
         "name": "Stanford University",
         "orientation": "h",
         "showlegend": true,
         "type": "scatter",
         "x": [
          2015,
          2019,
          2022
         ],
         "xaxis": "x",
         "y": [
          "4",
          "3",
          "4"
         ],
         "yaxis": "y"
        },
        {
         "hovertemplate": "name=University of Cambridge<br>year=%{x}<br>rank=%{y}<extra></extra>",
         "legendgroup": "University of Cambridge",
         "line": {
          "color": "#FFA15A",
          "dash": "solid"
         },
         "marker": {
          "symbol": "circle"
         },
         "mode": "markers+lines",
         "name": "University of Cambridge",
         "orientation": "h",
         "showlegend": true,
         "type": "scatter",
         "x": [
          2015,
          2019,
          2022
         ],
         "xaxis": "x",
         "y": [
          "5",
          "2",
          "5"
         ],
         "yaxis": "y"
        },
        {
         "hovertemplate": "name=Massachusetts Institute of Technology<br>year=%{x}<br>rank=%{y}<extra></extra>",
         "legendgroup": "Massachusetts Institute of Technology",
         "line": {
          "color": "#19d3f3",
          "dash": "solid"
         },
         "marker": {
          "symbol": "circle"
         },
         "mode": "markers+lines",
         "name": "Massachusetts Institute of Technology",
         "orientation": "h",
         "showlegend": true,
         "type": "scatter",
         "x": [
          2015,
          2019,
          2022
         ],
         "xaxis": "x",
         "y": [
          "6",
          "4",
          "5"
         ],
         "yaxis": "y"
        },
        {
         "hovertemplate": "name=Princeton University<br>year=%{x}<br>rank=%{y}<extra></extra>",
         "legendgroup": "Princeton University",
         "line": {
          "color": "#FF6692",
          "dash": "solid"
         },
         "marker": {
          "symbol": "circle"
         },
         "mode": "markers+lines",
         "name": "Princeton University",
         "orientation": "h",
         "showlegend": true,
         "type": "scatter",
         "x": [
          2015,
          2019,
          2022
         ],
         "xaxis": "x",
         "y": [
          "7",
          "7",
          "7"
         ],
         "yaxis": "y"
        },
        {
         "hovertemplate": "name=University of California, Berkeley<br>year=%{x}<br>rank=%{y}<extra></extra>",
         "legendgroup": "University of California, Berkeley",
         "line": {
          "color": "#B6E880",
          "dash": "solid"
         },
         "marker": {
          "symbol": "circle"
         },
         "mode": "markers+lines",
         "name": "University of California, Berkeley",
         "orientation": "h",
         "showlegend": true,
         "type": "scatter",
         "x": [
          2015,
          2019,
          2022
         ],
         "xaxis": "x",
         "y": [
          "8",
          "15",
          "8"
         ],
         "yaxis": "y"
        },
        {
         "hovertemplate": "name=Yale University<br>year=%{x}<br>rank=%{y}<extra></extra>",
         "legendgroup": "Yale University",
         "line": {
          "color": "#FF97FF",
          "dash": "solid"
         },
         "marker": {
          "symbol": "circle"
         },
         "mode": "markers+lines",
         "name": "Yale University",
         "orientation": "h",
         "showlegend": true,
         "type": "scatter",
         "x": [
          2015,
          2019,
          2022
         ],
         "xaxis": "x",
         "y": [
          "9",
          "8",
          "9"
         ],
         "yaxis": "y"
        },
        {
         "hovertemplate": "name=Imperial College London<br>year=%{x}<br>rank=%{y}<extra></extra>",
         "legendgroup": "Imperial College London",
         "line": {
          "color": "#FECB52",
          "dash": "solid"
         },
         "marker": {
          "symbol": "circle"
         },
         "mode": "markers+lines",
         "name": "Imperial College London",
         "orientation": "h",
         "showlegend": true,
         "type": "scatter",
         "x": [
          2015,
          2019,
          2022
         ],
         "xaxis": "x",
         "y": [
          "9",
          "9",
          "12"
         ],
         "yaxis": "y"
        },
        {
         "hovertemplate": "name=The University of Chicago<br>year=%{x}<br>rank=%{y}<extra></extra>",
         "legendgroup": "The University of Chicago",
         "line": {
          "color": "#636efa",
          "dash": "solid"
         },
         "marker": {
          "symbol": "circle"
         },
         "mode": "markers+lines",
         "name": "The University of Chicago",
         "orientation": "h",
         "showlegend": true,
         "type": "scatter",
         "x": [
          2015,
          2019,
          2022
         ],
         "xaxis": "x",
         "y": [
          "11",
          "10",
          "10"
         ],
         "yaxis": "y"
        },
        {
         "hovertemplate": "name=University of California, Los Angeles<br>year=%{x}<br>rank=%{y}<extra></extra>",
         "legendgroup": "University of California, Los Angeles",
         "line": {
          "color": "#EF553B",
          "dash": "solid"
         },
         "marker": {
          "symbol": "circle"
         },
         "mode": "markers+lines",
         "name": "University of California, Los Angeles",
         "orientation": "h",
         "showlegend": true,
         "type": "scatter",
         "x": [
          2015
         ],
         "xaxis": "x",
         "y": [
          "12"
         ],
         "yaxis": "y"
        },
        {
         "hovertemplate": "name=ETH Zurich<br>year=%{x}<br>rank=%{y}<extra></extra>",
         "legendgroup": "ETH Zurich",
         "line": {
          "color": "#00cc96",
          "dash": "solid"
         },
         "marker": {
          "symbol": "circle"
         },
         "mode": "markers+lines",
         "name": "ETH Zurich",
         "orientation": "h",
         "showlegend": true,
         "type": "scatter",
         "x": [
          2015,
          2019,
          2022
         ],
         "xaxis": "x",
         "y": [
          "13",
          "11",
          "15"
         ],
         "yaxis": "y"
        },
        {
         "hovertemplate": "name=Columbia University<br>year=%{x}<br>rank=%{y}<extra></extra>",
         "legendgroup": "Columbia University",
         "line": {
          "color": "#ab63fa",
          "dash": "solid"
         },
         "marker": {
          "symbol": "circle"
         },
         "mode": "markers+lines",
         "name": "Columbia University",
         "orientation": "h",
         "showlegend": true,
         "type": "scatter",
         "x": [
          2015,
          2022
         ],
         "xaxis": "x",
         "y": [
          "14",
          "11"
         ],
         "yaxis": "y"
        },
        {
         "hovertemplate": "name=Johns Hopkins University<br>year=%{x}<br>rank=%{y}<extra></extra>",
         "legendgroup": "Johns Hopkins University",
         "line": {
          "color": "#FFA15A",
          "dash": "solid"
         },
         "marker": {
          "symbol": "circle"
         },
         "mode": "markers+lines",
         "name": "Johns Hopkins University",
         "orientation": "h",
         "showlegend": true,
         "type": "scatter",
         "x": [
          2015,
          2019,
          2022
         ],
         "xaxis": "x",
         "y": [
          "15",
          "12",
          "13"
         ],
         "yaxis": "y"
        },
        {
         "hovertemplate": "name=University of Pennsylvania<br>year=%{x}<br>rank=%{y}<extra></extra>",
         "legendgroup": "University of Pennsylvania",
         "line": {
          "color": "#19d3f3",
          "dash": "solid"
         },
         "marker": {
          "symbol": "circle"
         },
         "mode": "markers+lines",
         "name": "University of Pennsylvania",
         "orientation": "h",
         "showlegend": true,
         "type": "scatter",
         "x": [
          2019,
          2022
         ],
         "xaxis": "x",
         "y": [
          "12",
          "13"
         ],
         "yaxis": "y"
        },
        {
         "hovertemplate": "name=UCL<br>year=%{x}<br>rank=%{y}<extra></extra>",
         "legendgroup": "UCL",
         "line": {
          "color": "#FF6692",
          "dash": "solid"
         },
         "marker": {
          "symbol": "circle"
         },
         "mode": "markers+lines",
         "name": "UCL",
         "orientation": "h",
         "showlegend": true,
         "type": "scatter",
         "x": [
          2019
         ],
         "xaxis": "x",
         "y": [
          "14"
         ],
         "yaxis": "y"
        }
       ],
       "layout": {
        "legend": {
         "title": {
          "text": "University Names"
         },
         "tracegroupgap": 0
        },
        "margin": {
         "t": 60
        },
        "template": {
         "data": {
          "bar": [
           {
            "error_x": {
             "color": "#2a3f5f"
            },
            "error_y": {
             "color": "#2a3f5f"
            },
            "marker": {
             "line": {
              "color": "#E5ECF6",
              "width": 0.5
             },
             "pattern": {
              "fillmode": "overlay",
              "size": 10,
              "solidity": 0.2
             }
            },
            "type": "bar"
           }
          ],
          "barpolar": [
           {
            "marker": {
             "line": {
              "color": "#E5ECF6",
              "width": 0.5
             },
             "pattern": {
              "fillmode": "overlay",
              "size": 10,
              "solidity": 0.2
             }
            },
            "type": "barpolar"
           }
          ],
          "carpet": [
           {
            "aaxis": {
             "endlinecolor": "#2a3f5f",
             "gridcolor": "white",
             "linecolor": "white",
             "minorgridcolor": "white",
             "startlinecolor": "#2a3f5f"
            },
            "baxis": {
             "endlinecolor": "#2a3f5f",
             "gridcolor": "white",
             "linecolor": "white",
             "minorgridcolor": "white",
             "startlinecolor": "#2a3f5f"
            },
            "type": "carpet"
           }
          ],
          "choropleth": [
           {
            "colorbar": {
             "outlinewidth": 0,
             "ticks": ""
            },
            "type": "choropleth"
           }
          ],
          "contour": [
           {
            "colorbar": {
             "outlinewidth": 0,
             "ticks": ""
            },
            "colorscale": [
             [
              0,
              "#0d0887"
             ],
             [
              0.1111111111111111,
              "#46039f"
             ],
             [
              0.2222222222222222,
              "#7201a8"
             ],
             [
              0.3333333333333333,
              "#9c179e"
             ],
             [
              0.4444444444444444,
              "#bd3786"
             ],
             [
              0.5555555555555556,
              "#d8576b"
             ],
             [
              0.6666666666666666,
              "#ed7953"
             ],
             [
              0.7777777777777778,
              "#fb9f3a"
             ],
             [
              0.8888888888888888,
              "#fdca26"
             ],
             [
              1,
              "#f0f921"
             ]
            ],
            "type": "contour"
           }
          ],
          "contourcarpet": [
           {
            "colorbar": {
             "outlinewidth": 0,
             "ticks": ""
            },
            "type": "contourcarpet"
           }
          ],
          "heatmap": [
           {
            "colorbar": {
             "outlinewidth": 0,
             "ticks": ""
            },
            "colorscale": [
             [
              0,
              "#0d0887"
             ],
             [
              0.1111111111111111,
              "#46039f"
             ],
             [
              0.2222222222222222,
              "#7201a8"
             ],
             [
              0.3333333333333333,
              "#9c179e"
             ],
             [
              0.4444444444444444,
              "#bd3786"
             ],
             [
              0.5555555555555556,
              "#d8576b"
             ],
             [
              0.6666666666666666,
              "#ed7953"
             ],
             [
              0.7777777777777778,
              "#fb9f3a"
             ],
             [
              0.8888888888888888,
              "#fdca26"
             ],
             [
              1,
              "#f0f921"
             ]
            ],
            "type": "heatmap"
           }
          ],
          "heatmapgl": [
           {
            "colorbar": {
             "outlinewidth": 0,
             "ticks": ""
            },
            "colorscale": [
             [
              0,
              "#0d0887"
             ],
             [
              0.1111111111111111,
              "#46039f"
             ],
             [
              0.2222222222222222,
              "#7201a8"
             ],
             [
              0.3333333333333333,
              "#9c179e"
             ],
             [
              0.4444444444444444,
              "#bd3786"
             ],
             [
              0.5555555555555556,
              "#d8576b"
             ],
             [
              0.6666666666666666,
              "#ed7953"
             ],
             [
              0.7777777777777778,
              "#fb9f3a"
             ],
             [
              0.8888888888888888,
              "#fdca26"
             ],
             [
              1,
              "#f0f921"
             ]
            ],
            "type": "heatmapgl"
           }
          ],
          "histogram": [
           {
            "marker": {
             "pattern": {
              "fillmode": "overlay",
              "size": 10,
              "solidity": 0.2
             }
            },
            "type": "histogram"
           }
          ],
          "histogram2d": [
           {
            "colorbar": {
             "outlinewidth": 0,
             "ticks": ""
            },
            "colorscale": [
             [
              0,
              "#0d0887"
             ],
             [
              0.1111111111111111,
              "#46039f"
             ],
             [
              0.2222222222222222,
              "#7201a8"
             ],
             [
              0.3333333333333333,
              "#9c179e"
             ],
             [
              0.4444444444444444,
              "#bd3786"
             ],
             [
              0.5555555555555556,
              "#d8576b"
             ],
             [
              0.6666666666666666,
              "#ed7953"
             ],
             [
              0.7777777777777778,
              "#fb9f3a"
             ],
             [
              0.8888888888888888,
              "#fdca26"
             ],
             [
              1,
              "#f0f921"
             ]
            ],
            "type": "histogram2d"
           }
          ],
          "histogram2dcontour": [
           {
            "colorbar": {
             "outlinewidth": 0,
             "ticks": ""
            },
            "colorscale": [
             [
              0,
              "#0d0887"
             ],
             [
              0.1111111111111111,
              "#46039f"
             ],
             [
              0.2222222222222222,
              "#7201a8"
             ],
             [
              0.3333333333333333,
              "#9c179e"
             ],
             [
              0.4444444444444444,
              "#bd3786"
             ],
             [
              0.5555555555555556,
              "#d8576b"
             ],
             [
              0.6666666666666666,
              "#ed7953"
             ],
             [
              0.7777777777777778,
              "#fb9f3a"
             ],
             [
              0.8888888888888888,
              "#fdca26"
             ],
             [
              1,
              "#f0f921"
             ]
            ],
            "type": "histogram2dcontour"
           }
          ],
          "mesh3d": [
           {
            "colorbar": {
             "outlinewidth": 0,
             "ticks": ""
            },
            "type": "mesh3d"
           }
          ],
          "parcoords": [
           {
            "line": {
             "colorbar": {
              "outlinewidth": 0,
              "ticks": ""
             }
            },
            "type": "parcoords"
           }
          ],
          "pie": [
           {
            "automargin": true,
            "type": "pie"
           }
          ],
          "scatter": [
           {
            "fillpattern": {
             "fillmode": "overlay",
             "size": 10,
             "solidity": 0.2
            },
            "type": "scatter"
           }
          ],
          "scatter3d": [
           {
            "line": {
             "colorbar": {
              "outlinewidth": 0,
              "ticks": ""
             }
            },
            "marker": {
             "colorbar": {
              "outlinewidth": 0,
              "ticks": ""
             }
            },
            "type": "scatter3d"
           }
          ],
          "scattercarpet": [
           {
            "marker": {
             "colorbar": {
              "outlinewidth": 0,
              "ticks": ""
             }
            },
            "type": "scattercarpet"
           }
          ],
          "scattergeo": [
           {
            "marker": {
             "colorbar": {
              "outlinewidth": 0,
              "ticks": ""
             }
            },
            "type": "scattergeo"
           }
          ],
          "scattergl": [
           {
            "marker": {
             "colorbar": {
              "outlinewidth": 0,
              "ticks": ""
             }
            },
            "type": "scattergl"
           }
          ],
          "scattermapbox": [
           {
            "marker": {
             "colorbar": {
              "outlinewidth": 0,
              "ticks": ""
             }
            },
            "type": "scattermapbox"
           }
          ],
          "scatterpolar": [
           {
            "marker": {
             "colorbar": {
              "outlinewidth": 0,
              "ticks": ""
             }
            },
            "type": "scatterpolar"
           }
          ],
          "scatterpolargl": [
           {
            "marker": {
             "colorbar": {
              "outlinewidth": 0,
              "ticks": ""
             }
            },
            "type": "scatterpolargl"
           }
          ],
          "scatterternary": [
           {
            "marker": {
             "colorbar": {
              "outlinewidth": 0,
              "ticks": ""
             }
            },
            "type": "scatterternary"
           }
          ],
          "surface": [
           {
            "colorbar": {
             "outlinewidth": 0,
             "ticks": ""
            },
            "colorscale": [
             [
              0,
              "#0d0887"
             ],
             [
              0.1111111111111111,
              "#46039f"
             ],
             [
              0.2222222222222222,
              "#7201a8"
             ],
             [
              0.3333333333333333,
              "#9c179e"
             ],
             [
              0.4444444444444444,
              "#bd3786"
             ],
             [
              0.5555555555555556,
              "#d8576b"
             ],
             [
              0.6666666666666666,
              "#ed7953"
             ],
             [
              0.7777777777777778,
              "#fb9f3a"
             ],
             [
              0.8888888888888888,
              "#fdca26"
             ],
             [
              1,
              "#f0f921"
             ]
            ],
            "type": "surface"
           }
          ],
          "table": [
           {
            "cells": {
             "fill": {
              "color": "#EBF0F8"
             },
             "line": {
              "color": "white"
             }
            },
            "header": {
             "fill": {
              "color": "#C8D4E3"
             },
             "line": {
              "color": "white"
             }
            },
            "type": "table"
           }
          ]
         },
         "layout": {
          "annotationdefaults": {
           "arrowcolor": "#2a3f5f",
           "arrowhead": 0,
           "arrowwidth": 1
          },
          "autotypenumbers": "strict",
          "coloraxis": {
           "colorbar": {
            "outlinewidth": 0,
            "ticks": ""
           }
          },
          "colorscale": {
           "diverging": [
            [
             0,
             "#8e0152"
            ],
            [
             0.1,
             "#c51b7d"
            ],
            [
             0.2,
             "#de77ae"
            ],
            [
             0.3,
             "#f1b6da"
            ],
            [
             0.4,
             "#fde0ef"
            ],
            [
             0.5,
             "#f7f7f7"
            ],
            [
             0.6,
             "#e6f5d0"
            ],
            [
             0.7,
             "#b8e186"
            ],
            [
             0.8,
             "#7fbc41"
            ],
            [
             0.9,
             "#4d9221"
            ],
            [
             1,
             "#276419"
            ]
           ],
           "sequential": [
            [
             0,
             "#0d0887"
            ],
            [
             0.1111111111111111,
             "#46039f"
            ],
            [
             0.2222222222222222,
             "#7201a8"
            ],
            [
             0.3333333333333333,
             "#9c179e"
            ],
            [
             0.4444444444444444,
             "#bd3786"
            ],
            [
             0.5555555555555556,
             "#d8576b"
            ],
            [
             0.6666666666666666,
             "#ed7953"
            ],
            [
             0.7777777777777778,
             "#fb9f3a"
            ],
            [
             0.8888888888888888,
             "#fdca26"
            ],
            [
             1,
             "#f0f921"
            ]
           ],
           "sequentialminus": [
            [
             0,
             "#0d0887"
            ],
            [
             0.1111111111111111,
             "#46039f"
            ],
            [
             0.2222222222222222,
             "#7201a8"
            ],
            [
             0.3333333333333333,
             "#9c179e"
            ],
            [
             0.4444444444444444,
             "#bd3786"
            ],
            [
             0.5555555555555556,
             "#d8576b"
            ],
            [
             0.6666666666666666,
             "#ed7953"
            ],
            [
             0.7777777777777778,
             "#fb9f3a"
            ],
            [
             0.8888888888888888,
             "#fdca26"
            ],
            [
             1,
             "#f0f921"
            ]
           ]
          },
          "colorway": [
           "#636efa",
           "#EF553B",
           "#00cc96",
           "#ab63fa",
           "#FFA15A",
           "#19d3f3",
           "#FF6692",
           "#B6E880",
           "#FF97FF",
           "#FECB52"
          ],
          "font": {
           "color": "#2a3f5f"
          },
          "geo": {
           "bgcolor": "white",
           "lakecolor": "white",
           "landcolor": "#E5ECF6",
           "showlakes": true,
           "showland": true,
           "subunitcolor": "white"
          },
          "hoverlabel": {
           "align": "left"
          },
          "hovermode": "closest",
          "mapbox": {
           "style": "light"
          },
          "paper_bgcolor": "white",
          "plot_bgcolor": "#E5ECF6",
          "polar": {
           "angularaxis": {
            "gridcolor": "white",
            "linecolor": "white",
            "ticks": ""
           },
           "bgcolor": "#E5ECF6",
           "radialaxis": {
            "gridcolor": "white",
            "linecolor": "white",
            "ticks": ""
           }
          },
          "scene": {
           "xaxis": {
            "backgroundcolor": "#E5ECF6",
            "gridcolor": "white",
            "gridwidth": 2,
            "linecolor": "white",
            "showbackground": true,
            "ticks": "",
            "zerolinecolor": "white"
           },
           "yaxis": {
            "backgroundcolor": "#E5ECF6",
            "gridcolor": "white",
            "gridwidth": 2,
            "linecolor": "white",
            "showbackground": true,
            "ticks": "",
            "zerolinecolor": "white"
           },
           "zaxis": {
            "backgroundcolor": "#E5ECF6",
            "gridcolor": "white",
            "gridwidth": 2,
            "linecolor": "white",
            "showbackground": true,
            "ticks": "",
            "zerolinecolor": "white"
           }
          },
          "shapedefaults": {
           "line": {
            "color": "#2a3f5f"
           }
          },
          "ternary": {
           "aaxis": {
            "gridcolor": "white",
            "linecolor": "white",
            "ticks": ""
           },
           "baxis": {
            "gridcolor": "white",
            "linecolor": "white",
            "ticks": ""
           },
           "bgcolor": "#E5ECF6",
           "caxis": {
            "gridcolor": "white",
            "linecolor": "white",
            "ticks": ""
           }
          },
          "title": {
           "x": 0.05
          },
          "xaxis": {
           "automargin": true,
           "gridcolor": "white",
           "linecolor": "white",
           "ticks": "",
           "title": {
            "standoff": 15
           },
           "zerolinecolor": "white",
           "zerolinewidth": 2
          },
          "yaxis": {
           "automargin": true,
           "gridcolor": "white",
           "linecolor": "white",
           "ticks": "",
           "title": {
            "standoff": 15
           },
           "zerolinecolor": "white",
           "zerolinewidth": 2
          }
         }
        },
        "title": {
         "text": "Top 15 University ranks over years 2015, 2019, 2022"
        },
        "xaxis": {
         "anchor": "y",
         "domain": [
          0,
          1
         ],
         "title": {
          "text": "Year"
         }
        },
        "yaxis": {
         "anchor": "x",
         "autorange": "reversed",
         "domain": [
          0,
          1
         ],
         "title": {
          "text": "Rankings"
         }
        }
       }
      },
      "text/html": [
       "<div>                            <div id=\"4c420630-a7c9-4381-a117-d193908d61dc\" class=\"plotly-graph-div\" style=\"height:525px; width:100%;\"></div>            <script type=\"text/javascript\">                require([\"plotly\"], function(Plotly) {                    window.PLOTLYENV=window.PLOTLYENV || {};                                    if (document.getElementById(\"4c420630-a7c9-4381-a117-d193908d61dc\")) {                    Plotly.newPlot(                        \"4c420630-a7c9-4381-a117-d193908d61dc\",                        [{\"hovertemplate\":\"name=California Institute of Technology<br>year=%{x}<br>rank=%{y}<extra></extra>\",\"legendgroup\":\"California Institute of Technology\",\"line\":{\"color\":\"#636efa\",\"dash\":\"solid\"},\"marker\":{\"symbol\":\"circle\"},\"mode\":\"markers+lines\",\"name\":\"California Institute of Technology\",\"orientation\":\"h\",\"showlegend\":true,\"x\":[2015,2019,2022],\"xaxis\":\"x\",\"y\":[\"1\",\"5\",\"2\"],\"yaxis\":\"y\",\"type\":\"scatter\"},{\"hovertemplate\":\"name=Harvard University<br>year=%{x}<br>rank=%{y}<extra></extra>\",\"legendgroup\":\"Harvard University\",\"line\":{\"color\":\"#EF553B\",\"dash\":\"solid\"},\"marker\":{\"symbol\":\"circle\"},\"mode\":\"markers+lines\",\"name\":\"Harvard University\",\"orientation\":\"h\",\"showlegend\":true,\"x\":[2015,2019,2022],\"xaxis\":\"x\",\"y\":[\"2\",\"6\",\"2\"],\"yaxis\":\"y\",\"type\":\"scatter\"},{\"hovertemplate\":\"name=University of Oxford<br>year=%{x}<br>rank=%{y}<extra></extra>\",\"legendgroup\":\"University of Oxford\",\"line\":{\"color\":\"#00cc96\",\"dash\":\"solid\"},\"marker\":{\"symbol\":\"circle\"},\"mode\":\"markers+lines\",\"name\":\"University of Oxford\",\"orientation\":\"h\",\"showlegend\":true,\"x\":[2015,2019,2022],\"xaxis\":\"x\",\"y\":[\"3\",\"1\",\"1\"],\"yaxis\":\"y\",\"type\":\"scatter\"},{\"hovertemplate\":\"name=Stanford University<br>year=%{x}<br>rank=%{y}<extra></extra>\",\"legendgroup\":\"Stanford University\",\"line\":{\"color\":\"#ab63fa\",\"dash\":\"solid\"},\"marker\":{\"symbol\":\"circle\"},\"mode\":\"markers+lines\",\"name\":\"Stanford University\",\"orientation\":\"h\",\"showlegend\":true,\"x\":[2015,2019,2022],\"xaxis\":\"x\",\"y\":[\"4\",\"3\",\"4\"],\"yaxis\":\"y\",\"type\":\"scatter\"},{\"hovertemplate\":\"name=University of Cambridge<br>year=%{x}<br>rank=%{y}<extra></extra>\",\"legendgroup\":\"University of Cambridge\",\"line\":{\"color\":\"#FFA15A\",\"dash\":\"solid\"},\"marker\":{\"symbol\":\"circle\"},\"mode\":\"markers+lines\",\"name\":\"University of Cambridge\",\"orientation\":\"h\",\"showlegend\":true,\"x\":[2015,2019,2022],\"xaxis\":\"x\",\"y\":[\"5\",\"2\",\"5\"],\"yaxis\":\"y\",\"type\":\"scatter\"},{\"hovertemplate\":\"name=Massachusetts Institute of Technology<br>year=%{x}<br>rank=%{y}<extra></extra>\",\"legendgroup\":\"Massachusetts Institute of Technology\",\"line\":{\"color\":\"#19d3f3\",\"dash\":\"solid\"},\"marker\":{\"symbol\":\"circle\"},\"mode\":\"markers+lines\",\"name\":\"Massachusetts Institute of Technology\",\"orientation\":\"h\",\"showlegend\":true,\"x\":[2015,2019,2022],\"xaxis\":\"x\",\"y\":[\"6\",\"4\",\"5\"],\"yaxis\":\"y\",\"type\":\"scatter\"},{\"hovertemplate\":\"name=Princeton University<br>year=%{x}<br>rank=%{y}<extra></extra>\",\"legendgroup\":\"Princeton University\",\"line\":{\"color\":\"#FF6692\",\"dash\":\"solid\"},\"marker\":{\"symbol\":\"circle\"},\"mode\":\"markers+lines\",\"name\":\"Princeton University\",\"orientation\":\"h\",\"showlegend\":true,\"x\":[2015,2019,2022],\"xaxis\":\"x\",\"y\":[\"7\",\"7\",\"7\"],\"yaxis\":\"y\",\"type\":\"scatter\"},{\"hovertemplate\":\"name=University of California, Berkeley<br>year=%{x}<br>rank=%{y}<extra></extra>\",\"legendgroup\":\"University of California, Berkeley\",\"line\":{\"color\":\"#B6E880\",\"dash\":\"solid\"},\"marker\":{\"symbol\":\"circle\"},\"mode\":\"markers+lines\",\"name\":\"University of California, Berkeley\",\"orientation\":\"h\",\"showlegend\":true,\"x\":[2015,2019,2022],\"xaxis\":\"x\",\"y\":[\"8\",\"15\",\"8\"],\"yaxis\":\"y\",\"type\":\"scatter\"},{\"hovertemplate\":\"name=Yale University<br>year=%{x}<br>rank=%{y}<extra></extra>\",\"legendgroup\":\"Yale University\",\"line\":{\"color\":\"#FF97FF\",\"dash\":\"solid\"},\"marker\":{\"symbol\":\"circle\"},\"mode\":\"markers+lines\",\"name\":\"Yale University\",\"orientation\":\"h\",\"showlegend\":true,\"x\":[2015,2019,2022],\"xaxis\":\"x\",\"y\":[\"9\",\"8\",\"9\"],\"yaxis\":\"y\",\"type\":\"scatter\"},{\"hovertemplate\":\"name=Imperial College London<br>year=%{x}<br>rank=%{y}<extra></extra>\",\"legendgroup\":\"Imperial College London\",\"line\":{\"color\":\"#FECB52\",\"dash\":\"solid\"},\"marker\":{\"symbol\":\"circle\"},\"mode\":\"markers+lines\",\"name\":\"Imperial College London\",\"orientation\":\"h\",\"showlegend\":true,\"x\":[2015,2019,2022],\"xaxis\":\"x\",\"y\":[\"9\",\"9\",\"12\"],\"yaxis\":\"y\",\"type\":\"scatter\"},{\"hovertemplate\":\"name=The University of Chicago<br>year=%{x}<br>rank=%{y}<extra></extra>\",\"legendgroup\":\"The University of Chicago\",\"line\":{\"color\":\"#636efa\",\"dash\":\"solid\"},\"marker\":{\"symbol\":\"circle\"},\"mode\":\"markers+lines\",\"name\":\"The University of Chicago\",\"orientation\":\"h\",\"showlegend\":true,\"x\":[2015,2019,2022],\"xaxis\":\"x\",\"y\":[\"11\",\"10\",\"10\"],\"yaxis\":\"y\",\"type\":\"scatter\"},{\"hovertemplate\":\"name=University of California, Los Angeles<br>year=%{x}<br>rank=%{y}<extra></extra>\",\"legendgroup\":\"University of California, Los Angeles\",\"line\":{\"color\":\"#EF553B\",\"dash\":\"solid\"},\"marker\":{\"symbol\":\"circle\"},\"mode\":\"markers+lines\",\"name\":\"University of California, Los Angeles\",\"orientation\":\"h\",\"showlegend\":true,\"x\":[2015],\"xaxis\":\"x\",\"y\":[\"12\"],\"yaxis\":\"y\",\"type\":\"scatter\"},{\"hovertemplate\":\"name=ETH Zurich<br>year=%{x}<br>rank=%{y}<extra></extra>\",\"legendgroup\":\"ETH Zurich\",\"line\":{\"color\":\"#00cc96\",\"dash\":\"solid\"},\"marker\":{\"symbol\":\"circle\"},\"mode\":\"markers+lines\",\"name\":\"ETH Zurich\",\"orientation\":\"h\",\"showlegend\":true,\"x\":[2015,2019,2022],\"xaxis\":\"x\",\"y\":[\"13\",\"11\",\"15\"],\"yaxis\":\"y\",\"type\":\"scatter\"},{\"hovertemplate\":\"name=Columbia University<br>year=%{x}<br>rank=%{y}<extra></extra>\",\"legendgroup\":\"Columbia University\",\"line\":{\"color\":\"#ab63fa\",\"dash\":\"solid\"},\"marker\":{\"symbol\":\"circle\"},\"mode\":\"markers+lines\",\"name\":\"Columbia University\",\"orientation\":\"h\",\"showlegend\":true,\"x\":[2015,2022],\"xaxis\":\"x\",\"y\":[\"14\",\"11\"],\"yaxis\":\"y\",\"type\":\"scatter\"},{\"hovertemplate\":\"name=Johns Hopkins University<br>year=%{x}<br>rank=%{y}<extra></extra>\",\"legendgroup\":\"Johns Hopkins University\",\"line\":{\"color\":\"#FFA15A\",\"dash\":\"solid\"},\"marker\":{\"symbol\":\"circle\"},\"mode\":\"markers+lines\",\"name\":\"Johns Hopkins University\",\"orientation\":\"h\",\"showlegend\":true,\"x\":[2015,2019,2022],\"xaxis\":\"x\",\"y\":[\"15\",\"12\",\"13\"],\"yaxis\":\"y\",\"type\":\"scatter\"},{\"hovertemplate\":\"name=University of Pennsylvania<br>year=%{x}<br>rank=%{y}<extra></extra>\",\"legendgroup\":\"University of Pennsylvania\",\"line\":{\"color\":\"#19d3f3\",\"dash\":\"solid\"},\"marker\":{\"symbol\":\"circle\"},\"mode\":\"markers+lines\",\"name\":\"University of Pennsylvania\",\"orientation\":\"h\",\"showlegend\":true,\"x\":[2019,2022],\"xaxis\":\"x\",\"y\":[\"12\",\"13\"],\"yaxis\":\"y\",\"type\":\"scatter\"},{\"hovertemplate\":\"name=UCL<br>year=%{x}<br>rank=%{y}<extra></extra>\",\"legendgroup\":\"UCL\",\"line\":{\"color\":\"#FF6692\",\"dash\":\"solid\"},\"marker\":{\"symbol\":\"circle\"},\"mode\":\"markers+lines\",\"name\":\"UCL\",\"orientation\":\"h\",\"showlegend\":true,\"x\":[2019],\"xaxis\":\"x\",\"y\":[\"14\"],\"yaxis\":\"y\",\"type\":\"scatter\"}],                        {\"template\":{\"data\":{\"histogram2dcontour\":[{\"type\":\"histogram2dcontour\",\"colorbar\":{\"outlinewidth\":0,\"ticks\":\"\"},\"colorscale\":[[0.0,\"#0d0887\"],[0.1111111111111111,\"#46039f\"],[0.2222222222222222,\"#7201a8\"],[0.3333333333333333,\"#9c179e\"],[0.4444444444444444,\"#bd3786\"],[0.5555555555555556,\"#d8576b\"],[0.6666666666666666,\"#ed7953\"],[0.7777777777777778,\"#fb9f3a\"],[0.8888888888888888,\"#fdca26\"],[1.0,\"#f0f921\"]]}],\"choropleth\":[{\"type\":\"choropleth\",\"colorbar\":{\"outlinewidth\":0,\"ticks\":\"\"}}],\"histogram2d\":[{\"type\":\"histogram2d\",\"colorbar\":{\"outlinewidth\":0,\"ticks\":\"\"},\"colorscale\":[[0.0,\"#0d0887\"],[0.1111111111111111,\"#46039f\"],[0.2222222222222222,\"#7201a8\"],[0.3333333333333333,\"#9c179e\"],[0.4444444444444444,\"#bd3786\"],[0.5555555555555556,\"#d8576b\"],[0.6666666666666666,\"#ed7953\"],[0.7777777777777778,\"#fb9f3a\"],[0.8888888888888888,\"#fdca26\"],[1.0,\"#f0f921\"]]}],\"heatmap\":[{\"type\":\"heatmap\",\"colorbar\":{\"outlinewidth\":0,\"ticks\":\"\"},\"colorscale\":[[0.0,\"#0d0887\"],[0.1111111111111111,\"#46039f\"],[0.2222222222222222,\"#7201a8\"],[0.3333333333333333,\"#9c179e\"],[0.4444444444444444,\"#bd3786\"],[0.5555555555555556,\"#d8576b\"],[0.6666666666666666,\"#ed7953\"],[0.7777777777777778,\"#fb9f3a\"],[0.8888888888888888,\"#fdca26\"],[1.0,\"#f0f921\"]]}],\"heatmapgl\":[{\"type\":\"heatmapgl\",\"colorbar\":{\"outlinewidth\":0,\"ticks\":\"\"},\"colorscale\":[[0.0,\"#0d0887\"],[0.1111111111111111,\"#46039f\"],[0.2222222222222222,\"#7201a8\"],[0.3333333333333333,\"#9c179e\"],[0.4444444444444444,\"#bd3786\"],[0.5555555555555556,\"#d8576b\"],[0.6666666666666666,\"#ed7953\"],[0.7777777777777778,\"#fb9f3a\"],[0.8888888888888888,\"#fdca26\"],[1.0,\"#f0f921\"]]}],\"contourcarpet\":[{\"type\":\"contourcarpet\",\"colorbar\":{\"outlinewidth\":0,\"ticks\":\"\"}}],\"contour\":[{\"type\":\"contour\",\"colorbar\":{\"outlinewidth\":0,\"ticks\":\"\"},\"colorscale\":[[0.0,\"#0d0887\"],[0.1111111111111111,\"#46039f\"],[0.2222222222222222,\"#7201a8\"],[0.3333333333333333,\"#9c179e\"],[0.4444444444444444,\"#bd3786\"],[0.5555555555555556,\"#d8576b\"],[0.6666666666666666,\"#ed7953\"],[0.7777777777777778,\"#fb9f3a\"],[0.8888888888888888,\"#fdca26\"],[1.0,\"#f0f921\"]]}],\"surface\":[{\"type\":\"surface\",\"colorbar\":{\"outlinewidth\":0,\"ticks\":\"\"},\"colorscale\":[[0.0,\"#0d0887\"],[0.1111111111111111,\"#46039f\"],[0.2222222222222222,\"#7201a8\"],[0.3333333333333333,\"#9c179e\"],[0.4444444444444444,\"#bd3786\"],[0.5555555555555556,\"#d8576b\"],[0.6666666666666666,\"#ed7953\"],[0.7777777777777778,\"#fb9f3a\"],[0.8888888888888888,\"#fdca26\"],[1.0,\"#f0f921\"]]}],\"mesh3d\":[{\"type\":\"mesh3d\",\"colorbar\":{\"outlinewidth\":0,\"ticks\":\"\"}}],\"scatter\":[{\"fillpattern\":{\"fillmode\":\"overlay\",\"size\":10,\"solidity\":0.2},\"type\":\"scatter\"}],\"parcoords\":[{\"type\":\"parcoords\",\"line\":{\"colorbar\":{\"outlinewidth\":0,\"ticks\":\"\"}}}],\"scatterpolargl\":[{\"type\":\"scatterpolargl\",\"marker\":{\"colorbar\":{\"outlinewidth\":0,\"ticks\":\"\"}}}],\"bar\":[{\"error_x\":{\"color\":\"#2a3f5f\"},\"error_y\":{\"color\":\"#2a3f5f\"},\"marker\":{\"line\":{\"color\":\"#E5ECF6\",\"width\":0.5},\"pattern\":{\"fillmode\":\"overlay\",\"size\":10,\"solidity\":0.2}},\"type\":\"bar\"}],\"scattergeo\":[{\"type\":\"scattergeo\",\"marker\":{\"colorbar\":{\"outlinewidth\":0,\"ticks\":\"\"}}}],\"scatterpolar\":[{\"type\":\"scatterpolar\",\"marker\":{\"colorbar\":{\"outlinewidth\":0,\"ticks\":\"\"}}}],\"histogram\":[{\"marker\":{\"pattern\":{\"fillmode\":\"overlay\",\"size\":10,\"solidity\":0.2}},\"type\":\"histogram\"}],\"scattergl\":[{\"type\":\"scattergl\",\"marker\":{\"colorbar\":{\"outlinewidth\":0,\"ticks\":\"\"}}}],\"scatter3d\":[{\"type\":\"scatter3d\",\"line\":{\"colorbar\":{\"outlinewidth\":0,\"ticks\":\"\"}},\"marker\":{\"colorbar\":{\"outlinewidth\":0,\"ticks\":\"\"}}}],\"scattermapbox\":[{\"type\":\"scattermapbox\",\"marker\":{\"colorbar\":{\"outlinewidth\":0,\"ticks\":\"\"}}}],\"scatterternary\":[{\"type\":\"scatterternary\",\"marker\":{\"colorbar\":{\"outlinewidth\":0,\"ticks\":\"\"}}}],\"scattercarpet\":[{\"type\":\"scattercarpet\",\"marker\":{\"colorbar\":{\"outlinewidth\":0,\"ticks\":\"\"}}}],\"carpet\":[{\"aaxis\":{\"endlinecolor\":\"#2a3f5f\",\"gridcolor\":\"white\",\"linecolor\":\"white\",\"minorgridcolor\":\"white\",\"startlinecolor\":\"#2a3f5f\"},\"baxis\":{\"endlinecolor\":\"#2a3f5f\",\"gridcolor\":\"white\",\"linecolor\":\"white\",\"minorgridcolor\":\"white\",\"startlinecolor\":\"#2a3f5f\"},\"type\":\"carpet\"}],\"table\":[{\"cells\":{\"fill\":{\"color\":\"#EBF0F8\"},\"line\":{\"color\":\"white\"}},\"header\":{\"fill\":{\"color\":\"#C8D4E3\"},\"line\":{\"color\":\"white\"}},\"type\":\"table\"}],\"barpolar\":[{\"marker\":{\"line\":{\"color\":\"#E5ECF6\",\"width\":0.5},\"pattern\":{\"fillmode\":\"overlay\",\"size\":10,\"solidity\":0.2}},\"type\":\"barpolar\"}],\"pie\":[{\"automargin\":true,\"type\":\"pie\"}]},\"layout\":{\"autotypenumbers\":\"strict\",\"colorway\":[\"#636efa\",\"#EF553B\",\"#00cc96\",\"#ab63fa\",\"#FFA15A\",\"#19d3f3\",\"#FF6692\",\"#B6E880\",\"#FF97FF\",\"#FECB52\"],\"font\":{\"color\":\"#2a3f5f\"},\"hovermode\":\"closest\",\"hoverlabel\":{\"align\":\"left\"},\"paper_bgcolor\":\"white\",\"plot_bgcolor\":\"#E5ECF6\",\"polar\":{\"bgcolor\":\"#E5ECF6\",\"angularaxis\":{\"gridcolor\":\"white\",\"linecolor\":\"white\",\"ticks\":\"\"},\"radialaxis\":{\"gridcolor\":\"white\",\"linecolor\":\"white\",\"ticks\":\"\"}},\"ternary\":{\"bgcolor\":\"#E5ECF6\",\"aaxis\":{\"gridcolor\":\"white\",\"linecolor\":\"white\",\"ticks\":\"\"},\"baxis\":{\"gridcolor\":\"white\",\"linecolor\":\"white\",\"ticks\":\"\"},\"caxis\":{\"gridcolor\":\"white\",\"linecolor\":\"white\",\"ticks\":\"\"}},\"coloraxis\":{\"colorbar\":{\"outlinewidth\":0,\"ticks\":\"\"}},\"colorscale\":{\"sequential\":[[0.0,\"#0d0887\"],[0.1111111111111111,\"#46039f\"],[0.2222222222222222,\"#7201a8\"],[0.3333333333333333,\"#9c179e\"],[0.4444444444444444,\"#bd3786\"],[0.5555555555555556,\"#d8576b\"],[0.6666666666666666,\"#ed7953\"],[0.7777777777777778,\"#fb9f3a\"],[0.8888888888888888,\"#fdca26\"],[1.0,\"#f0f921\"]],\"sequentialminus\":[[0.0,\"#0d0887\"],[0.1111111111111111,\"#46039f\"],[0.2222222222222222,\"#7201a8\"],[0.3333333333333333,\"#9c179e\"],[0.4444444444444444,\"#bd3786\"],[0.5555555555555556,\"#d8576b\"],[0.6666666666666666,\"#ed7953\"],[0.7777777777777778,\"#fb9f3a\"],[0.8888888888888888,\"#fdca26\"],[1.0,\"#f0f921\"]],\"diverging\":[[0,\"#8e0152\"],[0.1,\"#c51b7d\"],[0.2,\"#de77ae\"],[0.3,\"#f1b6da\"],[0.4,\"#fde0ef\"],[0.5,\"#f7f7f7\"],[0.6,\"#e6f5d0\"],[0.7,\"#b8e186\"],[0.8,\"#7fbc41\"],[0.9,\"#4d9221\"],[1,\"#276419\"]]},\"xaxis\":{\"gridcolor\":\"white\",\"linecolor\":\"white\",\"ticks\":\"\",\"title\":{\"standoff\":15},\"zerolinecolor\":\"white\",\"automargin\":true,\"zerolinewidth\":2},\"yaxis\":{\"gridcolor\":\"white\",\"linecolor\":\"white\",\"ticks\":\"\",\"title\":{\"standoff\":15},\"zerolinecolor\":\"white\",\"automargin\":true,\"zerolinewidth\":2},\"scene\":{\"xaxis\":{\"backgroundcolor\":\"#E5ECF6\",\"gridcolor\":\"white\",\"linecolor\":\"white\",\"showbackground\":true,\"ticks\":\"\",\"zerolinecolor\":\"white\",\"gridwidth\":2},\"yaxis\":{\"backgroundcolor\":\"#E5ECF6\",\"gridcolor\":\"white\",\"linecolor\":\"white\",\"showbackground\":true,\"ticks\":\"\",\"zerolinecolor\":\"white\",\"gridwidth\":2},\"zaxis\":{\"backgroundcolor\":\"#E5ECF6\",\"gridcolor\":\"white\",\"linecolor\":\"white\",\"showbackground\":true,\"ticks\":\"\",\"zerolinecolor\":\"white\",\"gridwidth\":2}},\"shapedefaults\":{\"line\":{\"color\":\"#2a3f5f\"}},\"annotationdefaults\":{\"arrowcolor\":\"#2a3f5f\",\"arrowhead\":0,\"arrowwidth\":1},\"geo\":{\"bgcolor\":\"white\",\"landcolor\":\"#E5ECF6\",\"subunitcolor\":\"white\",\"showland\":true,\"showlakes\":true,\"lakecolor\":\"white\"},\"title\":{\"x\":0.05},\"mapbox\":{\"style\":\"light\"}}},\"xaxis\":{\"anchor\":\"y\",\"domain\":[0.0,1.0],\"title\":{\"text\":\"Year\"}},\"yaxis\":{\"anchor\":\"x\",\"domain\":[0.0,1.0],\"title\":{\"text\":\"Rankings\"},\"autorange\":\"reversed\"},\"legend\":{\"title\":{\"text\":\"University Names\"},\"tracegroupgap\":0},\"margin\":{\"t\":60},\"title\":{\"text\":\"Top 15 University ranks over years 2015, 2019, 2022\"}},                        {\"responsive\": true}                    ).then(function(){\n",
       "                            \n",
       "var gd = document.getElementById('4c420630-a7c9-4381-a117-d193908d61dc');\n",
       "var x = new MutationObserver(function (mutations, observer) {{\n",
       "        var display = window.getComputedStyle(gd).display;\n",
       "        if (!display || display === 'none') {{\n",
       "            console.log([gd, 'removed!']);\n",
       "            Plotly.purge(gd);\n",
       "            observer.disconnect();\n",
       "        }}\n",
       "}});\n",
       "\n",
       "// Listen for the removal of the full notebook cells\n",
       "var notebookContainer = gd.closest('#notebook-container');\n",
       "if (notebookContainer) {{\n",
       "    x.observe(notebookContainer, {childList: true});\n",
       "}}\n",
       "\n",
       "// Listen for the clearing of the current output cell\n",
       "var outputEl = gd.closest('.output');\n",
       "if (outputEl) {{\n",
       "    x.observe(outputEl, {childList: true});\n",
       "}}\n",
       "\n",
       "                        })                };                });            </script>        </div>"
      ]
     },
     "metadata": {},
     "output_type": "display_data"
    }
   ],
   "source": [
    "# plot the rankings 2015, 2019, 2022\n",
    "fig = px.line(merged_df, \n",
    "              x=\"year\", \n",
    "              y=\"rank\", \n",
    "              color=\"name\",\n",
    "              markers = True\n",
    "              )\n",
    "fig.update_layout(title=\"Top 15 University ranks over years 2015, 2019, 2022\",\n",
    "                  xaxis_title=\"Year\",\n",
    "                  yaxis_title=\"Rankings\",\n",
    "                  legend_title=\"University Names\"\n",
    "                 )\n",
    "fig.update_yaxes(autorange=\"reversed\")\n",
    "\n",
    "fig.show()"
   ]
  },
  {
   "cell_type": "code",
   "execution_count": 365,
   "id": "02a6f495",
   "metadata": {},
   "outputs": [],
   "source": [
    "df.to_csv(\"FinalProjectDraft.csv\")"
   ]
  }
 ],
 "metadata": {
  "kernelspec": {
   "display_name": "Python 3 (ipykernel)",
   "language": "python",
   "name": "python3"
  },
  "language_info": {
   "codemirror_mode": {
    "name": "ipython",
    "version": 3
   },
   "file_extension": ".py",
   "mimetype": "text/x-python",
   "name": "python",
   "nbconvert_exporter": "python",
   "pygments_lexer": "ipython3",
   "version": "3.11.2"
  }
 },
 "nbformat": 4,
 "nbformat_minor": 5
}
