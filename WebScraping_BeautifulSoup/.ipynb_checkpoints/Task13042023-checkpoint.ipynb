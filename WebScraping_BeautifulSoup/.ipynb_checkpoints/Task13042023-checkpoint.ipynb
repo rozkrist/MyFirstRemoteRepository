{
 "cells": [
  {
   "cell_type": "code",
   "execution_count": 1,
   "id": "abfe563e",
   "metadata": {},
   "outputs": [],
   "source": [
    "from bs4 import BeautifulSoup\n",
    "import requests\n",
    "response = requests.get(\"https://en.wikipedia.org/wiki/List_of_sovereign_states\")\n",
    "html_content = response.content\n",
    "soup = BeautifulSoup(html_content,\"html.parser\")\n",
    "table_countries = soup.find(\"table\")\n",
    "countries_rows = table_countries.find(\"tbody\").find_all(\"tr\")\n",
    "countries_rows[7].find_all(\"td\")[1].text.replace(\"A \",\"\").replace(\"\\n\",\"\")"
   ]
  },
  {
   "cell_type": "code",
   "execution_count": 2,
   "id": "2ca4e086",
   "metadata": {},
   "outputs": [],
   "source": [
    "countries_rows[7].find_all(\"td\")[0].find(\"a\")[\"href\"]"
   ]
  },
  {
   "cell_type": "code",
   "execution_count": 3,
   "id": "ed5675b1",
   "metadata": {},
   "outputs": [],
   "source": [
    "country_list = list()\n",
    "for country_row in countries_rows:\n",
    "    try:\n",
    "        columns = country_row.find_all(\"td\")\n",
    "        if columns[1].text.replace(\"A \",\"\").replace(\"\\n\",\"\") == 'UN member state':\n",
    "            country_a = columns[0].find(\"a\")\n",
    "            country_element = {\"title\":country_a[\"title\"],\"link\":country_a[\"href\"]}\n",
    "            country_list.append(country_element)\n",
    "    except:\n",
    "        pass"
   ]
  },
  {
   "cell_type": "code",
   "execution_count": 4,
   "id": "5b28293d",
   "metadata": {},
   "outputs": [],
   "source": [
    "# country = country_list[0]\n",
    "# response = requests.get(\"https://en.wikipedia.org\" + country[\"link\"])\n",
    "# content = response.content\n",
    "# soup_afgh = BeautifulSoup(content)\n",
    "# div_content_element = soup_afgh.find(\"div\",{\"id\":\"mw-content-text\"}).find(class_=\"mw-parser-output\")\n",
    "# start = False\n",
    "# text = country[\"title\"] + \"\\n\"\n",
    "# for element in div_content_element:\n",
    "#     if start == True and element.name == \"p\":\n",
    "#         text += element.text\n",
    "#     elif element.name == \"table\":\n",
    "#         start = True\n",
    "#     elif element.name == \"metadata\":\n",
    "#         break\n",
    "    \n",
    "        \n",
    "# with open(country[\"title\"]+\".txt\",\"w\",encoding=\"utf8\") as f:\n",
    "#     f.write(text)"
   ]
  },
  {
   "cell_type": "code",
   "execution_count": 5,
   "id": "10ec7c26",
   "metadata": {},
   "outputs": [],
   "source": [
    "def get_country_main_info(country):\n",
    "    response = requests.get(\"https://en.wikipedia.org\" + country[\"link\"])\n",
    "    content = response.content\n",
    "    soup = BeautifulSoup(content)\n",
    "    start = False\n",
    "    text = country[\"title\"] + \"\\n\"\n",
    "    div_content_element = soup.find(\"div\",{\"id\":\"mw-content-text\"}).find(class_=\"mw-parser-output\")\n",
    "    for element in div_content_element:\n",
    "        if start == True and element.name == \"p\":\n",
    "            text += element.text\n",
    "        elif element.name == \"table\":\n",
    "            start = True\n",
    "        elif element.name == \"metadata\":\n",
    "            break\n",
    "    return text"
   ]
  },
  {
   "cell_type": "code",
   "execution_count": 6,
   "id": "10070426",
   "metadata": {},
   "outputs": [],
   "source": [
    "file_text= \"\"\n",
    "for country in country_list:\n",
    "    country_text = get_country_main_info(country)\n",
    "    if file_text == \"\":\n",
    "        file_text = country_text\n",
    "    else:\n",
    "        file_text += \"\\n\" + country_text\n",
    "with open(\"All_countries_summary.txt\",\"w\",encoding=\"utf8\") as f:\n",
    "    f.write(file_text)\n",
    "country_tables = list()\n",
    "def get_country_table(country):\n",
    "    response = requests.get(\"https://en.wikipedia.org\" + country[\"link\"])\n",
    "    content = response.content\n",
    "    soup = BeautifulSoup(content)\n",
    "    table = soup.find(\"table\",class_=\"infobox ib-country vcard\")\n",
    "    return table\n",
    "for country in country_list:\n",
    "    country_tables.append(get_country_table(country))\n",
    "# output_html_content = \"\"\n",
    "# for country_tab in country_tables:\n",
    "#     output_html_content += str(country_tab).replace(\"//\",\"https://\")\n",
    "# soup_out = BeautifulSoup(output_html_content,\"html.parser\")\n",
    "# with open(\"countries_table.html\",\"w\",encoding=\"utf8\") as f:\n",
    "#     f.write(str(soup_out))"
   ]
  },
  {
   "cell_type": "code",
   "execution_count": 9,
   "id": "7499ca6d",
   "metadata": {},
   "outputs": [],
   "source": [
    "import pandas"
   ]
  },
  {
   "cell_type": "code",
   "execution_count": 8,
   "id": "b1aaa7e6",
   "metadata": {},
   "outputs": [],
   "source": [
    "# df = pandas.DataFrame(columns=[\"Country\",\"Capital\",\"Demonym\",\"Population\",\"Area\"])"
   ]
  },
  {
   "cell_type": "code",
   "execution_count": 10,
   "id": "1151c7c2",
   "metadata": {},
   "outputs": [],
   "source": [
    "# df.append( {\"Country\": \"Latvia\",\"Capital\":\"Riga\",\"Demonym\":\"Latvian\",\"Population\":2000000,\"Area\":64000},ignore_index=True)"
   ]
  },
  {
   "cell_type": "code",
   "execution_count": 11,
   "id": "647203e9",
   "metadata": {},
   "outputs": [],
   "source": [
    "# country_tab = country_tables[20] "
   ]
  },
  {
   "cell_type": "code",
   "execution_count": 12,
   "id": "7002ebc6",
   "metadata": {},
   "outputs": [],
   "source": [
    "# name = country_tab.find(class_=\"fn org country-name\").text"
   ]
  },
  {
   "cell_type": "code",
   "execution_count": 13,
   "id": "231ab250",
   "metadata": {},
   "outputs": [],
   "source": [
    "# rows = country_tab.find_all(\"tr\")"
   ]
  },
  {
   "cell_type": "code",
   "execution_count": 14,
   "id": "c9b5ba45",
   "metadata": {},
   "outputs": [],
   "source": [
    "# for row in rows:\n",
    "#     try:\n",
    "#         head = row.find(\"th\")\n",
    "#         if head.text == \"Capital\":\n",
    "#             capitals = row.find(\"td\").find_all(\"a\")\n",
    "#             capital_text = \"\"\n",
    "#             for capital in capitals:\n",
    "#                 if capital_text == \"\":\n",
    "#                     capital_text = capital[\"title\"]\n",
    "#                 else:\n",
    "#                     capital_text += \";\" + capital[\"title\"]\n",
    "#         elif head.find(\"a\")[\"title\"] == \"Demonym\":\n",
    "#             denonym = row.find(\"td\").find(\"a\").text\n",
    "#     except:\n",
    "#         pass"
   ]
  },
  {
   "cell_type": "code",
   "execution_count": 15,
   "id": "43a3a78c",
   "metadata": {},
   "outputs": [],
   "source": [
    "# capital_text"
   ]
  },
  {
   "cell_type": "code",
   "execution_count": 16,
   "id": "fbfc2758",
   "metadata": {},
   "outputs": [],
   "source": [
    "# mrg_top_rows = country_tab.find_all(class_=\"mergedtoprow\")"
   ]
  },
  {
   "cell_type": "code",
   "execution_count": 17,
   "id": "da869d0d",
   "metadata": {},
   "outputs": [],
   "source": [
    "# for mrg_top_row in mrg_top_rows:\n",
    "#     try:\n",
    "#         text = mrg_top_row.find(\"a\").text.replace(\" \",\"\").replace(\"\\n\",\"\")\n",
    "#         if text == \"Area\":\n",
    "#             area_row = mrg_top_row.next_sibling\n",
    "#         elif text == \"Population\":\n",
    "#             population_row = mrg_top_row.next_sibling\n",
    "#     except:\n",
    "#         pass"
   ]
  },
  {
   "cell_type": "code",
   "execution_count": null,
   "id": "c46661cc",
   "metadata": {},
   "outputs": [],
   "source": [
    "# area = int(area_row.find(\"td\").text.split(\"\\xa0\")[0].replace(\",\",\"\"))"
   ]
  },
  {
   "cell_type": "code",
   "execution_count": null,
   "id": "8ee2fdd8",
   "metadata": {},
   "outputs": [],
   "source": [
    "# area\n"
   ]
  },
  {
   "cell_type": "code",
   "execution_count": null,
   "id": "58e549bc",
   "metadata": {},
   "outputs": [],
   "source": [
    "# population = population_row.find(\"td\").text.replace(\",\",\"\").split(\"[\")[0]"
   ]
  },
  {
   "cell_type": "code",
   "execution_count": null,
   "id": "21cb87b9",
   "metadata": {},
   "outputs": [],
   "source": [
    "# denonym"
   ]
  },
  {
   "cell_type": "code",
   "execution_count": null,
   "id": "86af0e26",
   "metadata": {},
   "outputs": [],
   "source": [
    "def get_country_details(country_tab):\n",
    "    name = country_tab.find(class_=\"fn org country-name\").text\n",
    "    rows = country_tab.find_all(\"tr\")\n",
    "    denonym = \"\"\n",
    "    for row in rows:\n",
    "        try:\n",
    "            head = row.find(\"th\")\n",
    "            if \"Capital\" in head.text:\n",
    "                capitals = row.find(\"td\").find_all(\"a\")\n",
    "                capital_text = \"\"\n",
    "                for capital in capitals:\n",
    "                    if capital_text == \"\":\n",
    "                        capital_text = capital[\"title\"]\n",
    "                    else:\n",
    "                        capital_text += \";\" + capital[\"title\"]\n",
    "            elif head.find(\"a\")[\"title\"] == \"Demonym\":\n",
    "                den_col = row.find(\"td\")\n",
    "                \n",
    "                col = row.find(\"td\")\n",
    "                a = col.find(\"a\")\n",
    "                sup = col.find(\"sup\")\n",
    "                li = col.find(\"li\")\n",
    "                \n",
    "                if not a == None:\n",
    "                    if not a.text[0] == \"[\":\n",
    "                        denonym = a.text\n",
    "                elif not li == None:\n",
    "                    denonym = li.text\n",
    "                else:\n",
    "                    denonym = col.find(\"br\").previous_sibling.text\n",
    "                    \n",
    "                if denonym == \"\":\n",
    "                    denonym = col.text\n",
    "        except:\n",
    "            pass\n",
    "    mrg_top_rows = country_tab.find_all(class_=\"mergedtoprow\")\n",
    "    for mrg_top_row in mrg_top_rows:\n",
    "        try:\n",
    "            \n",
    "            a = mrg_top_row.find(\"a\")\n",
    "            text = \"\"\n",
    "            \n",
    "            if not a == None:\n",
    "                text = a.text.replace(\" \",\"\").replace(\"\\n\",\"\")\n",
    "            else:\n",
    "                text = mrg_top_row.find(\"th\").text\n",
    "            \n",
    "            if text == \"Area\":\n",
    "                area_row = mrg_top_row.next_sibling\n",
    "            elif text == \"Population\":\n",
    "                population_row = mrg_top_row.next_sibling\n",
    "        except:\n",
    "            pass\n",
    "        \n",
    "    area = float(area_row.find(\"td\").text.split(\"–\")[0].split(\"\\xa0\")[0].split(\"[\")[0].replace(\",\",\"\"))\n",
    "    try:\n",
    "        population = int(population_row.find(\"td\").text.replace(\",\",\"\").split(\"[\")[0].split(\"(\")[0])\n",
    "\n",
    "    except:\n",
    "        population = 0\n",
    "    \n",
    "    return {\"Country\": name,\"Capital\":capital_text,\n",
    "             \"Demonym\":denonym,\n",
    "            \"Population\":population,\"Area\":area}"
   ]
  },
  {
   "cell_type": "code",
   "execution_count": 18,
   "id": "5ebaf090",
   "metadata": {},
   "outputs": [],
   "source": [
    "df = pandas.DataFrame(columns=[\"Country\",\"Capital\",\"Demonym\",\"Population\",\"Area\"])\n",
    "for tab_country in country_tables:\n",
    "#     try:\n",
    "        row = pandas.DataFrame(get_country_details(tab_country),index=[0])\n",
    "        df = pandas.concat([df,row],ignore_index=True)\n",
    "#     except:\n",
    "#         pass"
   ]
  },
  {
   "cell_type": "code",
   "execution_count": 19,
   "id": "5bc19edf",
   "metadata": {},
   "outputs": [],
   "source": [
    "with pandas.option_context('display.max_rows', None,\n",
    "                       'display.max_columns', None,\n",
    "                       'display.precision', 3,\n",
    "                       ):\n",
    "    display(df)"
   ]
  },
  {
   "cell_type": "code",
   "execution_count": 20,
   "id": "4e7db37b",
   "metadata": {},
   "outputs": [],
   "source": [
    "country = country_list[150]"
   ]
  },
  {
   "cell_type": "code",
   "execution_count": 21,
   "id": "1e95dcd5",
   "metadata": {},
   "outputs": [],
   "source": [
    "country"
   ]
  },
  {
   "cell_type": "code",
   "execution_count": null,
   "id": "5ccd05d0",
   "metadata": {},
   "outputs": [],
   "source": []
  }
 ],
 "metadata": {
  "kernelspec": {
   "display_name": "Python 3 (ipykernel)",
   "language": "python",
   "name": "python3"
  },
  "language_info": {
   "codemirror_mode": {
    "name": "ipython",
    "version": 3
   },
   "file_extension": ".py",
   "mimetype": "text/x-python",
   "name": "python",
   "nbconvert_exporter": "python",
   "pygments_lexer": "ipython3",
   "version": "3.11.2"
  }
 },
 "nbformat": 4,
 "nbformat_minor": 5
}
